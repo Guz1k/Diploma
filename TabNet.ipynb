{
 "cells": [
  {
   "cell_type": "code",
   "execution_count": 1,
   "metadata": {
    "collapsed": true
   },
   "outputs": [],
   "source": [
    "import pytorch_tabnet\n",
    "import pandas as pd\n",
    "import numpy as np\n",
    "import sklearn.metrics\n",
    "from pytorch_tabnet.tab_model import TabNetClassifier\n",
    "from sklearn.model_selection import RepeatedKFold\n",
    "from sklearn.model_selection import cross_validate\n",
    "import torch\n",
    "from sklearn.preprocessing import LabelEncoder\n",
    "from sklearn.metrics import roc_auc_score, accuracy_score\n",
    "from sklearn.model_selection import train_test_split"
   ]
  },
  {
   "cell_type": "code",
   "execution_count": 2,
   "outputs": [],
   "source": [
    "pd.options.display.max_rows = 96\n",
    "df = pd.read_csv(\"data.csv\")\n",
    "X = df.drop('Bankrupt?', axis=1).to_numpy()\n",
    "y = df.loc[:,'Bankrupt?'].to_numpy()\n",
    "x_train, x_test, y_train, y_test = train_test_split(X, y, test_size=0.20, random_state = 1)"
   ],
   "metadata": {
    "collapsed": false,
    "pycharm": {
     "name": "#%%\n"
    }
   }
  },
  {
   "cell_type": "code",
   "execution_count": 3,
   "outputs": [
    {
     "name": "stderr",
     "output_type": "stream",
     "text": [
      "C:\\Users\\guzra\\PycharmProjects\\Diploma\\files\\lib\\site-packages\\pytorch_tabnet\\abstract_model.py:75: UserWarning: Device used : cpu\n",
      "  warnings.warn(f\"Device used : {self.device}\")\n"
     ]
    },
    {
     "name": "stdout",
     "output_type": "stream",
     "text": [
      "epoch 0  | loss: 0.48154 | train_accuracy: 0.9681  | train_balanced_accuracy: 0.49962 | test_accuracy: 0.96188 | test_balanced_accuracy: 0.49924 |  0:00:22s\n",
      "epoch 1  | loss: 0.32994 | train_accuracy: 0.9681  | train_balanced_accuracy: 0.49962 | test_accuracy: 0.96261 | test_balanced_accuracy: 0.49962 |  0:00:37s\n",
      "epoch 2  | loss: 0.29035 | train_accuracy: 0.96884 | train_balanced_accuracy: 0.5     | test_accuracy: 0.96334 | test_balanced_accuracy: 0.5     |  0:00:51s\n",
      "epoch 3  | loss: 0.24728 | train_accuracy: 0.96884 | train_balanced_accuracy: 0.5     | test_accuracy: 0.96334 | test_balanced_accuracy: 0.5     |  0:01:01s\n",
      "epoch 4  | loss: 0.23532 | train_accuracy: 0.96884 | train_balanced_accuracy: 0.5     | test_accuracy: 0.96334 | test_balanced_accuracy: 0.5     |  0:01:15s\n",
      "epoch 5  | loss: 0.22896 | train_accuracy: 0.96884 | train_balanced_accuracy: 0.5     | test_accuracy: 0.96334 | test_balanced_accuracy: 0.5     |  0:01:31s\n",
      "epoch 6  | loss: 0.24284 | train_accuracy: 0.96884 | train_balanced_accuracy: 0.5     | test_accuracy: 0.96334 | test_balanced_accuracy: 0.5     |  0:01:42s\n",
      "epoch 7  | loss: 0.22622 | train_accuracy: 0.96884 | train_balanced_accuracy: 0.5     | test_accuracy: 0.96334 | test_balanced_accuracy: 0.5     |  0:02:03s\n",
      "epoch 8  | loss: 0.228   | train_accuracy: 0.96884 | train_balanced_accuracy: 0.5     | test_accuracy: 0.96334 | test_balanced_accuracy: 0.5     |  0:02:17s\n",
      "epoch 9  | loss: 0.21882 | train_accuracy: 0.96884 | train_balanced_accuracy: 0.5     | test_accuracy: 0.96334 | test_balanced_accuracy: 0.5     |  0:02:28s\n",
      "epoch 10 | loss: 0.20343 | train_accuracy: 0.96884 | train_balanced_accuracy: 0.5     | test_accuracy: 0.96334 | test_balanced_accuracy: 0.5     |  0:02:43s\n",
      "epoch 11 | loss: 0.20279 | train_accuracy: 0.96884 | train_balanced_accuracy: 0.5     | test_accuracy: 0.96334 | test_balanced_accuracy: 0.5     |  0:02:58s\n",
      "epoch 12 | loss: 0.18399 | train_accuracy: 0.96939 | train_balanced_accuracy: 0.51167 | test_accuracy: 0.96554 | test_balanced_accuracy: 0.53    |  0:03:13s\n",
      "epoch 13 | loss: 0.18723 | train_accuracy: 0.96902 | train_balanced_accuracy: 0.50579 | test_accuracy: 0.96554 | test_balanced_accuracy: 0.53962 |  0:03:24s\n",
      "epoch 14 | loss: 0.17081 | train_accuracy: 0.96902 | train_balanced_accuracy: 0.50579 | test_accuracy: 0.96481 | test_balanced_accuracy: 0.52    |  0:03:42s\n",
      "epoch 15 | loss: 0.16747 | train_accuracy: 0.96829 | train_balanced_accuracy: 0.53672 | test_accuracy: 0.96701 | test_balanced_accuracy: 0.56924 |  0:03:53s\n",
      "epoch 16 | loss: 0.16184 | train_accuracy: 0.96847 | train_balanced_accuracy: 0.56813 | test_accuracy: 0.96701 | test_balanced_accuracy: 0.5981  |  0:04:05s\n",
      "epoch 17 | loss: 0.16623 | train_accuracy: 0.96829 | train_balanced_accuracy: 0.53388 | test_accuracy: 0.96774 | test_balanced_accuracy: 0.56962 |  0:04:16s\n",
      "epoch 18 | loss: 0.16447 | train_accuracy: 0.9692  | train_balanced_accuracy: 0.52865 | test_accuracy: 0.96188 | test_balanced_accuracy: 0.5281  |  0:04:31s\n",
      "epoch 19 | loss: 0.15175 | train_accuracy: 0.96737 | train_balanced_accuracy: 0.53056 | test_accuracy: 0.96041 | test_balanced_accuracy: 0.51772 |  0:04:40s\n",
      "epoch 20 | loss: 0.15203 | train_accuracy: 0.967   | train_balanced_accuracy: 0.57876 | test_accuracy: 0.96114 | test_balanced_accuracy: 0.55658 |  0:04:55s\n",
      "epoch 21 | loss: 0.14221 | train_accuracy: 0.96884 | train_balanced_accuracy: 0.58255 | test_accuracy: 0.96334 | test_balanced_accuracy: 0.56734 |  0:05:05s\n",
      "epoch 22 | loss: 0.14452 | train_accuracy: 0.967   | train_balanced_accuracy: 0.61292 | test_accuracy: 0.96114 | test_balanced_accuracy: 0.58543 |  0:05:19s\n",
      "epoch 23 | loss: 0.14971 | train_accuracy: 0.96627 | train_balanced_accuracy: 0.70648 | test_accuracy: 0.95381 | test_balanced_accuracy: 0.60087 |  0:05:34s\n",
      "epoch 24 | loss: 0.13898 | train_accuracy: 0.96957 | train_balanced_accuracy: 0.7281  | test_accuracy: 0.95601 | test_balanced_accuracy: 0.60201 |  0:05:49s\n",
      "epoch 25 | loss: 0.13008 | train_accuracy: 0.96865 | train_balanced_accuracy: 0.7134  | test_accuracy: 0.95894 | test_balanced_accuracy: 0.61315 |  0:06:01s\n",
      "epoch 26 | loss: 0.12708 | train_accuracy: 0.96004 | train_balanced_accuracy: 0.85128 | test_accuracy: 0.94208 | test_balanced_accuracy: 0.66212 |  0:06:15s\n",
      "epoch 27 | loss: 0.13869 | train_accuracy: 0.96774 | train_balanced_accuracy: 0.80402 | test_accuracy: 0.94721 | test_balanced_accuracy: 0.6263  |  0:06:29s\n",
      "epoch 28 | loss: 0.11542 | train_accuracy: 0.97085 | train_balanced_accuracy: 0.81701 | test_accuracy: 0.94282 | test_balanced_accuracy: 0.63364 |  0:06:39s\n",
      "epoch 29 | loss: 0.11242 | train_accuracy: 0.97397 | train_balanced_accuracy: 0.78161 | test_accuracy: 0.95308 | test_balanced_accuracy: 0.62935 |  0:06:54s\n",
      "epoch 30 | loss: 0.11563 | train_accuracy: 0.97085 | train_balanced_accuracy: 0.85117 | test_accuracy: 0.94795 | test_balanced_accuracy: 0.69402 |  0:07:09s\n",
      "epoch 31 | loss: 0.10133 | train_accuracy: 0.97489 | train_balanced_accuracy: 0.85325 | test_accuracy: 0.94795 | test_balanced_accuracy: 0.6363  |  0:07:23s\n",
      "epoch 32 | loss: 0.11754 | train_accuracy: 0.9703  | train_balanced_accuracy: 0.87366 | test_accuracy: 0.94282 | test_balanced_accuracy: 0.6625  |  0:07:33s\n",
      "epoch 33 | loss: 0.12497 | train_accuracy: 0.97177 | train_balanced_accuracy: 0.87441 | test_accuracy: 0.94428 | test_balanced_accuracy: 0.6825  |  0:07:47s\n",
      "epoch 34 | loss: 0.1204  | train_accuracy: 0.97342 | train_balanced_accuracy: 0.89519 | test_accuracy: 0.94575 | test_balanced_accuracy: 0.66402 |  0:07:57s\n",
      "epoch 35 | loss: 0.10874 | train_accuracy: 0.97159 | train_balanced_accuracy: 0.90563 | test_accuracy: 0.94795 | test_balanced_accuracy: 0.67478 |  0:08:10s\n",
      "epoch 36 | loss: 0.12696 | train_accuracy: 0.9736  | train_balanced_accuracy: 0.87251 | test_accuracy: 0.94428 | test_balanced_accuracy: 0.65364 |  0:08:20s\n",
      "epoch 37 | loss: 0.11171 | train_accuracy: 0.97397 | train_balanced_accuracy: 0.92109 | test_accuracy: 0.94721 | test_balanced_accuracy: 0.69364 |  0:08:29s\n",
      "epoch 38 | loss: 0.09441 | train_accuracy: 0.9791  | train_balanced_accuracy: 0.9152  | test_accuracy: 0.95015 | test_balanced_accuracy: 0.68554 |  0:08:43s\n",
      "epoch 39 | loss: 0.10557 | train_accuracy: 0.97049 | train_balanced_accuracy: 0.95061 | test_accuracy: 0.93622 | test_balanced_accuracy: 0.70717 |  0:08:58s\n",
      "epoch 40 | loss: 0.08887 | train_accuracy: 0.97764 | train_balanced_accuracy: 0.95715 | test_accuracy: 0.95161 | test_balanced_accuracy: 0.7344  |  0:09:15s\n",
      "epoch 41 | loss: 0.09486 | train_accuracy: 0.9747  | train_balanced_accuracy: 0.93855 | test_accuracy: 0.94721 | test_balanced_accuracy: 0.70326 |  0:09:36s\n",
      "epoch 42 | loss: 0.09353 | train_accuracy: 0.98148 | train_balanced_accuracy: 0.92213 | test_accuracy: 0.95308 | test_balanced_accuracy: 0.68706 |  0:09:46s\n",
      "epoch 43 | loss: 0.09421 | train_accuracy: 0.98002 | train_balanced_accuracy: 0.90714 | test_accuracy: 0.94941 | test_balanced_accuracy: 0.67554 |  0:09:53s\n",
      "epoch 44 | loss: 0.09605 | train_accuracy: 0.97965 | train_balanced_accuracy: 0.93826 | test_accuracy: 0.94501 | test_balanced_accuracy: 0.6925  |  0:09:59s\n",
      "epoch 45 | loss: 0.08478 | train_accuracy: 0.97929 | train_balanced_accuracy: 0.95515 | test_accuracy: 0.94868 | test_balanced_accuracy: 0.67516 |  0:10:06s\n",
      "epoch 46 | loss: 0.07764 | train_accuracy: 0.98423 | train_balanced_accuracy: 0.93778 | test_accuracy: 0.95601 | test_balanced_accuracy: 0.68858 |  0:10:15s\n",
      "epoch 47 | loss: 0.07491 | train_accuracy: 0.97415 | train_balanced_accuracy: 0.97243 | test_accuracy: 0.94575 | test_balanced_accuracy: 0.75059 |  0:10:21s\n",
      "epoch 48 | loss: 0.07864 | train_accuracy: 0.98002 | train_balanced_accuracy: 0.90714 | test_accuracy: 0.94795 | test_balanced_accuracy: 0.69402 |  0:10:28s\n",
      "epoch 49 | loss: 0.08496 | train_accuracy: 0.98368 | train_balanced_accuracy: 0.95173 | test_accuracy: 0.94721 | test_balanced_accuracy: 0.66478 |  0:10:36s\n",
      "epoch 50 | loss: 0.08166 | train_accuracy: 0.97819 | train_balanced_accuracy: 0.95743 | test_accuracy: 0.95235 | test_balanced_accuracy: 0.71554 |  0:10:39s\n",
      "epoch 51 | loss: 0.08415 | train_accuracy: 0.98002 | train_balanced_accuracy: 0.94414 | test_accuracy: 0.94282 | test_balanced_accuracy: 0.65288 |  0:10:41s\n",
      "epoch 52 | loss: 0.07193 | train_accuracy: 0.98368 | train_balanced_accuracy: 0.95742 | test_accuracy: 0.94648 | test_balanced_accuracy: 0.65478 |  0:10:44s\n",
      "epoch 53 | loss: 0.07612 | train_accuracy: 0.9824  | train_balanced_accuracy: 0.96815 | test_accuracy: 0.95088 | test_balanced_accuracy: 0.70516 |  0:10:50s\n",
      "epoch 54 | loss: 0.07073 | train_accuracy: 0.98515 | train_balanced_accuracy: 0.97526 | test_accuracy: 0.94868 | test_balanced_accuracy: 0.66554 |  0:10:54s\n",
      "epoch 55 | loss: 0.07975 | train_accuracy: 0.98075 | train_balanced_accuracy: 0.97868 | test_accuracy: 0.94501 | test_balanced_accuracy: 0.70212 |  0:10:57s\n",
      "epoch 56 | loss: 0.07295 | train_accuracy: 0.98203 | train_balanced_accuracy: 0.96796 | test_accuracy: 0.94575 | test_balanced_accuracy: 0.66402 |  0:11:00s\n",
      "epoch 57 | loss: 0.06556 | train_accuracy: 0.98405 | train_balanced_accuracy: 0.97184 | test_accuracy: 0.95015 | test_balanced_accuracy: 0.67592 |  0:11:04s\n",
      "epoch 58 | loss: 0.07136 | train_accuracy: 0.97837 | train_balanced_accuracy: 0.98314 | test_accuracy: 0.93768 | test_balanced_accuracy: 0.68869 |  0:11:12s\n",
      "epoch 59 | loss: 0.07962 | train_accuracy: 0.9824  | train_balanced_accuracy: 0.97953 | test_accuracy: 0.93915 | test_balanced_accuracy: 0.69907 |  0:11:15s\n",
      "epoch 60 | loss: 0.06756 | train_accuracy: 0.98497 | train_balanced_accuracy: 0.9837  | test_accuracy: 0.94575 | test_balanced_accuracy: 0.67364 |  0:11:17s\n",
      "epoch 61 | loss: 0.05582 | train_accuracy: 0.98295 | train_balanced_accuracy: 0.9912  | test_accuracy: 0.94282 | test_balanced_accuracy: 0.70097 |  0:11:21s\n",
      "epoch 62 | loss: 0.06424 | train_accuracy: 0.98038 | train_balanced_accuracy: 0.98703 | test_accuracy: 0.94428 | test_balanced_accuracy: 0.72097 |  0:11:23s\n",
      "epoch 63 | loss: 0.06021 | train_accuracy: 0.9901  | train_balanced_accuracy: 0.96643 | test_accuracy: 0.95748 | test_balanced_accuracy: 0.67973 |  0:11:25s\n",
      "epoch 64 | loss: 0.06479 | train_accuracy: 0.98387 | train_balanced_accuracy: 0.98883 | test_accuracy: 0.94355 | test_balanced_accuracy: 0.70135 |  0:11:26s\n",
      "epoch 65 | loss: 0.05767 | train_accuracy: 0.98588 | train_balanced_accuracy: 0.96994 | test_accuracy: 0.95015 | test_balanced_accuracy: 0.67592 |  0:11:28s\n",
      "epoch 66 | loss: 0.05934 | train_accuracy: 0.9857  | train_balanced_accuracy: 0.97554 | test_accuracy: 0.95235 | test_balanced_accuracy: 0.6963  |  0:11:30s\n",
      "epoch 67 | loss: 0.05058 | train_accuracy: 0.9824  | train_balanced_accuracy: 0.99092 | test_accuracy: 0.94428 | test_balanced_accuracy: 0.71135 |  0:11:32s\n",
      "epoch 68 | loss: 0.06437 | train_accuracy: 0.98882 | train_balanced_accuracy: 0.9743  | test_accuracy: 0.95235 | test_balanced_accuracy: 0.65782 |  0:11:35s\n",
      "epoch 69 | loss: 0.05428 | train_accuracy: 0.989   | train_balanced_accuracy: 0.94878 | test_accuracy: 0.95748 | test_balanced_accuracy: 0.66049 |  0:11:37s\n",
      "epoch 70 | loss: 0.05769 | train_accuracy: 0.98662 | train_balanced_accuracy: 0.99025 | test_accuracy: 0.95161 | test_balanced_accuracy: 0.6863  |  0:11:38s\n",
      "epoch 71 | loss: 0.04418 | train_accuracy: 0.98735 | train_balanced_accuracy: 0.99347 | test_accuracy: 0.95015 | test_balanced_accuracy: 0.70478 |  0:11:40s\n",
      "epoch 72 | loss: 0.05962 | train_accuracy: 0.98937 | train_balanced_accuracy: 0.97743 | test_accuracy: 0.95455 | test_balanced_accuracy: 0.66858 |  0:11:43s\n",
      "epoch 73 | loss: 0.05925 | train_accuracy: 0.99138 | train_balanced_accuracy: 0.98701 | test_accuracy: 0.95528 | test_balanced_accuracy: 0.66896 |  0:11:45s\n",
      "epoch 74 | loss: 0.04681 | train_accuracy: 0.989   | train_balanced_accuracy: 0.98294 | test_accuracy: 0.95088 | test_balanced_accuracy: 0.68592 |  0:11:46s\n",
      "epoch 75 | loss: 0.04696 | train_accuracy: 0.99267 | train_balanced_accuracy: 0.97344 | test_accuracy: 0.95821 | test_balanced_accuracy: 0.65125 |  0:11:48s\n",
      "epoch 76 | loss: 0.04877 | train_accuracy: 0.9912  | train_balanced_accuracy: 0.97838 | test_accuracy: 0.95381 | test_balanced_accuracy: 0.6682  |  0:11:51s\n",
      "epoch 77 | loss: 0.04685 | train_accuracy: 0.98973 | train_balanced_accuracy: 0.98901 | test_accuracy: 0.95088 | test_balanced_accuracy: 0.65706 |  0:11:53s\n",
      "epoch 78 | loss: 0.04707 | train_accuracy: 0.98882 | train_balanced_accuracy: 0.98854 | test_accuracy: 0.95015 | test_balanced_accuracy: 0.68554 |  0:11:55s\n",
      "epoch 79 | loss: 0.04489 | train_accuracy: 0.9912  | train_balanced_accuracy: 0.98692 | test_accuracy: 0.95528 | test_balanced_accuracy: 0.65935 |  0:11:58s\n",
      "epoch 80 | loss: 0.04642 | train_accuracy: 0.98772 | train_balanced_accuracy: 0.99081 | test_accuracy: 0.94575 | test_balanced_accuracy: 0.69288 |  0:12:00s\n",
      "epoch 81 | loss: 0.05245 | train_accuracy: 0.99303 | train_balanced_accuracy: 0.98502 | test_accuracy: 0.95308 | test_balanced_accuracy: 0.64858 |  0:12:01s\n",
      "epoch 82 | loss: 0.05073 | train_accuracy: 0.98973 | train_balanced_accuracy: 0.96908 | test_accuracy: 0.95088 | test_balanced_accuracy: 0.63782 |  0:12:03s\n",
      "epoch 83 | loss: 0.04652 | train_accuracy: 0.98625 | train_balanced_accuracy: 0.98436 | test_accuracy: 0.94575 | test_balanced_accuracy: 0.71212 |  0:12:06s\n",
      "epoch 84 | loss: 0.03993 | train_accuracy: 0.98937 | train_balanced_accuracy: 0.98882 | test_accuracy: 0.95015 | test_balanced_accuracy: 0.65668 |  0:12:08s\n",
      "epoch 85 | loss: 0.04316 | train_accuracy: 0.99358 | train_balanced_accuracy: 0.991   | test_accuracy: 0.95381 | test_balanced_accuracy: 0.64896 |  0:12:10s\n",
      "epoch 86 | loss: 0.03649 | train_accuracy: 0.99285 | train_balanced_accuracy: 0.97923 | test_accuracy: 0.95161 | test_balanced_accuracy: 0.64782 |  0:12:12s\n",
      "epoch 87 | loss: 0.03684 | train_accuracy: 0.98955 | train_balanced_accuracy: 0.99176 | test_accuracy: 0.94868 | test_balanced_accuracy: 0.6944  |  0:12:14s\n",
      "epoch 88 | loss: 0.03968 | train_accuracy: 0.99193 | train_balanced_accuracy: 0.99299 | test_accuracy: 0.94868 | test_balanced_accuracy: 0.65592 |  0:12:17s\n",
      "epoch 89 | loss: 0.04502 | train_accuracy: 0.99303 | train_balanced_accuracy: 0.98787 | test_accuracy: 0.94941 | test_balanced_accuracy: 0.63706 |  0:12:19s\n",
      "epoch 90 | loss: 0.03824 | train_accuracy: 0.99102 | train_balanced_accuracy: 0.98682 | test_accuracy: 0.94721 | test_balanced_accuracy: 0.65516 |  0:12:21s\n",
      "epoch 91 | loss: 0.03397 | train_accuracy: 0.99267 | train_balanced_accuracy: 0.98768 | test_accuracy: 0.95748 | test_balanced_accuracy: 0.66049 |  0:12:24s\n",
      "epoch 92 | loss: 0.04545 | train_accuracy: 0.99047 | train_balanced_accuracy: 0.99508 | test_accuracy: 0.94941 | test_balanced_accuracy: 0.69478 |  0:12:26s\n",
      "epoch 93 | loss: 0.03596 | train_accuracy: 0.99083 | train_balanced_accuracy: 0.99527 | test_accuracy: 0.95528 | test_balanced_accuracy: 0.71706 |  0:12:28s\n",
      "epoch 94 | loss: 0.03626 | train_accuracy: 0.99487 | train_balanced_accuracy: 0.99166 | test_accuracy: 0.95601 | test_balanced_accuracy: 0.65011 |  0:12:29s\n",
      "epoch 95 | loss: 0.03487 | train_accuracy: 0.98973 | train_balanced_accuracy: 0.99186 | test_accuracy: 0.95235 | test_balanced_accuracy: 0.75402 |  0:12:31s\n",
      "epoch 96 | loss: 0.03551 | train_accuracy: 0.99487 | train_balanced_accuracy: 0.96604 | test_accuracy: 0.95674 | test_balanced_accuracy: 0.61201 |  0:12:33s\n",
      "epoch 97 | loss: 0.03735 | train_accuracy: 0.99267 | train_balanced_accuracy: 0.98483 | test_accuracy: 0.95601 | test_balanced_accuracy: 0.68858 |  0:12:35s\n",
      "epoch 98 | loss: 0.03021 | train_accuracy: 0.99523 | train_balanced_accuracy: 0.99185 | test_accuracy: 0.95601 | test_balanced_accuracy: 0.64049 |  0:12:37s\n",
      "epoch 99 | loss: 0.03456 | train_accuracy: 0.99322 | train_balanced_accuracy: 0.98796 | test_accuracy: 0.95674 | test_balanced_accuracy: 0.7082  |  0:12:39s\n",
      "epoch 100| loss: 0.03373 | train_accuracy: 0.99377 | train_balanced_accuracy: 0.98824 | test_accuracy: 0.95748 | test_balanced_accuracy: 0.66049 |  0:12:40s\n",
      "epoch 101| loss: 0.02953 | train_accuracy: 0.99358 | train_balanced_accuracy: 0.98815 | test_accuracy: 0.95528 | test_balanced_accuracy: 0.70744 |  0:12:42s\n",
      "epoch 102| loss: 0.03767 | train_accuracy: 0.99468 | train_balanced_accuracy: 0.98587 | test_accuracy: 0.95161 | test_balanced_accuracy: 0.64782 |  0:12:44s\n",
      "epoch 103| loss: 0.02982 | train_accuracy: 0.99358 | train_balanced_accuracy: 0.99384 | test_accuracy: 0.94941 | test_balanced_accuracy: 0.6563  |  0:12:46s\n",
      "epoch 104| loss: 0.02418 | train_accuracy: 0.9967  | train_balanced_accuracy: 0.99545 | test_accuracy: 0.95235 | test_balanced_accuracy: 0.60973 |  0:12:48s\n",
      "epoch 105| loss: 0.03255 | train_accuracy: 0.9945  | train_balanced_accuracy: 0.99147 | test_accuracy: 0.95235 | test_balanced_accuracy: 0.62896 |  0:12:50s\n",
      "epoch 106| loss: 0.02699 | train_accuracy: 0.99303 | train_balanced_accuracy: 0.98787 | test_accuracy: 0.95308 | test_balanced_accuracy: 0.69668 |  0:12:51s\n",
      "epoch 107| loss: 0.02956 | train_accuracy: 0.9934  | train_balanced_accuracy: 0.9909  | test_accuracy: 0.94501 | test_balanced_accuracy: 0.66364 |  0:12:53s\n",
      "epoch 108| loss: 0.02764 | train_accuracy: 0.99303 | train_balanced_accuracy: 0.9964  | test_accuracy: 0.95235 | test_balanced_accuracy: 0.68668 |  0:12:55s\n",
      "epoch 109| loss: 0.02664 | train_accuracy: 0.99652 | train_balanced_accuracy: 0.99536 | test_accuracy: 0.95601 | test_balanced_accuracy: 0.63087 |  0:12:57s\n",
      "epoch 110| loss: 0.03381 | train_accuracy: 0.99487 | train_balanced_accuracy: 0.9945  | test_accuracy: 0.95528 | test_balanced_accuracy: 0.64973 |  0:12:59s\n",
      "epoch 111| loss: 0.02647 | train_accuracy: 0.99377 | train_balanced_accuracy: 0.99394 | test_accuracy: 0.95601 | test_balanced_accuracy: 0.65973 |  0:13:01s\n",
      "epoch 112| loss: 0.0275  | train_accuracy: 0.99487 | train_balanced_accuracy: 0.99166 | test_accuracy: 0.95455 | test_balanced_accuracy: 0.64935 |  0:13:02s\n",
      "epoch 113| loss: 0.02091 | train_accuracy: 0.99743 | train_balanced_accuracy: 0.99014 | test_accuracy: 0.95894 | test_balanced_accuracy: 0.64201 |  0:13:04s\n",
      "epoch 114| loss: 0.0279  | train_accuracy: 0.9945  | train_balanced_accuracy: 0.99147 | test_accuracy: 0.95455 | test_balanced_accuracy: 0.64935 |  0:13:06s\n",
      "epoch 115| loss: 0.02647 | train_accuracy: 0.99523 | train_balanced_accuracy: 0.99185 | test_accuracy: 0.95235 | test_balanced_accuracy: 0.61935 |  0:13:08s\n",
      "epoch 116| loss: 0.02559 | train_accuracy: 0.99322 | train_balanced_accuracy: 0.99081 | test_accuracy: 0.94868 | test_balanced_accuracy: 0.67516 |  0:13:10s\n",
      "epoch 117| loss: 0.0276  | train_accuracy: 0.99615 | train_balanced_accuracy: 0.99517 | test_accuracy: 0.95528 | test_balanced_accuracy: 0.64011 |  0:13:12s\n",
      "epoch 118| loss: 0.03612 | train_accuracy: 0.99322 | train_balanced_accuracy: 0.9965  | test_accuracy: 0.95528 | test_balanced_accuracy: 0.67858 |  0:13:14s\n",
      "epoch 119| loss: 0.03507 | train_accuracy: 0.99688 | train_balanced_accuracy: 0.99839 | test_accuracy: 0.95674 | test_balanced_accuracy: 0.63125 |  0:13:16s\n",
      "epoch 120| loss: 0.02475 | train_accuracy: 0.99633 | train_balanced_accuracy: 0.98957 | test_accuracy: 0.95821 | test_balanced_accuracy: 0.63201 |  0:13:18s\n",
      "epoch 121| loss: 0.02189 | train_accuracy: 0.99652 | train_balanced_accuracy: 0.9982  | test_accuracy: 0.95821 | test_balanced_accuracy: 0.63201 |  0:13:19s\n",
      "epoch 122| loss: 0.02318 | train_accuracy: 0.99652 | train_balanced_accuracy: 0.9982  | test_accuracy: 0.95235 | test_balanced_accuracy: 0.63858 |  0:13:21s\n",
      "epoch 123| loss: 0.01674 | train_accuracy: 0.99707 | train_balanced_accuracy: 0.99564 | test_accuracy: 0.95674 | test_balanced_accuracy: 0.64087 |  0:13:23s\n",
      "epoch 124| loss: 0.01928 | train_accuracy: 0.99523 | train_balanced_accuracy: 0.99185 | test_accuracy: 0.95308 | test_balanced_accuracy: 0.63896 |  0:13:25s\n",
      "epoch 125| loss: 0.03099 | train_accuracy: 0.99542 | train_balanced_accuracy: 0.9891  | test_accuracy: 0.95601 | test_balanced_accuracy: 0.61163 |  0:13:27s\n",
      "epoch 126| loss: 0.01807 | train_accuracy: 0.99542 | train_balanced_accuracy: 0.9891  | test_accuracy: 0.95308 | test_balanced_accuracy: 0.61011 |  0:13:29s\n",
      "epoch 127| loss: 0.02619 | train_accuracy: 0.9956  | train_balanced_accuracy: 0.99204 | test_accuracy: 0.95528 | test_balanced_accuracy: 0.64973 |  0:13:31s\n",
      "epoch 128| loss: 0.02408 | train_accuracy: 0.9967  | train_balanced_accuracy: 0.99545 | test_accuracy: 0.95968 | test_balanced_accuracy: 0.67125 |  0:13:33s\n",
      "epoch 129| loss: 0.022   | train_accuracy: 0.99633 | train_balanced_accuracy: 0.98957 | test_accuracy: 0.95381 | test_balanced_accuracy: 0.64896 |  0:13:36s\n",
      "epoch 130| loss: 0.02669 | train_accuracy: 0.99652 | train_balanced_accuracy: 0.99536 | test_accuracy: 0.95381 | test_balanced_accuracy: 0.60087 |  0:13:39s\n",
      "epoch 131| loss: 0.01959 | train_accuracy: 0.99597 | train_balanced_accuracy: 0.99223 | test_accuracy: 0.95455 | test_balanced_accuracy: 0.62049 |  0:13:41s\n",
      "epoch 132| loss: 0.01244 | train_accuracy: 0.99762 | train_balanced_accuracy: 0.99023 | test_accuracy: 0.95528 | test_balanced_accuracy: 0.60163 |  0:13:43s\n",
      "epoch 133| loss: 0.02462 | train_accuracy: 0.99798 | train_balanced_accuracy: 0.99042 | test_accuracy: 0.95601 | test_balanced_accuracy: 0.62125 |  0:13:45s\n",
      "epoch 134| loss: 0.0204  | train_accuracy: 0.99633 | train_balanced_accuracy: 0.98957 | test_accuracy: 0.95455 | test_balanced_accuracy: 0.63973 |  0:13:47s\n",
      "epoch 135| loss: 0.01947 | train_accuracy: 0.99633 | train_balanced_accuracy: 0.99241 | test_accuracy: 0.95088 | test_balanced_accuracy: 0.61858 |  0:13:48s\n",
      "epoch 136| loss: 0.01304 | train_accuracy: 0.9978  | train_balanced_accuracy: 0.99033 | test_accuracy: 0.95674 | test_balanced_accuracy: 0.60239 |  0:13:50s\n",
      "epoch 137| loss: 0.01256 | train_accuracy: 0.99817 | train_balanced_accuracy: 0.99905 | test_accuracy: 0.95821 | test_balanced_accuracy: 0.59353 |  0:13:52s\n",
      "epoch 138| loss: 0.01988 | train_accuracy: 0.99798 | train_balanced_accuracy: 0.99611 | test_accuracy: 0.95821 | test_balanced_accuracy: 0.62239 |  0:13:54s\n",
      "epoch 139| loss: 0.02034 | train_accuracy: 0.99817 | train_balanced_accuracy: 0.99621 | test_accuracy: 0.95601 | test_balanced_accuracy: 0.59239 |  0:13:56s\n",
      "epoch 140| loss: 0.01987 | train_accuracy: 0.99633 | train_balanced_accuracy: 0.99526 | test_accuracy: 0.95015 | test_balanced_accuracy: 0.64706 |  0:13:58s\n",
      "epoch 141| loss: 0.02103 | train_accuracy: 0.99817 | train_balanced_accuracy: 0.99336 | test_accuracy: 0.95601 | test_balanced_accuracy: 0.63087 |  0:14:00s\n",
      "epoch 142| loss: 0.01966 | train_accuracy: 0.9978  | train_balanced_accuracy: 0.99317 | test_accuracy: 0.95674 | test_balanced_accuracy: 0.61201 |  0:14:01s\n",
      "epoch 143| loss: 0.01748 | train_accuracy: 0.99725 | train_balanced_accuracy: 0.99289 | test_accuracy: 0.95601 | test_balanced_accuracy: 0.63087 |  0:14:03s\n",
      "epoch 144| loss: 0.01369 | train_accuracy: 0.99743 | train_balanced_accuracy: 0.99298 | test_accuracy: 0.95528 | test_balanced_accuracy: 0.63049 |  0:14:05s\n",
      "epoch 145| loss: 0.01317 | train_accuracy: 0.9967  | train_balanced_accuracy: 0.9926  | test_accuracy: 0.95161 | test_balanced_accuracy: 0.62858 |  0:14:07s\n",
      "\n",
      "Early stopping occurred at epoch 145 with best_epoch = 95 and best_test_balanced_accuracy = 0.75402\n"
     ]
    },
    {
     "name": "stderr",
     "output_type": "stream",
     "text": [
      "C:\\Users\\guzra\\PycharmProjects\\Diploma\\files\\lib\\site-packages\\pytorch_tabnet\\callbacks.py:172: UserWarning: Best weights from best epoch are automatically used!\n",
      "  warnings.warn(wrn_msg)\n"
     ]
    }
   ],
   "source": [
    "# define the model\n",
    "clf1_nopreproc = TabNetClassifier(optimizer_fn=torch.optim.Adam,\n",
    "                       optimizer_params=dict(lr=2e-2),\n",
    "                       scheduler_params={\"step_size\":10, # how to use learning rate scheduler\n",
    "                                         \"gamma\":0.9},\n",
    "                       scheduler_fn=torch.optim.lr_scheduler.StepLR,\n",
    "                       mask_type='entmax' # \"sparsemax\"\n",
    "                      )\n",
    "\n",
    "# fit the model\n",
    "clf1_nopreproc.fit(\n",
    "    x_train,y_train,\n",
    "    eval_set=[(x_train, y_train), (x_test, y_test)],\n",
    "    eval_name=['train', 'test'],\n",
    "    eval_metric=['accuracy', 'balanced_accuracy'],\n",
    "    max_epochs=1000 , patience=50,\n",
    "    batch_size=256, virtual_batch_size=128,\n",
    "    num_workers=0,\n",
    "    weights = {0: 1, 1: 7},\n",
    "    drop_last=False\n",
    ")"
   ],
   "metadata": {
    "collapsed": false,
    "pycharm": {
     "name": "#%%\n"
    }
   }
  },
  {
   "cell_type": "code",
   "execution_count": 4,
   "outputs": [
    {
     "name": "stdout",
     "output_type": "stream",
     "text": [
      "0.9523460410557185\n",
      "0.45378151260504207\n",
      "0.391304347826087\n",
      "0.54\n"
     ]
    }
   ],
   "source": [
    "ypred_test = clf1_nopreproc.predict(x_test)\n",
    "print(sklearn.metrics.accuracy_score(y_test, ypred_test))\n",
    "print(sklearn.metrics.f1_score(y_test, ypred_test))\n",
    "print(sklearn.metrics.precision_score(y_test, ypred_test))\n",
    "print(sklearn.metrics.recall_score(y_test, ypred_test))"
   ],
   "metadata": {
    "collapsed": false,
    "pycharm": {
     "name": "#%%\n"
    }
   }
  },
  {
   "cell_type": "code",
   "execution_count": null,
   "outputs": [],
   "source": [
    "cv = RepeatedKFold(n_splits = 5, n_repeats = 1, random_state = 1)\n",
    "n_scores = cross_validate(clf1_nopreproc, X, y, scoring = ['accuracy', 'precision', 'recall', 'f1'], fit_params = {\n",
    "    'max_epochs': 1000 ,\n",
    "    'patience': 50,\n",
    "    'batch_size': 256,\n",
    "    'virtual_batch_size': 128,\n",
    "    'num_workers': 0,\n",
    "    'weights': {0: 1, 1: 6.75},\n",
    "    'drop_last': False\n",
    "},\n",
    "    cv = cv, n_jobs = -1)\n",
    "\n",
    "for k in n_scores:\n",
    "    print('{}: {:.3f} ({:.3f})'.format(k, n_scores[k].mean(), n_scores[k].std()))"
   ],
   "metadata": {
    "collapsed": false,
    "pycharm": {
     "name": "#%%\n"
    }
   }
  },
  {
   "cell_type": "code",
   "execution_count": null,
   "outputs": [],
   "source": [
    "'weights': {0: 1, 1: 6}\n",
    "fit_time: 848.301 (1.275)\n",
    "score_time: 0.129 (0.015)\n",
    "test_accuracy: 0.959 (0.004)\n",
    "test_precision: 0.353 (0.031)\n",
    "test_recall: 0.324 (0.052)\n",
    "test_f1: 0.336 (0.038)\n",
    "\n",
    "'weights': {0: 1, 1: 6.5}\n",
    "fit_time: 791.901 (0.861)\n",
    "score_time: 0.095 (0.016)\n",
    "test_accuracy: 0.962 (0.004)\n",
    "test_precision: 0.390 (0.039)\n",
    "test_recall: 0.336 (0.081)\n",
    "test_f1: 0.358 (0.058)\n",
    "\n",
    "'weights': {0: 1, 1: 6.25}\n",
    "fit_time: 942.896 (2.039)\n",
    "score_time: 0.140 (0.036)\n",
    "test_accuracy: 0.959 (0.005)\n",
    "test_precision: 0.359 (0.053)\n",
    "test_recall: 0.327 (0.089)\n",
    "test_f1: 0.331 (0.054)\n",
    "\n",
    "'weights': {0: 1, 1: 6.75}\n",
    "fit_time: 979.978 (4.718)\n",
    "score_time: 0.131 (0.039)\n",
    "test_accuracy: 0.959 (0.001)\n",
    "test_precision: 0.349 (0.018)\n",
    "test_recall: 0.302 (0.087)\n",
    "test_f1: 0.315 (0.055)"
   ],
   "metadata": {
    "collapsed": false,
    "pycharm": {
     "name": "#%%\n"
    }
   }
  },
  {
   "cell_type": "code",
   "execution_count": 7,
   "outputs": [],
   "source": [
    "#Создали класс, реализующий ансамль XGB-моделей, обученных на случайных сбалансированных подвыборках\n",
    "class ResampledEnsemble(sklearn.base.BaseEstimator):\n",
    "\n",
    "    def __init__(self, n_estimators = 5, zeros_ratio = 1, scale_pos_weight = 1, power = 1, ensemble_quantile = None):\n",
    "        self.n_estimators = n_estimators\n",
    "        self.classes_ = np.array([0,1])\n",
    "        self.zeros_ratio = zeros_ratio\n",
    "        self.scale_pos_weight = scale_pos_weight\n",
    "        self.power = power\n",
    "        #добавляем вместо среднего арифметического квантиль\n",
    "        self.ensemble_quantile = ensemble_quantile\n",
    "\n",
    "    def fit(self, X, y):\n",
    "        self.estimators = []\n",
    "        for i in range(self.n_estimators):\n",
    "            ones = y == 1\n",
    "            num_ones = ones.sum()\n",
    "            zeros_indexes = np.where(np.logical_not(ones))[0]\n",
    "            zeros_subsample = np.random.choice(zeros_indexes, size=int(num_ones*self.zeros_ratio), replace=False, p=None)\n",
    "            final_indexes = np.concatenate([np.where(ones)[0], zeros_subsample])\n",
    "            model = TabNetClassifier(optimizer_fn=torch.optim.Adam,\n",
    "                       optimizer_params=dict(lr=2e-2),\n",
    "                       scheduler_params={\"step_size\":10, # how to use learning rate scheduler\n",
    "                                         \"gamma\":0.9},\n",
    "                       scheduler_fn=torch.optim.lr_scheduler.StepLR,\n",
    "                       mask_type='entmax' # \"sparsemax\"\n",
    "                      )\n",
    "            model.fit(X[final_indexes,:], y[final_indexes],\n",
    "                      max_epochs=1000 , patience=50,\n",
    "    batch_size=256, virtual_batch_size=128,\n",
    "    num_workers=0,\n",
    "    weights = {0: 1, 1: self.scale_pos_weight},\n",
    "    drop_last=False)\n",
    "            self.estimators.append(model)\n",
    "            #print(\"Fitting of model number {} is finished\".format(i))\n",
    "            if model.classes_[0] > model.classes_[1]:\n",
    "                raise Exception(\"Wrong order of classes\")\n",
    "\n",
    "    def predict_proba(self, X):\n",
    "        results = np.zeros([self.n_estimators, X.shape[0], 2]) #количество строк в иксе, количество столбцов по числу классов [0] и [1]\n",
    "        for i in range(self.n_estimators):\n",
    "            results[i,:,:] = self.estimators[i].predict_proba(X)\n",
    "        if self.ensemble_quantile is None:\n",
    "            ensemble_results = np.mean(results**self.power, axis = 0)\n",
    "        else:\n",
    "            ensemble_results = np.quantile(results**self.power, self.ensemble_quantile, axis = 0)\n",
    "        row_sums =  np.sum(ensemble_results, axis = 1)\n",
    "        return ensemble_results/row_sums[:, None]\n",
    "\n",
    "    def predict(self, X):\n",
    "        res_classes = np.zeros(X.shape[0])\n",
    "        results = self.predict_proba(X)\n",
    "        for i in range(X.shape[0]):\n",
    "            res_classes[i] = self.classes_[np.argmax(results[i,:])]\n",
    "        return res_classes"
   ],
   "metadata": {
    "collapsed": false,
    "pycharm": {
     "name": "#%%\n"
    }
   }
  },
  {
   "cell_type": "code",
   "execution_count": 8,
   "outputs": [
    {
     "name": "stdout",
     "output_type": "stream",
     "text": [
      "fit_time: 2948.245 (394.815)\n",
      "score_time: 0.820 (0.265)\n",
      "test_accuracy: 0.959 (0.002)\n",
      "test_precision: 0.378 (0.026)\n",
      "test_recall: 0.420 (0.052)\n",
      "test_f1: 0.397 (0.033)\n"
     ]
    }
   ],
   "source": [
    "model = ResampledEnsemble(zeros_ratio = 20, scale_pos_weight = 55, power = 0.001, ensemble_quantile = 0.9)\n",
    "cv = RepeatedKFold(n_splits = 5, n_repeats = 1, random_state = 1)\n",
    "n_scores = cross_validate(model, X, y, scoring = ['accuracy', 'precision', 'recall', 'f1'],\n",
    "    cv = cv, n_jobs = 4)\n",
    "\n",
    "for k in n_scores:\n",
    "    print('{}: {:.3f} ({:.3f})'.format(k, n_scores[k].mean(), n_scores[k].std()))"
   ],
   "metadata": {
    "collapsed": false,
    "pycharm": {
     "name": "#%%\n"
    }
   }
  },
  {
   "cell_type": "code",
   "execution_count": null,
   "outputs": [],
   "source": [
    "# model = ResampledEnsemble(zeros_ratio = 20, scale_pos_weight = 55, power = 0.001, ensemble_quantile = 0.01)\n",
    "fit_time: 2814.031 (284.226)\n",
    "score_time: 0.507 (0.063)\n",
    "test_accuracy: 0.956 (0.002)\n",
    "test_precision: 0.352 (0.021)\n",
    "test_recall: 0.439 (0.035)\n",
    "test_f1: 0.390 (0.013)\n",
    "\n",
    "# model = ResampledEnsemble(zeros_ratio = 20, scale_pos_weight = 55, power = 0.001, ensemble_quantile = 0.9)\n",
    "fit_time: 2948.245 (394.815)\n",
    "score_time: 0.820 (0.265)\n",
    "test_accuracy: 0.959 (0.002)\n",
    "test_precision: 0.378 (0.026)\n",
    "test_recall: 0.420 (0.052)\n",
    "test_f1: 0.397 (0.033)"
   ],
   "metadata": {
    "collapsed": false,
    "pycharm": {
     "name": "#%%\n"
    }
   }
  }
 ],
 "metadata": {
  "kernelspec": {
   "display_name": "Python 3",
   "language": "python",
   "name": "python3"
  },
  "language_info": {
   "codemirror_mode": {
    "name": "ipython",
    "version": 2
   },
   "file_extension": ".py",
   "mimetype": "text/x-python",
   "name": "python",
   "nbconvert_exporter": "python",
   "pygments_lexer": "ipython2",
   "version": "2.7.6"
  }
 },
 "nbformat": 4,
 "nbformat_minor": 0
}