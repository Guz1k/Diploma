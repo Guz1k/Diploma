{
 "cells": [
  {
   "cell_type": "code",
   "execution_count": 2,
   "metadata": {
    "collapsed": true
   },
   "outputs": [],
   "source": [
    "import pandas as pd\n",
    "import numpy as np\n",
    "import sklearn.base\n",
    "import xgboost as xgb\n",
    "from sklearn.model_selection import cross_validate\n",
    "from sklearn.model_selection import RepeatedKFold\n",
    "from xgboost import XGBClassifier\n",
    "import imblearn\n",
    "from collections import Counter\n",
    "from imblearn.pipeline import Pipeline\n",
    "from sklearn import svm\n",
    "import hyperopt\n",
    "import matplotlib.pyplot as plt"
   ]
  },
  {
   "cell_type": "code",
   "execution_count": 3,
   "outputs": [],
   "source": [
    "#задание количества выводимых на экран строк\n",
    "pd.options.display.max_rows = 96\n",
    "#создание датафрейма\n",
    "df = pd.read_csv(\"data.csv\")\n",
    "#print(df.dtypes)"
   ],
   "metadata": {
    "collapsed": false,
    "pycharm": {
     "name": "#%%\n"
    }
   }
  },
  {
   "cell_type": "code",
   "execution_count": 4,
   "outputs": [],
   "source": [
    "X = df.drop('Bankrupt?', axis=1).to_numpy()\n",
    "y = df.loc[:,'Bankrupt?'].to_numpy()"
   ],
   "metadata": {
    "collapsed": false,
    "pycharm": {
     "name": "#%%\n"
    }
   }
  },
  {
   "cell_type": "code",
   "execution_count": 4,
   "outputs": [
    {
     "name": "stdout",
     "output_type": "stream",
     "text": [
      "220\n",
      "6599\n",
      "29.995454545454546\n"
     ]
    }
   ],
   "source": [
    "print((df.loc[:,'Bankrupt?'] == 1).sum())\n",
    "print((df.loc[:,'Bankrupt?'] == 0).sum())\n",
    "#выравниваем вклад в функцию потерь позитивных и негативных данных\n",
    "scale_pos_weight = (df.loc[:,'Bankrupt?'] == 0).sum()/(df.loc[:,'Bankrupt?'] == 1).sum()\n",
    "print(scale_pos_weight)"
   ],
   "metadata": {
    "collapsed": false,
    "pycharm": {
     "name": "#%%\n"
    }
   }
  },
  {
   "cell_type": "code",
   "execution_count": 5,
   "outputs": [],
   "source": [
    "#Создали класс, реализующий ансамль LogisticRegression-моделей, обученных на случайных сбалансированных подвыборках\n",
    "class ResampledEnsembleSVM(sklearn.base.BaseEstimator):\n",
    "\n",
    "    def __init__(self, n_estimators = 100, zeros_ratio = 1, scale_pos_weight = 1, ensemble_quantile = 0.5, column_probability = 1):\n",
    "        self.n_estimators = n_estimators\n",
    "        self.classes_ = np.array([0,1])\n",
    "        self.zeros_ratio = zeros_ratio\n",
    "        self.scale_pos_weight = scale_pos_weight\n",
    "        #добавляем вместо среднего арифметического квантиль\n",
    "        self.ensemble_quantile = ensemble_quantile\n",
    "        #Добавили рандомизацию по колонкам признака\n",
    "        self.column_probability = column_probability\n",
    "\n",
    "    def fit(self, X, y):\n",
    "        self.estimators = []\n",
    "        self.estimators_columns = []\n",
    "        for i in range(self.n_estimators):\n",
    "            #хранит индикатор того будет ли использоваться столбец данных\n",
    "            outcome = np.random.binomial(n = 1, p = self.column_probability, size = X.shape[1])\n",
    "            while outcome.sum() == 0: #индикатор того, что ни один столбец не выбран\n",
    "                outcome = np.random.binomial(n = 1, p = self.column_probability, size = X.shape[1])\n",
    "            columns = np.where(outcome == 1)[0]\n",
    "            self.estimators_columns.append(columns)\n",
    "            ones = y == 1\n",
    "            num_ones = ones.sum()\n",
    "            zeros_indexes = np.where(np.logical_not(ones))[0]\n",
    "            zeros_subsample = np.random.choice(zeros_indexes, size = int(num_ones*self.zeros_ratio), replace=False, p=None)\n",
    "            final_indexes = np.concatenate([np.where(ones)[0], zeros_subsample])\n",
    "            # print(final_indexes)\n",
    "            # print(X[final_indexes, columns])\n",
    "            model = svm.SVC(class_weight = {0: 1, 1: self.scale_pos_weight})\n",
    "            #model.fit(X[final_indexes, :], y[final_indexes])\n",
    "            model.fit(X[np.ix_(final_indexes, columns)], y[final_indexes])\n",
    "            self.estimators.append(model)\n",
    "            #print(\"Fitting of model number {} is finished\".format(i))\n",
    "            if model.classes_[0] > model.classes_[1]:\n",
    "                raise Exception(\"Wrong order of classes\")\n",
    "\n",
    "    # def predict_proba(self, X):\n",
    "    #     results = np.zeros([self.n_estimators, X.shape[0], 2]) #количество строк в иксе, количество столбцов по числу классов [0] и [1]\n",
    "    #     for i in range(self.n_estimators):\n",
    "    #         results[i,:,:] = self.estimators[i].predict_proba(X[:, self.estimators_columns[i]])\n",
    "    #     if self.ensemble_quantile is None:\n",
    "    #         ensemble_results = np.mean(results**self.power, axis = 0)\n",
    "    #     else:\n",
    "    #         ensemble_results = np.quantile(results**self.power, self.ensemble_quantile, axis = 0)\n",
    "    #     row_sums =  np.sum(ensemble_results, axis = 1)\n",
    "    #     return ensemble_results/row_sums[:, None]\n",
    "\n",
    "    def predict(self, X):\n",
    "        results = np.zeros([self.n_estimators, X.shape[0]])\n",
    "        for i in range(self.n_estimators):\n",
    "            results[i,:] = self.estimators[i].predict(X[:, self.estimators_columns[i]])\n",
    "        res_classes = (results.sum(axis = 0) >= results.shape[0]*self.ensemble_quantile).astype(int)\n",
    "        return res_classes"
   ],
   "metadata": {
    "collapsed": false,
    "pycharm": {
     "name": "#%%\n"
    }
   }
  },
  {
   "cell_type": "code",
   "execution_count": 6,
   "outputs": [
    {
     "name": "stdout",
     "output_type": "stream",
     "text": [
      "Predicted classes: [1 1 1 1 0]\n"
     ]
    }
   ],
   "source": [
    "X = df.drop('Bankrupt?', axis=1).to_numpy()\n",
    "y = df.loc[:,'Bankrupt?'].to_numpy()\n",
    "\n",
    "model = ResampledEnsembleSVM()\n",
    "model.fit(X,y)\n",
    "print(\"Predicted classes:\", model.predict(X[range(5),:]))\n",
    "#print(\"Predicted scores of classes:\\n\", model.predict_proba(X[range(5),:]))"
   ],
   "metadata": {
    "collapsed": false,
    "pycharm": {
     "name": "#%%\n"
    }
   }
  },
  {
   "cell_type": "code",
   "execution_count": 64,
   "outputs": [
    {
     "name": "stdout",
     "output_type": "stream",
     "text": [
      "fit_time: 2.121 (1.492)\n",
      "score_time: 3.850 (1.323)\n",
      "test_accuracy: 0.962 (0.009)\n",
      "test_precision: 0.390 (0.088)\n",
      "test_recall: 0.343 (0.179)\n",
      "test_f1: 0.339 (0.108)\n"
     ]
    }
   ],
   "source": [
    "X = df.drop('Bankrupt?', axis=1).to_numpy()\n",
    "y = df.loc[:,'Bankrupt?'].to_numpy()\n",
    "\n",
    "model = ResampledEnsembleSVM(ensemble_quantile = 0.6, column_probability = 0.01)\n",
    "cv = RepeatedKFold(n_splits = 10, n_repeats = 1, random_state = 1)\n",
    "n_scores = cross_validate(model, X, y, scoring = ['accuracy', 'precision', 'recall', 'f1'], cv = cv, n_jobs = 4)\n",
    "\n",
    "for k in n_scores:\n",
    "    print('{}: {:.3f} ({:.3f})'.format(k, n_scores[k].mean(), n_scores[k].std()))"
   ],
   "metadata": {
    "collapsed": false,
    "pycharm": {
     "name": "#%%\n"
    }
   }
  },
  {
   "cell_type": "markdown",
   "source": [
    "При column_probability = 0.01, scale_pos_weight = 0.9\n",
    "test_accuracy: 0.965 (0.006)\n",
    "test_precision: 0.442 (0.074)\n",
    "test_recall: 0.265 (0.100)\n",
    "\n",
    "При ensemble_quantile = 0.6, column_probability = 0.01:\n",
    "test_accuracy: 0.956 (0.009)\n",
    "test_precision: 0.368 (0.079)\n",
    "test_recall: 0.383 (0.158)\n",
    "test_f1: 0.347 (0.053)\n"
   ],
   "metadata": {
    "collapsed": false,
    "pycharm": {
     "name": "#%% md\n"
    }
   }
  },
  {
   "cell_type": "code",
   "execution_count": 8,
   "outputs": [
    {
     "data": {
      "text/plain": "array([1, 0, 1])"
     },
     "execution_count": 8,
     "metadata": {},
     "output_type": "execute_result"
    }
   ],
   "source": [
    "A = np.array([[1,1,1],[1,0,1],[0,0,0]]) #А - пример вывода субмоделей (подмоделей) из ансамбля\n",
    "#по столбцам идут разные элементы выборки, а сами значения столбцов - соответствующее выходное значение. 3 строки означает, что n_estimators = 3.\n",
    "(A.sum(axis = 0) >= A.shape[0]/2).astype(int)"
   ],
   "metadata": {
    "collapsed": false,
    "pycharm": {
     "name": "#%%\n"
    }
   }
  },
  {
   "cell_type": "code",
   "execution_count": 9,
   "outputs": [],
   "source": [
    "#Создали класс, реализующий ансамль XGB-моделей, обученных на случайных сбалансированных подвыборках с ансамблирующей функцией в виде модели машинного обучения\n",
    "class SmartResampledEnsemble(sklearn.base.BaseEstimator):\n",
    "\n",
    "    def __init__(self, n_estimators = 100, zeros_ratio = 1, scale_pos_weight = 1, column_probability = 1):\n",
    "        self.n_estimators = n_estimators\n",
    "        self.classes_ = np.array([0,1])\n",
    "        self.zeros_ratio = zeros_ratio\n",
    "        self.scale_pos_weight = scale_pos_weight\n",
    "        self.column_probability = column_probability\n",
    "\n",
    "    def fit(self, X, y):\n",
    "        self.estimators = []\n",
    "        self.estimators_columns = []\n",
    "        for i in range(self.n_estimators):\n",
    "            #хранит индикатор того будет ли использоваться столбец данных\n",
    "            outcome = np.random.binomial(n = 1, p = self.column_probability, size = X.shape[1])\n",
    "            while outcome.sum() == 0: #индикатор того, что ни один столбец не выбран\n",
    "                outcome = np.random.binomial(n = 1, p = self.column_probability, size = X.shape[1])\n",
    "            columns = np.where(outcome == 1)[0]\n",
    "            self.estimators_columns.append(columns)\n",
    "            ones = y == 1\n",
    "            num_ones = ones.sum()\n",
    "            zeros_indexes = np.where(np.logical_not(ones))[0]\n",
    "            zeros_subsample = np.random.choice(zeros_indexes, size=int(num_ones*self.zeros_ratio), replace=False, p=None)\n",
    "            final_indexes = np.concatenate([np.where(ones)[0], zeros_subsample])\n",
    "\n",
    "            model = svm.SVC(class_weight = {0: 1, 1: self.scale_pos_weight})\n",
    "\n",
    "            model.fit(X[np.ix_(final_indexes, columns)], y[final_indexes])\n",
    "            self.estimators.append(model)\n",
    "            #print(\"Fitting of model number {} is finished\".format(i))\n",
    "            if model.classes_[0] > model.classes_[1]:\n",
    "                raise Exception(\"Wrong order of classes\")\n",
    "        results = np.zeros([X.shape[0], self.n_estimators])\n",
    "        for i in range(self.n_estimators):\n",
    "            results[:,i] = self.estimators[i].predict(X[:, self.estimators_columns[i]])\n",
    "        self.ensemblingmodel = XGBClassifier()\n",
    "        self.ensemblingmodel.fit(results, y)\n",
    "\n",
    "\n",
    "    def predict(self, X):\n",
    "        results = np.zeros([X.shape[0], self.n_estimators])\n",
    "        for i in range(self.n_estimators):\n",
    "            results[:,i] = self.estimators[i].predict(X[:, self.estimators_columns[i]])\n",
    "        res_classes = self.ensemblingmodel.predict(results)\n",
    "        return res_classes"
   ],
   "metadata": {
    "collapsed": false,
    "pycharm": {
     "name": "#%%\n"
    }
   }
  },
  {
   "cell_type": "code",
   "execution_count": 10,
   "outputs": [
    {
     "name": "stdout",
     "output_type": "stream",
     "text": [
      "Predicted classes: [0 1 0 0 1]\n"
     ]
    }
   ],
   "source": [
    "#XGBClassifier() - ансамблирующая модель\n",
    "X = df.drop('Bankrupt?', axis=1).to_numpy()\n",
    "y = df.loc[:,'Bankrupt?'].to_numpy()\n",
    "\n",
    "model = SmartResampledEnsemble()\n",
    "model.fit(X,y)\n",
    "print(\"Predicted classes:\", model.predict(X[range(5),:]))"
   ],
   "metadata": {
    "collapsed": false,
    "pycharm": {
     "name": "#%%\n"
    }
   }
  },
  {
   "cell_type": "code",
   "execution_count": 12,
   "outputs": [
    {
     "name": "stdout",
     "output_type": "stream",
     "text": [
      "fit_time: 36.583 (26.259)\n",
      "score_time: 5.326 (1.020)\n",
      "test_accuracy: 0.965 (0.004)\n",
      "test_precision: 0.419 (0.047)\n",
      "test_recall: 0.230 (0.044)\n",
      "test_f1: 0.296 (0.043)\n"
     ]
    }
   ],
   "source": [
    "#XGBClassifier() - ансамблирующая модель\n",
    "X = df.drop('Bankrupt?', axis=1).to_numpy()\n",
    "y = df.loc[:, 'Bankrupt?'].to_numpy()\n",
    "\n",
    "model = SmartResampledEnsemble(zeros_ratio = 2, column_probability = 0.05)\n",
    "cv = RepeatedKFold(n_splits = 5, n_repeats = 1, random_state = 1)\n",
    "n_scores = cross_validate(model, X, y, scoring=['accuracy', 'precision', 'recall', 'f1'], cv=cv, n_jobs=4)\n",
    "\n",
    "for k in n_scores:\n",
    "    print('{}: {:.3f} ({:.3f})'.format(k, n_scores[k].mean(), n_scores[k].std()))"
   ],
   "metadata": {
    "collapsed": false,
    "pycharm": {
     "name": "#%%\n"
    }
   }
  },
  {
   "cell_type": "code",
   "execution_count": 13,
   "outputs": [],
   "source": [
    "#Создали класс, реализующий ансамль XGB-моделей, обученных на случайных сбалансированных подвыборках с ансамблирующей функцией в виде модели машинного обучения\n",
    "class SmartResampledEnsemble(sklearn.base.BaseEstimator):\n",
    "\n",
    "    def __init__(self, n_estimators = 100, zeros_ratio = 1, scale_pos_weight = 1, column_probability = 1):\n",
    "        self.n_estimators = n_estimators\n",
    "        self.classes_ = np.array([0,1])\n",
    "        self.zeros_ratio = zeros_ratio\n",
    "        self.scale_pos_weight = scale_pos_weight\n",
    "        self.column_probability = column_probability\n",
    "\n",
    "    def fit(self, X, y):\n",
    "        self.estimators = []\n",
    "        self.estimators_columns = []\n",
    "        for i in range(self.n_estimators):\n",
    "            #хранит индикатор того будет ли использоваться столбец данных\n",
    "            outcome = np.random.binomial(n = 1, p = self.column_probability, size = X.shape[1])\n",
    "            while outcome.sum() == 0: #индикатор того, что ни один столбец не выбран\n",
    "                outcome = np.random.binomial(n = 1, p = self.column_probability, size = X.shape[1])\n",
    "            columns = np.where(outcome == 1)[0]\n",
    "            self.estimators_columns.append(columns)\n",
    "            ones = y == 1\n",
    "            num_ones = ones.sum()\n",
    "            zeros_indexes = np.where(np.logical_not(ones))[0]\n",
    "            zeros_subsample = np.random.choice(zeros_indexes, size=int(num_ones*self.zeros_ratio), replace=False, p=None)\n",
    "            final_indexes = np.concatenate([np.where(ones)[0], zeros_subsample])\n",
    "\n",
    "            model = svm.SVC(class_weight = {0: 1, 1: self.scale_pos_weight})\n",
    "\n",
    "            model.fit(X[np.ix_(final_indexes, columns)], y[final_indexes])\n",
    "            self.estimators.append(model)\n",
    "            #print(\"Fitting of model number {} is finished\".format(i))\n",
    "            if model.classes_[0] > model.classes_[1]:\n",
    "                raise Exception(\"Wrong order of classes\")\n",
    "        results = np.zeros([X.shape[0], self.n_estimators])\n",
    "        for i in range(self.n_estimators):\n",
    "            results[:,i] = self.estimators[i].predict(X[:, self.estimators_columns[i]])\n",
    "        self.ensemblingmodel = sklearn.tree.DecisionTreeClassifier()\n",
    "        self.ensemblingmodel.fit(results, y)\n",
    "\n",
    "\n",
    "    def predict(self, X):\n",
    "        results = np.zeros([X.shape[0], self.n_estimators])\n",
    "        for i in range(self.n_estimators):\n",
    "            results[:,i] = self.estimators[i].predict(X[:, self.estimators_columns[i]])\n",
    "        res_classes = self.ensemblingmodel.predict(results)\n",
    "        return res_classes"
   ],
   "metadata": {
    "collapsed": false,
    "pycharm": {
     "name": "#%%\n"
    }
   }
  },
  {
   "cell_type": "code",
   "execution_count": 15,
   "outputs": [
    {
     "name": "stdout",
     "output_type": "stream",
     "text": [
      "Predicted classes: [0 0 0 0 0]\n"
     ]
    }
   ],
   "source": [
    "#sklearn.tree.DecisionTreeClassifier()\n",
    "X = df.drop('Bankrupt?', axis=1).to_numpy()\n",
    "y = df.loc[:,'Bankrupt?'].to_numpy()\n",
    "\n",
    "model = SmartResampledEnsemble(n_estimators = 3)\n",
    "model.fit(X,y)\n",
    "print(\"Predicted classes:\", model.predict(X[range(5),:]))"
   ],
   "metadata": {
    "collapsed": false,
    "pycharm": {
     "name": "#%%\n"
    }
   }
  },
  {
   "cell_type": "code",
   "execution_count": 16,
   "outputs": [
    {
     "name": "stdout",
     "output_type": "stream",
     "text": [
      "fit_time: 80.212 (10.723)\n",
      "score_time: 20.385 (3.694)\n",
      "test_accuracy: 0.942 (0.006)\n",
      "test_precision: 0.058 (0.037)\n",
      "test_recall: 0.050 (0.032)\n",
      "test_f1: 0.053 (0.034)\n"
     ]
    }
   ],
   "source": [
    "#sklearn.tree.DecisionTreeClassifier()\n",
    "X = df.drop('Bankrupt?', axis=1).to_numpy()\n",
    "y = df.loc[:,'Bankrupt?'].to_numpy()\n",
    "\n",
    "model = SmartResampledEnsemble()\n",
    "cv = RepeatedKFold(n_splits = 5, n_repeats = 1, random_state = 1)\n",
    "n_scores = cross_validate(model, X, y, scoring = ['accuracy', 'precision', 'recall', 'f1'], cv = cv, n_jobs = 4)\n",
    "\n",
    "for k in n_scores:\n",
    "    print('{}: {:.3f} ({:.3f})'.format(k, n_scores[k].mean(), n_scores[k].std()))"
   ],
   "metadata": {
    "collapsed": false,
    "pycharm": {
     "name": "#%%\n"
    }
   }
  },
  {
   "cell_type": "code",
   "execution_count": 16,
   "outputs": [
    {
     "name": "stdout",
     "output_type": "stream",
     "text": [
      " 67%|██████▋   | 20/30 [09:05<05:56, 35.65s/trial, best loss: -0.26528932653619763]"
     ]
    },
    {
     "name": "stderr",
     "output_type": "stream",
     "text": [
      "C:\\Users\\guzra\\PycharmProjects\\Diploma\\files\\lib\\site-packages\\sklearn\\model_selection\\_validation.py:372: FitFailedWarning: \n",
      "5 fits failed out of a total of 5.\n",
      "The score on these train-test partitions for these parameters will be set to nan.\n",
      "If these failures are not expected, you can try to debug them by setting error_score='raise'.\n",
      "\n",
      "Below are more details about the failures:\n",
      "--------------------------------------------------------------------------------\n",
      "5 fits failed with the following error:\n",
      "Traceback (most recent call last):\n",
      "  File \"C:\\Users\\guzra\\PycharmProjects\\Diploma\\files\\lib\\site-packages\\sklearn\\model_selection\\_validation.py\", line 680, in _fit_and_score\n",
      "    estimator.fit(X_train, y_train, **fit_params)\n",
      "  File \"C:\\Users\\guzra\\AppData\\Local\\Temp\\ipykernel_11560\\2699103946.py\", line 27, in fit\n",
      "    zeros_subsample = np.random.choice(zeros_indexes, size = int(num_ones*self.zeros_ratio), replace=False, p=None)\n",
      "  File \"mtrand.pyx\", line 965, in numpy.random.mtrand.RandomState.choice\n",
      "ValueError: Cannot take a larger sample than population when 'replace=False'\n",
      "\n",
      "  warnings.warn(some_fits_failed_message, FitFailedWarning)\n",
      "\n",
      "C:\\Users\\guzra\\PycharmProjects\\Diploma\\files\\lib\\site-packages\\sklearn\\model_selection\\_validation.py:372: FitFailedWarning: \n",
      "5 fits failed out of a total of 5.\n",
      "The score on these train-test partitions for these parameters will be set to nan.\n",
      "If these failures are not expected, you can try to debug them by setting error_score='raise'.\n",
      "\n",
      "Below are more details about the failures:\n",
      "--------------------------------------------------------------------------------\n",
      "5 fits failed with the following error:\n",
      "Traceback (most recent call last):\n",
      "  File \"C:\\Users\\guzra\\PycharmProjects\\Diploma\\files\\lib\\site-packages\\sklearn\\model_selection\\_validation.py\", line 680, in _fit_and_score\n",
      "    estimator.fit(X_train, y_train, **fit_params)\n",
      "  File \"C:\\Users\\guzra\\AppData\\Local\\Temp\\ipykernel_11560\\2699103946.py\", line 27, in fit\n",
      "    zeros_subsample = np.random.choice(zeros_indexes, size = int(num_ones*self.zeros_ratio), replace=False, p=None)\n",
      "  File \"mtrand.pyx\", line 965, in numpy.random.mtrand.RandomState.choice\n",
      "ValueError: Cannot take a larger sample than population when 'replace=False'\n",
      "\n",
      "  warnings.warn(some_fits_failed_message, FitFailedWarning)\n",
      "\n"
     ]
    },
    {
     "name": "stdout",
     "output_type": "stream",
     "text": [
      " 77%|███████▋  | 23/30 [09:07<01:52, 16.05s/trial, best loss: -0.26528932653619763]"
     ]
    },
    {
     "name": "stderr",
     "output_type": "stream",
     "text": [
      "C:\\Users\\guzra\\PycharmProjects\\Diploma\\files\\lib\\site-packages\\sklearn\\model_selection\\_validation.py:372: FitFailedWarning: \n",
      "5 fits failed out of a total of 5.\n",
      "The score on these train-test partitions for these parameters will be set to nan.\n",
      "If these failures are not expected, you can try to debug them by setting error_score='raise'.\n",
      "\n",
      "Below are more details about the failures:\n",
      "--------------------------------------------------------------------------------\n",
      "5 fits failed with the following error:\n",
      "Traceback (most recent call last):\n",
      "  File \"C:\\Users\\guzra\\PycharmProjects\\Diploma\\files\\lib\\site-packages\\sklearn\\model_selection\\_validation.py\", line 680, in _fit_and_score\n",
      "    estimator.fit(X_train, y_train, **fit_params)\n",
      "  File \"C:\\Users\\guzra\\AppData\\Local\\Temp\\ipykernel_11560\\2699103946.py\", line 27, in fit\n",
      "    zeros_subsample = np.random.choice(zeros_indexes, size = int(num_ones*self.zeros_ratio), replace=False, p=None)\n",
      "  File \"mtrand.pyx\", line 965, in numpy.random.mtrand.RandomState.choice\n",
      "ValueError: Cannot take a larger sample than population when 'replace=False'\n",
      "\n",
      "  warnings.warn(some_fits_failed_message, FitFailedWarning)\n",
      "\n",
      "C:\\Users\\guzra\\PycharmProjects\\Diploma\\files\\lib\\site-packages\\sklearn\\model_selection\\_validation.py:372: FitFailedWarning: \n",
      "5 fits failed out of a total of 5.\n",
      "The score on these train-test partitions for these parameters will be set to nan.\n",
      "If these failures are not expected, you can try to debug them by setting error_score='raise'.\n",
      "\n",
      "Below are more details about the failures:\n",
      "--------------------------------------------------------------------------------\n",
      "5 fits failed with the following error:\n",
      "Traceback (most recent call last):\n",
      "  File \"C:\\Users\\guzra\\PycharmProjects\\Diploma\\files\\lib\\site-packages\\sklearn\\model_selection\\_validation.py\", line 680, in _fit_and_score\n",
      "    estimator.fit(X_train, y_train, **fit_params)\n",
      "  File \"C:\\Users\\guzra\\AppData\\Local\\Temp\\ipykernel_11560\\2699103946.py\", line 27, in fit\n",
      "    zeros_subsample = np.random.choice(zeros_indexes, size = int(num_ones*self.zeros_ratio), replace=False, p=None)\n",
      "  File \"mtrand.pyx\", line 965, in numpy.random.mtrand.RandomState.choice\n",
      "ValueError: Cannot take a larger sample than population when 'replace=False'\n",
      "\n",
      "  warnings.warn(some_fits_failed_message, FitFailedWarning)\n",
      "\n"
     ]
    },
    {
     "name": "stdout",
     "output_type": "stream",
     "text": [
      " 87%|████████▋ | 26/30 [09:16<00:40, 10.19s/trial, best loss: -0.26528932653619763]"
     ]
    },
    {
     "name": "stderr",
     "output_type": "stream",
     "text": [
      "C:\\Users\\guzra\\PycharmProjects\\Diploma\\files\\lib\\site-packages\\sklearn\\model_selection\\_validation.py:372: FitFailedWarning: \n",
      "4 fits failed out of a total of 5.\n",
      "The score on these train-test partitions for these parameters will be set to nan.\n",
      "If these failures are not expected, you can try to debug them by setting error_score='raise'.\n",
      "\n",
      "Below are more details about the failures:\n",
      "--------------------------------------------------------------------------------\n",
      "4 fits failed with the following error:\n",
      "Traceback (most recent call last):\n",
      "  File \"C:\\Users\\guzra\\PycharmProjects\\Diploma\\files\\lib\\site-packages\\sklearn\\model_selection\\_validation.py\", line 680, in _fit_and_score\n",
      "    estimator.fit(X_train, y_train, **fit_params)\n",
      "  File \"C:\\Users\\guzra\\AppData\\Local\\Temp\\ipykernel_11560\\2699103946.py\", line 27, in fit\n",
      "    zeros_subsample = np.random.choice(zeros_indexes, size = int(num_ones*self.zeros_ratio), replace=False, p=None)\n",
      "  File \"mtrand.pyx\", line 965, in numpy.random.mtrand.RandomState.choice\n",
      "ValueError: Cannot take a larger sample than population when 'replace=False'\n",
      "\n",
      "  warnings.warn(some_fits_failed_message, FitFailedWarning)\n",
      "\n",
      "C:\\Users\\guzra\\PycharmProjects\\Diploma\\files\\lib\\site-packages\\sklearn\\model_selection\\_validation.py:372: FitFailedWarning: \n",
      "5 fits failed out of a total of 5.\n",
      "The score on these train-test partitions for these parameters will be set to nan.\n",
      "If these failures are not expected, you can try to debug them by setting error_score='raise'.\n",
      "\n",
      "Below are more details about the failures:\n",
      "--------------------------------------------------------------------------------\n",
      "5 fits failed with the following error:\n",
      "Traceback (most recent call last):\n",
      "  File \"C:\\Users\\guzra\\PycharmProjects\\Diploma\\files\\lib\\site-packages\\sklearn\\model_selection\\_validation.py\", line 680, in _fit_and_score\n",
      "    estimator.fit(X_train, y_train, **fit_params)\n",
      "  File \"C:\\Users\\guzra\\AppData\\Local\\Temp\\ipykernel_11560\\2699103946.py\", line 27, in fit\n",
      "    zeros_subsample = np.random.choice(zeros_indexes, size = int(num_ones*self.zeros_ratio), replace=False, p=None)\n",
      "  File \"mtrand.pyx\", line 965, in numpy.random.mtrand.RandomState.choice\n",
      "ValueError: Cannot take a larger sample than population when 'replace=False'\n",
      "\n",
      "  warnings.warn(some_fits_failed_message, FitFailedWarning)\n",
      "\n",
      "C:\\Users\\guzra\\PycharmProjects\\Diploma\\files\\lib\\site-packages\\sklearn\\model_selection\\_validation.py:372: FitFailedWarning: \n",
      "5 fits failed out of a total of 5.\n",
      "The score on these train-test partitions for these parameters will be set to nan.\n",
      "If these failures are not expected, you can try to debug them by setting error_score='raise'.\n",
      "\n",
      "Below are more details about the failures:\n",
      "--------------------------------------------------------------------------------\n",
      "5 fits failed with the following error:\n",
      "Traceback (most recent call last):\n",
      "  File \"C:\\Users\\guzra\\PycharmProjects\\Diploma\\files\\lib\\site-packages\\sklearn\\model_selection\\_validation.py\", line 680, in _fit_and_score\n",
      "    estimator.fit(X_train, y_train, **fit_params)\n",
      "  File \"C:\\Users\\guzra\\AppData\\Local\\Temp\\ipykernel_11560\\2699103946.py\", line 27, in fit\n",
      "    zeros_subsample = np.random.choice(zeros_indexes, size = int(num_ones*self.zeros_ratio), replace=False, p=None)\n",
      "  File \"mtrand.pyx\", line 965, in numpy.random.mtrand.RandomState.choice\n",
      "ValueError: Cannot take a larger sample than population when 'replace=False'\n",
      "\n",
      "  warnings.warn(some_fits_failed_message, FitFailedWarning)\n",
      "\n",
      "C:\\Users\\guzra\\PycharmProjects\\Diploma\\files\\lib\\site-packages\\sklearn\\model_selection\\_validation.py:372: FitFailedWarning: \n",
      "5 fits failed out of a total of 5.\n",
      "The score on these train-test partitions for these parameters will be set to nan.\n",
      "If these failures are not expected, you can try to debug them by setting error_score='raise'.\n",
      "\n",
      "Below are more details about the failures:\n",
      "--------------------------------------------------------------------------------\n",
      "5 fits failed with the following error:\n",
      "Traceback (most recent call last):\n",
      "  File \"C:\\Users\\guzra\\PycharmProjects\\Diploma\\files\\lib\\site-packages\\sklearn\\model_selection\\_validation.py\", line 680, in _fit_and_score\n",
      "    estimator.fit(X_train, y_train, **fit_params)\n",
      "  File \"C:\\Users\\guzra\\AppData\\Local\\Temp\\ipykernel_11560\\2699103946.py\", line 27, in fit\n",
      "    zeros_subsample = np.random.choice(zeros_indexes, size = int(num_ones*self.zeros_ratio), replace=False, p=None)\n",
      "  File \"mtrand.pyx\", line 965, in numpy.random.mtrand.RandomState.choice\n",
      "ValueError: Cannot take a larger sample than population when 'replace=False'\n",
      "\n",
      "  warnings.warn(some_fits_failed_message, FitFailedWarning)\n",
      "\n"
     ]
    },
    {
     "name": "stdout",
     "output_type": "stream",
     "text": [
      "100%|██████████| 30/30 [10:00<00:00, 20.03s/trial, best loss: -0.26528932653619763]\n",
      "{'column_probability': 0.04442839844302744, 'ensemble_quantile': 0.9895478960413301, 'scale_pos_weight': 0.4621489719475659, 'zeros_ratio': 0.32011010776657195}\n"
     ]
    },
    {
     "name": "stderr",
     "output_type": "stream",
     "text": [
      "C:\\Users\\guzra\\PycharmProjects\\Diploma\\files\\lib\\site-packages\\sklearn\\model_selection\\_validation.py:372: FitFailedWarning: \n",
      "1 fits failed out of a total of 5.\n",
      "The score on these train-test partitions for these parameters will be set to nan.\n",
      "If these failures are not expected, you can try to debug them by setting error_score='raise'.\n",
      "\n",
      "Below are more details about the failures:\n",
      "--------------------------------------------------------------------------------\n",
      "1 fits failed with the following error:\n",
      "Traceback (most recent call last):\n",
      "  File \"C:\\Users\\guzra\\PycharmProjects\\Diploma\\files\\lib\\site-packages\\sklearn\\model_selection\\_validation.py\", line 680, in _fit_and_score\n",
      "    estimator.fit(X_train, y_train, **fit_params)\n",
      "  File \"C:\\Users\\guzra\\AppData\\Local\\Temp\\ipykernel_11560\\2699103946.py\", line 27, in fit\n",
      "    zeros_subsample = np.random.choice(zeros_indexes, size = int(num_ones*self.zeros_ratio), replace=False, p=None)\n",
      "  File \"mtrand.pyx\", line 965, in numpy.random.mtrand.RandomState.choice\n",
      "ValueError: Cannot take a larger sample than population when 'replace=False'\n",
      "\n",
      "  warnings.warn(some_fits_failed_message, FitFailedWarning)\n",
      "\n"
     ]
    }
   ],
   "source": [
    "#hyperopt\n",
    "X = df.drop('Bankrupt?', axis=1).to_numpy()\n",
    "y = df.loc[:,'Bankrupt?'].to_numpy()\n",
    "\n",
    "def hyperopt_train_test(params):\n",
    "    clf = ResampledEnsembleSVM(n_estimators = 100, **params)\n",
    "    return sklearn.model_selection.cross_val_score(clf, X, y, scoring = \"f1\").mean()\n",
    "\n",
    "params_space = {\n",
    "    'zeros_ratio': hyperopt.hp.lognormal('zeros_ratio', 0, 1),\n",
    "    'scale_pos_weight': hyperopt.hp.lognormal('scale_pos_weight', 0, 1),\n",
    "    'ensemble_quantile': hyperopt.hp.uniform('ensemble_quantile', 0, 1),\n",
    "    'column_probability': hyperopt.hp.uniform('column_probability', 0, 0.1),\n",
    "\n",
    "}\n",
    "def f(params):\n",
    "    acc = hyperopt_train_test(params)\n",
    "    return {'loss': -acc, 'status': hyperopt.STATUS_OK}\n",
    "\n",
    "trials = hyperopt.Trials() #объект для сбора информации об ошибках\n",
    "best = hyperopt.fmin(f, params_space, algo = hyperopt.tpe.suggest, max_evals = 30, trials = trials)\n",
    "print(best)"
   ],
   "metadata": {
    "collapsed": false,
    "pycharm": {
     "name": "#%%\n"
    }
   }
  },
  {
   "cell_type": "code",
   "execution_count": 17,
   "outputs": [],
   "source": [
    "def plot_trials(trials, param):\n",
    "    f, ax = plt.subplots(1)\n",
    "    xs = [t[\"tid\"] for t in trials.trials]\n",
    "    ys = [t['misc']['vals'][param] for t in trials.trials]\n",
    "    zs = np.array([-t[\"result\"]['loss'] for t in trials.trials])\n",
    "\n",
    "    image = ax.scatter(xs, ys, c = zs, s = 100*zs+5, linewidth = 2 , alpha = 1)\n",
    "    ax.set_xlabel('iteration', fontsize = 8)\n",
    "    ax.set_ylabel(param, fontsize = 8)\n",
    "    f.colorbar(image)"
   ],
   "metadata": {
    "collapsed": false,
    "pycharm": {
     "name": "#%%\n"
    }
   }
  },
  {
   "cell_type": "code",
   "execution_count": 18,
   "outputs": [
    {
     "data": {
      "text/plain": "<Figure size 640x480 with 2 Axes>",
      "image/png": "[encoded data removed]"
     },
     "metadata": {},
     "output_type": "display_data"
    },
    {
     "data": {
      "text/plain": "<Figure size 640x480 with 2 Axes>",
      "image/png": "[encoded data removed]"
     },
     "metadata": {},
     "output_type": "display_data"
    },
    {
     "data": {
      "text/plain": "<Figure size 640x480 with 2 Axes>",
      "image/png": "[encoded data removed]"
     },
     "metadata": {},
     "output_type": "display_data"
    },
    {
     "data": {
      "text/plain": "<Figure size 640x480 with 2 Axes>",
      "image/png": "[encoded data removed]"
     },
     "metadata": {},
     "output_type": "display_data"
    }
   ],
   "source": [
    "for params in params_space:\n",
    "    plot_trials(trials, params)"
   ],
   "metadata": {
    "collapsed": false,
    "pycharm": {
     "name": "#%%\n"
    }
   }
  }
 ],
 "metadata": {
  "kernelspec": {
   "display_name": "Python 3",
   "language": "python",
   "name": "python3"
  },
  "language_info": {
   "codemirror_mode": {
    "name": "ipython",
    "version": 2
   },
   "file_extension": ".py",
   "mimetype": "text/x-python",
   "name": "python",
   "nbconvert_exporter": "python",
   "pygments_lexer": "ipython2",
   "version": "2.7.6"
  }
 },
 "nbformat": 4,
 "nbformat_minor": 0
}