{
 "cells": [
  {
   "cell_type": "code",
   "execution_count": 1,
   "metadata": {
    "collapsed": true
   },
   "outputs": [],
   "source": [
    "import pandas as pd\n",
    "import numpy as np\n",
    "import sklearn.base\n",
    "from sklearn.model_selection import cross_validate\n",
    "from sklearn.model_selection import RepeatedKFold\n",
    "from xgboost import XGBClassifier\n",
    "from sklearn.linear_model import LogisticRegressionCV\n",
    "from sklearn import svm\n",
    "from sklearn.tree import DecisionTreeClassifier\n",
    "import imblearn\n",
    "from collections import Counter\n",
    "import hyperopt\n",
    "import matplotlib.pyplot as plt\n",
    "from sklearn.ensemble import StackingClassifier"
   ]
  },
  {
   "cell_type": "code",
   "execution_count": 2,
   "outputs": [
    {
     "name": "stdout",
     "output_type": "stream",
     "text": [
      "Bankrupt?                                                     int64\n",
      " ROA(C) before interest and depreciation before interest    float64\n",
      " ROA(A) before interest and % after tax                     float64\n",
      " ROA(B) before interest and depreciation after tax          float64\n",
      " Operating Gross Margin                                     float64\n",
      " Realized Sales Gross Margin                                float64\n",
      " Operating Profit Rate                                      float64\n",
      " Pre-tax net Interest Rate                                  float64\n",
      " After-tax net Interest Rate                                float64\n",
      " Non-industry income and expenditure/revenue                float64\n",
      " Continuous interest rate (after tax)                       float64\n",
      " Operating Expense Rate                                     float64\n",
      " Research and development expense rate                      float64\n",
      " Cash flow rate                                             float64\n",
      " Interest-bearing debt interest rate                        float64\n",
      " Tax rate (A)                                               float64\n",
      " Net Value Per Share (B)                                    float64\n",
      " Net Value Per Share (A)                                    float64\n",
      " Net Value Per Share (C)                                    float64\n",
      " Persistent EPS in the Last Four Seasons                    float64\n",
      " Cash Flow Per Share                                        float64\n",
      " Revenue Per Share (Yuan ¥)                                 float64\n",
      " Operating Profit Per Share (Yuan ¥)                        float64\n",
      " Per Share Net profit before tax (Yuan ¥)                   float64\n",
      " Realized Sales Gross Profit Growth Rate                    float64\n",
      " Operating Profit Growth Rate                               float64\n",
      " After-tax Net Profit Growth Rate                           float64\n",
      " Regular Net Profit Growth Rate                             float64\n",
      " Continuous Net Profit Growth Rate                          float64\n",
      " Total Asset Growth Rate                                    float64\n",
      " Net Value Growth Rate                                      float64\n",
      " Total Asset Return Growth Rate Ratio                       float64\n",
      " Cash Reinvestment %                                        float64\n",
      " Current Ratio                                              float64\n",
      " Quick Ratio                                                float64\n",
      " Interest Expense Ratio                                     float64\n",
      " Total debt/Total net worth                                 float64\n",
      " Debt ratio %                                               float64\n",
      " Net worth/Assets                                           float64\n",
      " Long-term fund suitability ratio (A)                       float64\n",
      " Borrowing dependency                                       float64\n",
      " Contingent liabilities/Net worth                           float64\n",
      " Operating profit/Paid-in capital                           float64\n",
      " Net profit before tax/Paid-in capital                      float64\n",
      " Inventory and accounts receivable/Net value                float64\n",
      " Total Asset Turnover                                       float64\n",
      " Accounts Receivable Turnover                               float64\n",
      " Average Collection Days                                    float64\n",
      " Inventory Turnover Rate (times)                            float64\n",
      " Fixed Assets Turnover Frequency                            float64\n",
      " Net Worth Turnover Rate (times)                            float64\n",
      " Revenue per person                                         float64\n",
      " Operating profit per person                                float64\n",
      " Allocation rate per person                                 float64\n",
      " Working Capital to Total Assets                            float64\n",
      " Quick Assets/Total Assets                                  float64\n",
      " Current Assets/Total Assets                                float64\n",
      " Cash/Total Assets                                          float64\n",
      " Quick Assets/Current Liability                             float64\n",
      " Cash/Current Liability                                     float64\n",
      " Current Liability to Assets                                float64\n",
      " Operating Funds to Liability                               float64\n",
      " Inventory/Working Capital                                  float64\n",
      " Inventory/Current Liability                                float64\n",
      " Current Liabilities/Liability                              float64\n",
      " Working Capital/Equity                                     float64\n",
      " Current Liabilities/Equity                                 float64\n",
      " Long-term Liability to Current Assets                      float64\n",
      " Retained Earnings to Total Assets                          float64\n",
      " Total income/Total expense                                 float64\n",
      " Total expense/Assets                                       float64\n",
      " Current Asset Turnover Rate                                float64\n",
      " Quick Asset Turnover Rate                                  float64\n",
      " Working capitcal Turnover Rate                             float64\n",
      " Cash Turnover Rate                                         float64\n",
      " Cash Flow to Sales                                         float64\n",
      " Fixed Assets to Assets                                     float64\n",
      " Current Liability to Liability                             float64\n",
      " Current Liability to Equity                                float64\n",
      " Equity to Long-term Liability                              float64\n",
      " Cash Flow to Total Assets                                  float64\n",
      " Cash Flow to Liability                                     float64\n",
      " CFO to Assets                                              float64\n",
      " Cash Flow to Equity                                        float64\n",
      " Current Liability to Current Assets                        float64\n",
      " Liability-Assets Flag                                        int64\n",
      " Net Income to Total Assets                                 float64\n",
      " Total assets to GNP price                                  float64\n",
      " No-credit Interval                                         float64\n",
      " Gross Profit to Sales                                      float64\n",
      " Net Income to Stockholder's Equity                         float64\n",
      " Liability to Equity                                        float64\n",
      " Degree of Financial Leverage (DFL)                         float64\n",
      " Interest Coverage Ratio (Interest expense to EBIT)         float64\n",
      " Net Income Flag                                              int64\n",
      " Equity to Liability                                        float64\n",
      "dtype: object\n"
     ]
    }
   ],
   "source": [
    "#задание количества выводимых на экран строк\n",
    "pd.options.display.max_rows = 96\n",
    "#создание датафрейма\n",
    "df = pd.read_csv(\"data.csv\")\n",
    "#вывели типы данных, X - входные данные (95 колонок), y - выходные данные (1 колонка)\n",
    "print(df.dtypes)"
   ],
   "metadata": {
    "collapsed": false,
    "pycharm": {
     "name": "#%%\n"
    }
   }
  },
  {
   "cell_type": "code",
   "execution_count": 3,
   "outputs": [],
   "source": [
    "#Создали класс, реализующий ансамль XGB-моделей, обученных на случайных сбалансированных подвыборках\n",
    "class XGBoostEnsemble(sklearn.base.BaseEstimator, sklearn.base.ClassifierMixin):\n",
    "\n",
    "    def __init__(self, n_estimators = 100, zeros_ratio = 1, scale_pos_weight = 1, power = 1, ensemble_quantile = None):\n",
    "        self.n_estimators = n_estimators\n",
    "        self.classes_ = np.array([0,1])\n",
    "        self.zeros_ratio = zeros_ratio\n",
    "        self.scale_pos_weight = scale_pos_weight\n",
    "        self.power = power\n",
    "        #добавляем вместо среднего арифметического квантиль\n",
    "        self.ensemble_quantile = ensemble_quantile\n",
    "\n",
    "    def fit(self, X, y):\n",
    "        self.estimators = []\n",
    "        for i in range(self.n_estimators):\n",
    "            ones = y == 1\n",
    "            num_ones = ones.sum()\n",
    "            zeros_indexes = np.where(np.logical_not(ones))[0]\n",
    "            zeros_subsample = np.random.choice(zeros_indexes, size=int(num_ones*self.zeros_ratio), replace=False, p=None)\n",
    "            final_indexes = np.concatenate([np.where(ones)[0], zeros_subsample])\n",
    "            model = XGBClassifier(scale_pos_weight = self.scale_pos_weight)\n",
    "            model.fit(X[final_indexes,:], y[final_indexes])\n",
    "            self.estimators.append(model)\n",
    "            #print(\"Fitting of model number {} is finished\".format(i))\n",
    "            if model.classes_[0] > model.classes_[1]:\n",
    "                raise Exception(\"Wrong order of classes\")\n",
    "\n",
    "    def predict_proba(self, X):\n",
    "        results = np.zeros([self.n_estimators, X.shape[0], 2]) #количество строк в иксе, количество столбцов по числу классов [0] и [1]\n",
    "        for i in range(self.n_estimators):\n",
    "            results[i,:,:] = self.estimators[i].predict_proba(X)\n",
    "        if self.ensemble_quantile is None:\n",
    "            ensemble_results = np.mean(results**self.power, axis = 0)\n",
    "        else:\n",
    "            ensemble_results = np.quantile(results**self.power, self.ensemble_quantile, axis = 0)\n",
    "        row_sums =  np.sum(ensemble_results, axis = 1)\n",
    "        return ensemble_results/row_sums[:, None]\n",
    "\n",
    "    def predict(self, X):\n",
    "        res_classes = np.zeros(X.shape[0])\n",
    "        results = self.predict_proba(X)\n",
    "        for i in range(X.shape[0]):\n",
    "            res_classes[i] = self.classes_[np.argmax(results[i,:])]\n",
    "        return res_classes"
   ],
   "metadata": {
    "collapsed": false,
    "pycharm": {
     "name": "#%%\n"
    }
   }
  },
  {
   "cell_type": "code",
   "execution_count": 4,
   "outputs": [],
   "source": [
    "#Создали класс, реализующий ансамль LogisticRegression-моделей, обученных на случайных сбалансированных подвыборках\n",
    "class LassoEnsemble(sklearn.base.BaseEstimator, sklearn.base.ClassifierMixin):\n",
    "\n",
    "    def __init__(self, n_estimators = 100, zeros_ratio = 1, scale_pos_weight = 1, power = 1, ensemble_quantile = None, column_probability = 1):\n",
    "        self.n_estimators = n_estimators\n",
    "        self.classes_ = np.array([0,1])\n",
    "        self.zeros_ratio = zeros_ratio\n",
    "        self.scale_pos_weight = scale_pos_weight\n",
    "        self.power = power\n",
    "        #добавляем вместо среднего арифметического квантиль\n",
    "        self.ensemble_quantile = ensemble_quantile\n",
    "        #Добавили рандомизацию по колонкам признака\n",
    "        self.column_probability = column_probability\n",
    "\n",
    "    def fit(self, X, y):\n",
    "        self.estimators = []\n",
    "        self.estimators_columns = []\n",
    "        for i in range(self.n_estimators):\n",
    "            #хранит индикатор того будет ли использоваться столбец данных\n",
    "            outcome = np.random.binomial(n = 1, p = self.column_probability, size = X.shape[1])\n",
    "            while outcome.sum() == 0: #индикатор того, что ни один столбец не выбран\n",
    "                outcome = np.random.binomial(n = 1, p = self.column_probability, size = X.shape[1])\n",
    "            columns = np.where(outcome == 1)[0]\n",
    "            self.estimators_columns.append(columns)\n",
    "            ones = y == 1\n",
    "            num_ones = ones.sum()\n",
    "            zeros_indexes = np.where(np.logical_not(ones))[0]\n",
    "            zeros_subsample = np.random.choice(zeros_indexes, size = int(num_ones*self.zeros_ratio), replace=False, p=None)\n",
    "            final_indexes = np.concatenate([np.where(ones)[0], zeros_subsample])\n",
    "            # print(final_indexes)\n",
    "            # print(X[final_indexes, columns])\n",
    "            model = LogisticRegressionCV(penalty='l2', solver=\"saga\", class_weight = {0: 1, 1: self.scale_pos_weight}, max_iter = 100000)\n",
    "            #model.fit(X[final_indexes, :], y[final_indexes])\n",
    "            model.fit(X[np.ix_(final_indexes, columns)], y[final_indexes])\n",
    "            self.estimators.append(model)\n",
    "            #print(\"Fitting of model number {} is finished\".format(i))\n",
    "            if model.classes_[0] > model.classes_[1]:\n",
    "                raise Exception(\"Wrong order of classes\")\n",
    "\n",
    "    def predict_proba(self, X):\n",
    "        results = np.zeros([self.n_estimators, X.shape[0], 2]) #количество строк в иксе, количество столбцов по числу классов [0] и [1]\n",
    "        for i in range(self.n_estimators):\n",
    "            results[i,:,:] = self.estimators[i].predict_proba(X[:, self.estimators_columns[i]])\n",
    "        if self.ensemble_quantile is None:\n",
    "            ensemble_results = np.mean(results**self.power, axis = 0)\n",
    "        else:\n",
    "            ensemble_results = np.quantile(results**self.power, self.ensemble_quantile, axis = 0)\n",
    "        row_sums =  np.sum(ensemble_results, axis = 1)\n",
    "        return ensemble_results/row_sums[:, None]\n",
    "\n",
    "    def predict(self, X):\n",
    "        res_classes = np.zeros(X.shape[0])\n",
    "        results = self.predict_proba(X)\n",
    "        for i in range(X.shape[0]):\n",
    "            res_classes[i] = self.classes_[np.argmax(results[i,:])]\n",
    "        return res_classes"
   ],
   "metadata": {
    "collapsed": false,
    "pycharm": {
     "name": "#%%\n"
    }
   }
  },
  {
   "cell_type": "code",
   "execution_count": 5,
   "outputs": [],
   "source": [
    "#Создали класс, реализующий ансамль LogisticRegression-моделей, обученных на случайных сбалансированных подвыборках\n",
    "class SVMEnsemble(sklearn.base.BaseEstimator, sklearn.base.ClassifierMixin):\n",
    "\n",
    "    def __init__(self, n_estimators = 100, zeros_ratio = 1, scale_pos_weight = 1, ensemble_quantile = 0.5, column_probability = 1):\n",
    "        self.n_estimators = n_estimators\n",
    "        self.classes_ = np.array([0,1])\n",
    "        self.zeros_ratio = zeros_ratio\n",
    "        self.scale_pos_weight = scale_pos_weight\n",
    "        #добавляем вместо среднего арифметического квантиль\n",
    "        self.ensemble_quantile = ensemble_quantile\n",
    "        #Добавили рандомизацию по колонкам признака\n",
    "        self.column_probability = column_probability\n",
    "\n",
    "    def fit(self, X, y):\n",
    "        self.estimators = []\n",
    "        self.estimators_columns = []\n",
    "        for i in range(self.n_estimators):\n",
    "            #хранит индикатор того будет ли использоваться столбец данных\n",
    "            outcome = np.random.binomial(n = 1, p = self.column_probability, size = X.shape[1])\n",
    "            while outcome.sum() == 0: #индикатор того, что ни один столбец не выбран\n",
    "                outcome = np.random.binomial(n = 1, p = self.column_probability, size = X.shape[1])\n",
    "            columns = np.where(outcome == 1)[0]\n",
    "            self.estimators_columns.append(columns)\n",
    "            ones = y == 1\n",
    "            num_ones = ones.sum()\n",
    "            zeros_indexes = np.where(np.logical_not(ones))[0]\n",
    "            zeros_subsample = np.random.choice(zeros_indexes, size = int(num_ones*self.zeros_ratio), replace=False, p=None)\n",
    "            final_indexes = np.concatenate([np.where(ones)[0], zeros_subsample])\n",
    "            # print(final_indexes)\n",
    "            # print(X[final_indexes, columns])\n",
    "            model = svm.SVC(class_weight = {0: 1, 1: self.scale_pos_weight})\n",
    "            #model.fit(X[final_indexes, :], y[final_indexes])\n",
    "            model.fit(X[np.ix_(final_indexes, columns)], y[final_indexes])\n",
    "            self.estimators.append(model)\n",
    "            #print(\"Fitting of model number {} is finished\".format(i))\n",
    "            if model.classes_[0] > model.classes_[1]:\n",
    "                raise Exception(\"Wrong order of classes\")\n",
    "\n",
    "    def predict(self, X):\n",
    "        results = np.zeros([self.n_estimators, X.shape[0]])\n",
    "        for i in range(self.n_estimators):\n",
    "            results[i,:] = self.estimators[i].predict(X[:, self.estimators_columns[i]])\n",
    "        res_classes = (results.sum(axis = 0) >= results.shape[0]*self.ensemble_quantile).astype(int)\n",
    "        return res_classes"
   ],
   "metadata": {
    "collapsed": false,
    "pycharm": {
     "name": "#%%\n"
    }
   }
  },
  {
   "cell_type": "code",
   "execution_count": 6,
   "outputs": [],
   "source": [
    "base_learners = [\n",
    "                 ('XGBoost', XGBoostEnsemble(n_estimators = 20, zeros_ratio = 20, scale_pos_weight = 55, ensemble_quantile = 0.5)),\n",
    "                 ('Lasso', LassoEnsemble(n_estimators = 100, zeros_ratio = 2, column_probability = 0.05, ensemble_quantile = 0.87)),\n",
    "                 ('SVM', SVMEnsemble(ensemble_quantile = 0.6, column_probability = 0.01))\n",
    "                ]"
   ],
   "metadata": {
    "collapsed": false,
    "pycharm": {
     "name": "#%%\n"
    }
   }
  },
  {
   "cell_type": "code",
   "execution_count": 8,
   "outputs": [
    {
     "name": "stdout",
     "output_type": "stream",
     "text": [
      "fit_time: 806.983 (123.234)\n",
      "score_time: 5.201 (0.979)\n",
      "test_accuracy: 0.968 (0.004)\n",
      "test_precision: 0.516 (0.067)\n",
      "test_recall: 0.281 (0.111)\n",
      "test_f1: 0.352 (0.092)\n"
     ]
    }
   ],
   "source": [
    "X = df.drop('Bankrupt?', axis=1).to_numpy()\n",
    "y = df.loc[:,'Bankrupt?'].to_numpy()\n",
    "\n",
    "model = StackingClassifier(estimators = base_learners, final_estimator = sklearn.linear_model.LogisticRegression(), cv = RepeatedKFold(n_splits = 5, n_repeats = 1, random_state = 1))\n",
    "cv = RepeatedKFold(n_splits = 5, n_repeats = 1, random_state = 1)\n",
    "n_scores = cross_validate(model, X, y, scoring = ['accuracy', 'precision', 'recall', 'f1'], cv = cv, n_jobs = 4)\n",
    "\n",
    "for k in n_scores:\n",
    "    print('{}: {:.3f} ({:.3f})'.format(k, n_scores[k].mean(), n_scores[k].std()))"
   ],
   "metadata": {
    "collapsed": false,
    "pycharm": {
     "name": "#%%\n"
    }
   }
  },
  {
   "cell_type": "code",
   "execution_count": 9,
   "outputs": [
    {
     "name": "stdout",
     "output_type": "stream",
     "text": [
      "fit_time: 841.684 (146.338)\n",
      "score_time: 6.118 (1.220)\n",
      "test_accuracy: 0.954 (0.004)\n",
      "test_precision: 0.302 (0.037)\n",
      "test_recall: 0.332 (0.042)\n",
      "test_f1: 0.316 (0.038)\n"
     ]
    }
   ],
   "source": [
    "X = df.drop('Bankrupt?', axis=1).to_numpy()\n",
    "y = df.loc[:,'Bankrupt?'].to_numpy()\n",
    "\n",
    "model = StackingClassifier(estimators = base_learners, final_estimator = sklearn.tree.DecisionTreeClassifier(max_depth = 20), cv = RepeatedKFold(n_splits = 5, n_repeats = 1, random_state = 1))\n",
    "cv = RepeatedKFold(n_splits = 5, n_repeats = 1, random_state = 1)\n",
    "n_scores = cross_validate(model, X, y, scoring = ['accuracy', 'precision', 'recall', 'f1'], cv = cv, n_jobs = 4)\n",
    "\n",
    "for k in n_scores:\n",
    "    print('{}: {:.3f} ({:.3f})'.format(k, n_scores[k].mean(), n_scores[k].std()))"
   ],
   "metadata": {
    "collapsed": false,
    "pycharm": {
     "name": "#%%\n"
    }
   }
  },
  {
   "cell_type": "code",
   "execution_count": null,
   "outputs": [
    {
     "ename": "KeyboardInterrupt",
     "evalue": "",
     "output_type": "error",
     "traceback": [
      "\u001B[1;31m---------------------------------------------------------------------------\u001B[0m",
      "\u001B[1;31mKeyboardInterrupt\u001B[0m                         Traceback (most recent call last)",
      "\u001B[1;32m~\\AppData\\Local\\Temp\\ipykernel_12856\\3860744377.py\u001B[0m in \u001B[0;36m<module>\u001B[1;34m\u001B[0m\n\u001B[0;32m      4\u001B[0m \u001B[0mmodel\u001B[0m \u001B[1;33m=\u001B[0m \u001B[0mStackingClassifier\u001B[0m\u001B[1;33m(\u001B[0m\u001B[0mestimators\u001B[0m \u001B[1;33m=\u001B[0m \u001B[0mbase_learners\u001B[0m\u001B[1;33m,\u001B[0m \u001B[0mfinal_estimator\u001B[0m \u001B[1;33m=\u001B[0m \u001B[0mXGBClassifier\u001B[0m\u001B[1;33m(\u001B[0m\u001B[1;33m)\u001B[0m\u001B[1;33m,\u001B[0m \u001B[0mcv\u001B[0m \u001B[1;33m=\u001B[0m \u001B[0mRepeatedKFold\u001B[0m\u001B[1;33m(\u001B[0m\u001B[0mn_splits\u001B[0m \u001B[1;33m=\u001B[0m \u001B[1;36m5\u001B[0m\u001B[1;33m,\u001B[0m \u001B[0mn_repeats\u001B[0m \u001B[1;33m=\u001B[0m \u001B[1;36m1\u001B[0m\u001B[1;33m,\u001B[0m \u001B[0mrandom_state\u001B[0m \u001B[1;33m=\u001B[0m \u001B[1;36m1\u001B[0m\u001B[1;33m)\u001B[0m\u001B[1;33m)\u001B[0m\u001B[1;33m\u001B[0m\u001B[1;33m\u001B[0m\u001B[0m\n\u001B[0;32m      5\u001B[0m \u001B[0mcv\u001B[0m \u001B[1;33m=\u001B[0m \u001B[0mRepeatedKFold\u001B[0m\u001B[1;33m(\u001B[0m\u001B[0mn_splits\u001B[0m \u001B[1;33m=\u001B[0m \u001B[1;36m5\u001B[0m\u001B[1;33m,\u001B[0m \u001B[0mn_repeats\u001B[0m \u001B[1;33m=\u001B[0m \u001B[1;36m1\u001B[0m\u001B[1;33m,\u001B[0m \u001B[0mrandom_state\u001B[0m \u001B[1;33m=\u001B[0m \u001B[1;36m1\u001B[0m\u001B[1;33m)\u001B[0m\u001B[1;33m\u001B[0m\u001B[1;33m\u001B[0m\u001B[0m\n\u001B[1;32m----> 6\u001B[1;33m \u001B[0mn_scores\u001B[0m \u001B[1;33m=\u001B[0m \u001B[0mcross_validate\u001B[0m\u001B[1;33m(\u001B[0m\u001B[0mmodel\u001B[0m\u001B[1;33m,\u001B[0m \u001B[0mX\u001B[0m\u001B[1;33m,\u001B[0m \u001B[0my\u001B[0m\u001B[1;33m,\u001B[0m \u001B[0mscoring\u001B[0m \u001B[1;33m=\u001B[0m \u001B[1;33m[\u001B[0m\u001B[1;34m'accuracy'\u001B[0m\u001B[1;33m,\u001B[0m \u001B[1;34m'precision'\u001B[0m\u001B[1;33m,\u001B[0m \u001B[1;34m'recall'\u001B[0m\u001B[1;33m,\u001B[0m \u001B[1;34m'f1'\u001B[0m\u001B[1;33m]\u001B[0m\u001B[1;33m,\u001B[0m \u001B[0mcv\u001B[0m \u001B[1;33m=\u001B[0m \u001B[0mcv\u001B[0m\u001B[1;33m,\u001B[0m \u001B[0mn_jobs\u001B[0m \u001B[1;33m=\u001B[0m \u001B[1;36m4\u001B[0m\u001B[1;33m)\u001B[0m\u001B[1;33m\u001B[0m\u001B[1;33m\u001B[0m\u001B[0m\n\u001B[0m\u001B[0;32m      7\u001B[0m \u001B[1;33m\u001B[0m\u001B[0m\n\u001B[0;32m      8\u001B[0m \u001B[1;32mfor\u001B[0m \u001B[0mk\u001B[0m \u001B[1;32min\u001B[0m \u001B[0mn_scores\u001B[0m\u001B[1;33m:\u001B[0m\u001B[1;33m\u001B[0m\u001B[1;33m\u001B[0m\u001B[0m\n",
      "\u001B[1;32m~\\PycharmProjects\\Diploma\\files\\lib\\site-packages\\sklearn\\model_selection\\_validation.py\u001B[0m in \u001B[0;36mcross_validate\u001B[1;34m(estimator, X, y, groups, scoring, cv, n_jobs, verbose, fit_params, pre_dispatch, return_train_score, return_estimator, error_score)\u001B[0m\n\u001B[0;32m    281\u001B[0m             \u001B[0merror_score\u001B[0m\u001B[1;33m=\u001B[0m\u001B[0merror_score\u001B[0m\u001B[1;33m,\u001B[0m\u001B[1;33m\u001B[0m\u001B[1;33m\u001B[0m\u001B[0m\n\u001B[0;32m    282\u001B[0m         )\n\u001B[1;32m--> 283\u001B[1;33m         \u001B[1;32mfor\u001B[0m \u001B[0mtrain\u001B[0m\u001B[1;33m,\u001B[0m \u001B[0mtest\u001B[0m \u001B[1;32min\u001B[0m \u001B[0mcv\u001B[0m\u001B[1;33m.\u001B[0m\u001B[0msplit\u001B[0m\u001B[1;33m(\u001B[0m\u001B[0mX\u001B[0m\u001B[1;33m,\u001B[0m \u001B[0my\u001B[0m\u001B[1;33m,\u001B[0m \u001B[0mgroups\u001B[0m\u001B[1;33m)\u001B[0m\u001B[1;33m\u001B[0m\u001B[1;33m\u001B[0m\u001B[0m\n\u001B[0m\u001B[0;32m    284\u001B[0m     )\n\u001B[0;32m    285\u001B[0m \u001B[1;33m\u001B[0m\u001B[0m\n",
      "\u001B[1;32m~\\PycharmProjects\\Diploma\\files\\lib\\site-packages\\joblib\\parallel.py\u001B[0m in \u001B[0;36m__call__\u001B[1;34m(self, iterable)\u001B[0m\n\u001B[0;32m   1096\u001B[0m \u001B[1;33m\u001B[0m\u001B[0m\n\u001B[0;32m   1097\u001B[0m             \u001B[1;32mwith\u001B[0m \u001B[0mself\u001B[0m\u001B[1;33m.\u001B[0m\u001B[0m_backend\u001B[0m\u001B[1;33m.\u001B[0m\u001B[0mretrieval_context\u001B[0m\u001B[1;33m(\u001B[0m\u001B[1;33m)\u001B[0m\u001B[1;33m:\u001B[0m\u001B[1;33m\u001B[0m\u001B[1;33m\u001B[0m\u001B[0m\n\u001B[1;32m-> 1098\u001B[1;33m                 \u001B[0mself\u001B[0m\u001B[1;33m.\u001B[0m\u001B[0mretrieve\u001B[0m\u001B[1;33m(\u001B[0m\u001B[1;33m)\u001B[0m\u001B[1;33m\u001B[0m\u001B[1;33m\u001B[0m\u001B[0m\n\u001B[0m\u001B[0;32m   1099\u001B[0m             \u001B[1;31m# Make sure that we get a last message telling us we are done\u001B[0m\u001B[1;33m\u001B[0m\u001B[1;33m\u001B[0m\u001B[1;33m\u001B[0m\u001B[0m\n\u001B[0;32m   1100\u001B[0m             \u001B[0melapsed_time\u001B[0m \u001B[1;33m=\u001B[0m \u001B[0mtime\u001B[0m\u001B[1;33m.\u001B[0m\u001B[0mtime\u001B[0m\u001B[1;33m(\u001B[0m\u001B[1;33m)\u001B[0m \u001B[1;33m-\u001B[0m \u001B[0mself\u001B[0m\u001B[1;33m.\u001B[0m\u001B[0m_start_time\u001B[0m\u001B[1;33m\u001B[0m\u001B[1;33m\u001B[0m\u001B[0m\n",
      "\u001B[1;32m~\\PycharmProjects\\Diploma\\files\\lib\\site-packages\\joblib\\parallel.py\u001B[0m in \u001B[0;36mretrieve\u001B[1;34m(self)\u001B[0m\n\u001B[0;32m    973\u001B[0m             \u001B[1;32mtry\u001B[0m\u001B[1;33m:\u001B[0m\u001B[1;33m\u001B[0m\u001B[1;33m\u001B[0m\u001B[0m\n\u001B[0;32m    974\u001B[0m                 \u001B[1;32mif\u001B[0m \u001B[0mgetattr\u001B[0m\u001B[1;33m(\u001B[0m\u001B[0mself\u001B[0m\u001B[1;33m.\u001B[0m\u001B[0m_backend\u001B[0m\u001B[1;33m,\u001B[0m \u001B[1;34m'supports_timeout'\u001B[0m\u001B[1;33m,\u001B[0m \u001B[1;32mFalse\u001B[0m\u001B[1;33m)\u001B[0m\u001B[1;33m:\u001B[0m\u001B[1;33m\u001B[0m\u001B[1;33m\u001B[0m\u001B[0m\n\u001B[1;32m--> 975\u001B[1;33m                     \u001B[0mself\u001B[0m\u001B[1;33m.\u001B[0m\u001B[0m_output\u001B[0m\u001B[1;33m.\u001B[0m\u001B[0mextend\u001B[0m\u001B[1;33m(\u001B[0m\u001B[0mjob\u001B[0m\u001B[1;33m.\u001B[0m\u001B[0mget\u001B[0m\u001B[1;33m(\u001B[0m\u001B[0mtimeout\u001B[0m\u001B[1;33m=\u001B[0m\u001B[0mself\u001B[0m\u001B[1;33m.\u001B[0m\u001B[0mtimeout\u001B[0m\u001B[1;33m)\u001B[0m\u001B[1;33m)\u001B[0m\u001B[1;33m\u001B[0m\u001B[1;33m\u001B[0m\u001B[0m\n\u001B[0m\u001B[0;32m    976\u001B[0m                 \u001B[1;32melse\u001B[0m\u001B[1;33m:\u001B[0m\u001B[1;33m\u001B[0m\u001B[1;33m\u001B[0m\u001B[0m\n\u001B[0;32m    977\u001B[0m                     \u001B[0mself\u001B[0m\u001B[1;33m.\u001B[0m\u001B[0m_output\u001B[0m\u001B[1;33m.\u001B[0m\u001B[0mextend\u001B[0m\u001B[1;33m(\u001B[0m\u001B[0mjob\u001B[0m\u001B[1;33m.\u001B[0m\u001B[0mget\u001B[0m\u001B[1;33m(\u001B[0m\u001B[1;33m)\u001B[0m\u001B[1;33m)\u001B[0m\u001B[1;33m\u001B[0m\u001B[1;33m\u001B[0m\u001B[0m\n",
      "\u001B[1;32m~\\PycharmProjects\\Diploma\\files\\lib\\site-packages\\joblib\\_parallel_backends.py\u001B[0m in \u001B[0;36mwrap_future_result\u001B[1;34m(future, timeout)\u001B[0m\n\u001B[0;32m    565\u001B[0m         AsyncResults.get from multiprocessing.\"\"\"\n\u001B[0;32m    566\u001B[0m         \u001B[1;32mtry\u001B[0m\u001B[1;33m:\u001B[0m\u001B[1;33m\u001B[0m\u001B[1;33m\u001B[0m\u001B[0m\n\u001B[1;32m--> 567\u001B[1;33m             \u001B[1;32mreturn\u001B[0m \u001B[0mfuture\u001B[0m\u001B[1;33m.\u001B[0m\u001B[0mresult\u001B[0m\u001B[1;33m(\u001B[0m\u001B[0mtimeout\u001B[0m\u001B[1;33m=\u001B[0m\u001B[0mtimeout\u001B[0m\u001B[1;33m)\u001B[0m\u001B[1;33m\u001B[0m\u001B[1;33m\u001B[0m\u001B[0m\n\u001B[0m\u001B[0;32m    568\u001B[0m         \u001B[1;32mexcept\u001B[0m \u001B[0mCfTimeoutError\u001B[0m \u001B[1;32mas\u001B[0m \u001B[0me\u001B[0m\u001B[1;33m:\u001B[0m\u001B[1;33m\u001B[0m\u001B[1;33m\u001B[0m\u001B[0m\n\u001B[0;32m    569\u001B[0m             \u001B[1;32mraise\u001B[0m \u001B[0mTimeoutError\u001B[0m \u001B[1;32mfrom\u001B[0m \u001B[0me\u001B[0m\u001B[1;33m\u001B[0m\u001B[1;33m\u001B[0m\u001B[0m\n",
      "\u001B[1;32mC:\\Program Files (x86)\\Microsoft Visual Studio\\Shared\\Python37_64\\lib\\concurrent\\futures\\_base.py\u001B[0m in \u001B[0;36mresult\u001B[1;34m(self, timeout)\u001B[0m\n\u001B[0;32m    428\u001B[0m                 \u001B[1;32mreturn\u001B[0m \u001B[0mself\u001B[0m\u001B[1;33m.\u001B[0m\u001B[0m__get_result\u001B[0m\u001B[1;33m(\u001B[0m\u001B[1;33m)\u001B[0m\u001B[1;33m\u001B[0m\u001B[1;33m\u001B[0m\u001B[0m\n\u001B[0;32m    429\u001B[0m \u001B[1;33m\u001B[0m\u001B[0m\n\u001B[1;32m--> 430\u001B[1;33m             \u001B[0mself\u001B[0m\u001B[1;33m.\u001B[0m\u001B[0m_condition\u001B[0m\u001B[1;33m.\u001B[0m\u001B[0mwait\u001B[0m\u001B[1;33m(\u001B[0m\u001B[0mtimeout\u001B[0m\u001B[1;33m)\u001B[0m\u001B[1;33m\u001B[0m\u001B[1;33m\u001B[0m\u001B[0m\n\u001B[0m\u001B[0;32m    431\u001B[0m \u001B[1;33m\u001B[0m\u001B[0m\n\u001B[0;32m    432\u001B[0m             \u001B[1;32mif\u001B[0m \u001B[0mself\u001B[0m\u001B[1;33m.\u001B[0m\u001B[0m_state\u001B[0m \u001B[1;32min\u001B[0m \u001B[1;33m[\u001B[0m\u001B[0mCANCELLED\u001B[0m\u001B[1;33m,\u001B[0m \u001B[0mCANCELLED_AND_NOTIFIED\u001B[0m\u001B[1;33m]\u001B[0m\u001B[1;33m:\u001B[0m\u001B[1;33m\u001B[0m\u001B[1;33m\u001B[0m\u001B[0m\n",
      "\u001B[1;32mC:\\Program Files (x86)\\Microsoft Visual Studio\\Shared\\Python37_64\\lib\\threading.py\u001B[0m in \u001B[0;36mwait\u001B[1;34m(self, timeout)\u001B[0m\n\u001B[0;32m    294\u001B[0m         \u001B[1;32mtry\u001B[0m\u001B[1;33m:\u001B[0m    \u001B[1;31m# restore state no matter what (e.g., KeyboardInterrupt)\u001B[0m\u001B[1;33m\u001B[0m\u001B[1;33m\u001B[0m\u001B[0m\n\u001B[0;32m    295\u001B[0m             \u001B[1;32mif\u001B[0m \u001B[0mtimeout\u001B[0m \u001B[1;32mis\u001B[0m \u001B[1;32mNone\u001B[0m\u001B[1;33m:\u001B[0m\u001B[1;33m\u001B[0m\u001B[1;33m\u001B[0m\u001B[0m\n\u001B[1;32m--> 296\u001B[1;33m                 \u001B[0mwaiter\u001B[0m\u001B[1;33m.\u001B[0m\u001B[0macquire\u001B[0m\u001B[1;33m(\u001B[0m\u001B[1;33m)\u001B[0m\u001B[1;33m\u001B[0m\u001B[1;33m\u001B[0m\u001B[0m\n\u001B[0m\u001B[0;32m    297\u001B[0m                 \u001B[0mgotit\u001B[0m \u001B[1;33m=\u001B[0m \u001B[1;32mTrue\u001B[0m\u001B[1;33m\u001B[0m\u001B[1;33m\u001B[0m\u001B[0m\n\u001B[0;32m    298\u001B[0m             \u001B[1;32melse\u001B[0m\u001B[1;33m:\u001B[0m\u001B[1;33m\u001B[0m\u001B[1;33m\u001B[0m\u001B[0m\n",
      "\u001B[1;31mKeyboardInterrupt\u001B[0m: "
     ]
    }
   ],
   "source": [
    "X = df.drop('Bankrupt?', axis=1).to_numpy()\n",
    "y = df.loc[:,'Bankrupt?'].to_numpy()\n",
    "\n",
    "model = StackingClassifier(estimators = base_learners, final_estimator = XGBClassifier(), cv = RepeatedKFold(n_splits = 5, n_repeats = 1, random_state = 1))\n",
    "cv = RepeatedKFold(n_splits = 5, n_repeats = 1, random_state = 1)\n",
    "n_scores = cross_validate(model, X, y, scoring = ['accuracy', 'precision', 'recall', 'f1'], cv = cv, n_jobs = 4)\n",
    "\n",
    "for k in n_scores:\n",
    "    print('{}: {:.3f} ({:.3f})'.format(k, n_scores[k].mean(), n_scores[k].std()))"
   ],
   "metadata": {
    "collapsed": false,
    "pycharm": {
     "name": "#%%\n",
     "is_executing": true
    }
   }
  },
  {
   "cell_type": "code",
   "execution_count": null,
   "outputs": [],
   "source": [],
   "metadata": {
    "collapsed": false,
    "pycharm": {
     "name": "#%%\n"
    }
   }
  }
 ],
 "metadata": {
  "kernelspec": {
   "display_name": "Python 3",
   "language": "python",
   "name": "python3"
  },
  "language_info": {
   "codemirror_mode": {
    "name": "ipython",
    "version": 2
   },
   "file_extension": ".py",
   "mimetype": "text/x-python",
   "name": "python",
   "nbconvert_exporter": "python",
   "pygments_lexer": "ipython2",
   "version": "2.7.6"
  }
 },
 "nbformat": 4,
 "nbformat_minor": 0
}