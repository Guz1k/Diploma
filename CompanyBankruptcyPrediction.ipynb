{
 "cells": [
  {
   "cell_type": "code",
   "execution_count": 1,
   "metadata": {
    "collapsed": true
   },
   "outputs": [],
   "source": [
    "import pandas as pd\n",
    "import numpy as np\n",
    "import sklearn.base\n",
    "from sklearn.model_selection import cross_validate\n",
    "from sklearn.model_selection import RepeatedKFold\n",
    "from xgboost import XGBClassifier\n",
    "import imblearn\n",
    "from collections import Counter\n",
    "from imblearn.pipeline import Pipeline\n",
    "import hyperopt\n",
    "import matplotlib.pyplot as plt\n",
    "from openpyxl.workbook import Workbook"
   ]
  },
  {
   "cell_type": "code",
   "execution_count": 2,
   "outputs": [
    {
     "name": "stdout",
     "output_type": "stream",
     "text": [
      "Bankrupt?                                                     int64\n",
      " ROA(C) before interest and depreciation before interest    float64\n",
      " ROA(A) before interest and % after tax                     float64\n",
      " ROA(B) before interest and depreciation after tax          float64\n",
      " Operating Gross Margin                                     float64\n",
      " Realized Sales Gross Margin                                float64\n",
      " Operating Profit Rate                                      float64\n",
      " Pre-tax net Interest Rate                                  float64\n",
      " After-tax net Interest Rate                                float64\n",
      " Non-industry income and expenditure/revenue                float64\n",
      " Continuous interest rate (after tax)                       float64\n",
      " Operating Expense Rate                                     float64\n",
      " Research and development expense rate                      float64\n",
      " Cash flow rate                                             float64\n",
      " Interest-bearing debt interest rate                        float64\n",
      " Tax rate (A)                                               float64\n",
      " Net Value Per Share (B)                                    float64\n",
      " Net Value Per Share (A)                                    float64\n",
      " Net Value Per Share (C)                                    float64\n",
      " Persistent EPS in the Last Four Seasons                    float64\n",
      " Cash Flow Per Share                                        float64\n",
      " Revenue Per Share (Yuan ¥)                                 float64\n",
      " Operating Profit Per Share (Yuan ¥)                        float64\n",
      " Per Share Net profit before tax (Yuan ¥)                   float64\n",
      " Realized Sales Gross Profit Growth Rate                    float64\n",
      " Operating Profit Growth Rate                               float64\n",
      " After-tax Net Profit Growth Rate                           float64\n",
      " Regular Net Profit Growth Rate                             float64\n",
      " Continuous Net Profit Growth Rate                          float64\n",
      " Total Asset Growth Rate                                    float64\n",
      " Net Value Growth Rate                                      float64\n",
      " Total Asset Return Growth Rate Ratio                       float64\n",
      " Cash Reinvestment %                                        float64\n",
      " Current Ratio                                              float64\n",
      " Quick Ratio                                                float64\n",
      " Interest Expense Ratio                                     float64\n",
      " Total debt/Total net worth                                 float64\n",
      " Debt ratio %                                               float64\n",
      " Net worth/Assets                                           float64\n",
      " Long-term fund suitability ratio (A)                       float64\n",
      " Borrowing dependency                                       float64\n",
      " Contingent liabilities/Net worth                           float64\n",
      " Operating profit/Paid-in capital                           float64\n",
      " Net profit before tax/Paid-in capital                      float64\n",
      " Inventory and accounts receivable/Net value                float64\n",
      " Total Asset Turnover                                       float64\n",
      " Accounts Receivable Turnover                               float64\n",
      " Average Collection Days                                    float64\n",
      " Inventory Turnover Rate (times)                            float64\n",
      " Fixed Assets Turnover Frequency                            float64\n",
      " Net Worth Turnover Rate (times)                            float64\n",
      " Revenue per person                                         float64\n",
      " Operating profit per person                                float64\n",
      " Allocation rate per person                                 float64\n",
      " Working Capital to Total Assets                            float64\n",
      " Quick Assets/Total Assets                                  float64\n",
      " Current Assets/Total Assets                                float64\n",
      " Cash/Total Assets                                          float64\n",
      " Quick Assets/Current Liability                             float64\n",
      " Cash/Current Liability                                     float64\n",
      " Current Liability to Assets                                float64\n",
      " Operating Funds to Liability                               float64\n",
      " Inventory/Working Capital                                  float64\n",
      " Inventory/Current Liability                                float64\n",
      " Current Liabilities/Liability                              float64\n",
      " Working Capital/Equity                                     float64\n",
      " Current Liabilities/Equity                                 float64\n",
      " Long-term Liability to Current Assets                      float64\n",
      " Retained Earnings to Total Assets                          float64\n",
      " Total income/Total expense                                 float64\n",
      " Total expense/Assets                                       float64\n",
      " Current Asset Turnover Rate                                float64\n",
      " Quick Asset Turnover Rate                                  float64\n",
      " Working capitcal Turnover Rate                             float64\n",
      " Cash Turnover Rate                                         float64\n",
      " Cash Flow to Sales                                         float64\n",
      " Fixed Assets to Assets                                     float64\n",
      " Current Liability to Liability                             float64\n",
      " Current Liability to Equity                                float64\n",
      " Equity to Long-term Liability                              float64\n",
      " Cash Flow to Total Assets                                  float64\n",
      " Cash Flow to Liability                                     float64\n",
      " CFO to Assets                                              float64\n",
      " Cash Flow to Equity                                        float64\n",
      " Current Liability to Current Assets                        float64\n",
      " Liability-Assets Flag                                        int64\n",
      " Net Income to Total Assets                                 float64\n",
      " Total assets to GNP price                                  float64\n",
      " No-credit Interval                                         float64\n",
      " Gross Profit to Sales                                      float64\n",
      " Net Income to Stockholder's Equity                         float64\n",
      " Liability to Equity                                        float64\n",
      " Degree of Financial Leverage (DFL)                         float64\n",
      " Interest Coverage Ratio (Interest expense to EBIT)         float64\n",
      " Net Income Flag                                              int64\n",
      " Equity to Liability                                        float64\n",
      "dtype: object\n"
     ]
    }
   ],
   "source": [
    "#задание количества выводимых на экран строк\n",
    "pd.options.display.max_rows = 96\n",
    "#создание датафрейма\n",
    "df = pd.read_csv(\"data.csv\")\n",
    "#вывели типы данных, X - входные данные (95 колонок), y - выходные данные (1 колонка)\n",
    "print(df.dtypes)"
   ],
   "metadata": {
    "collapsed": false,
    "pycharm": {
     "name": "#%%\n"
    }
   }
  },
  {
   "cell_type": "code",
   "execution_count": 3,
   "outputs": [
    {
     "data": {
      "text/plain": "      Bankrupt?   ROA(C) before interest and depreciation before interest  \\\n0             1                                           0.370594          \n1             1                                           0.464291          \n2             1                                           0.426071          \n3             1                                           0.399844          \n4             1                                           0.465022          \n...         ...                                                ...          \n6814          0                                           0.493687          \n6815          0                                           0.475162          \n6816          0                                           0.472725          \n6817          0                                           0.506264          \n6818          0                                           0.493053          \n\n       ROA(A) before interest and % after tax  \\\n0                                    0.424389   \n1                                    0.538214   \n2                                    0.499019   \n3                                    0.451265   \n4                                    0.538432   \n...                                       ...   \n6814                                 0.539468   \n6815                                 0.538269   \n6816                                 0.533744   \n6817                                 0.559911   \n6818                                 0.570105   \n\n       ROA(B) before interest and depreciation after tax  \\\n0                                              0.405750    \n1                                              0.516730    \n2                                              0.472295    \n3                                              0.457733    \n4                                              0.522298    \n...                                                 ...    \n6814                                           0.543230    \n6815                                           0.524172    \n6816                                           0.520638    \n6817                                           0.554045    \n6818                                           0.549548    \n\n       Operating Gross Margin   Realized Sales Gross Margin  \\\n0                    0.601457                      0.601457   \n1                    0.610235                      0.610235   \n2                    0.601450                      0.601364   \n3                    0.583541                      0.583541   \n4                    0.598783                      0.598783   \n...                       ...                           ...   \n6814                 0.604455                      0.604462   \n6815                 0.598308                      0.598308   \n6816                 0.610444                      0.610213   \n6817                 0.607850                      0.607850   \n6818                 0.627409                      0.627409   \n\n       Operating Profit Rate   Pre-tax net Interest Rate  \\\n0                   0.998969                    0.796887   \n1                   0.998946                    0.797380   \n2                   0.998857                    0.796403   \n3                   0.998700                    0.796967   \n4                   0.998973                    0.797366   \n...                      ...                         ...   \n6814                0.998992                    0.797409   \n6815                0.998992                    0.797414   \n6816                0.998984                    0.797401   \n6817                0.999074                    0.797500   \n6818                0.998080                    0.801987   \n\n       After-tax net Interest Rate  \\\n0                         0.808809   \n1                         0.809301   \n2                         0.808388   \n3                         0.808966   \n4                         0.809304   \n...                            ...   \n6814                      0.809331   \n6815                      0.809327   \n6816                      0.809317   \n6817                      0.809399   \n6818                      0.813800   \n\n       Non-industry income and expenditure/revenue  ...  \\\n0                                         0.302646  ...   \n1                                         0.303556  ...   \n2                                         0.302035  ...   \n3                                         0.303350  ...   \n4                                         0.303475  ...   \n...                                            ...  ...   \n6814                                      0.303510  ...   \n6815                                      0.303520  ...   \n6816                                      0.303512  ...   \n6817                                      0.303498  ...   \n6818                                      0.313415  ...   \n\n       Net Income to Total Assets   Total assets to GNP price  \\\n0                        0.716845                    0.009219   \n1                        0.795297                    0.008323   \n2                        0.774670                    0.040003   \n3                        0.739555                    0.003252   \n4                        0.795016                    0.003878   \n...                           ...                         ...   \n6814                     0.799927                    0.000466   \n6815                     0.799748                    0.001959   \n6816                     0.797778                    0.002840   \n6817                     0.811808                    0.002837   \n6818                     0.815956                    0.000707   \n\n       No-credit Interval   Gross Profit to Sales  \\\n0                0.622879                0.601453   \n1                0.623652                0.610237   \n2                0.623841                0.601449   \n3                0.622929                0.583538   \n4                0.623521                0.598782   \n...                   ...                     ...   \n6814             0.623620                0.604455   \n6815             0.623931                0.598306   \n6816             0.624156                0.610441   \n6817             0.623957                0.607846   \n6818             0.626680                0.627408   \n\n       Net Income to Stockholder's Equity   Liability to Equity  \\\n0                                0.827890              0.290202   \n1                                0.839969              0.283846   \n2                                0.836774              0.290189   \n3                                0.834697              0.281721   \n4                                0.839973              0.278514   \n...                                   ...                   ...   \n6814                             0.840359              0.279606   \n6815                             0.840306              0.278132   \n6816                             0.840138              0.275789   \n6817                             0.841084              0.277547   \n6818                             0.841019              0.275114   \n\n       Degree of Financial Leverage (DFL)  \\\n0                                0.026601   \n1                                0.264577   \n2                                0.026555   \n3                                0.026697   \n4                                0.024752   \n...                                   ...   \n6814                             0.027064   \n6815                             0.027009   \n6816                             0.026791   \n6817                             0.026822   \n6818                             0.026793   \n\n       Interest Coverage Ratio (Interest expense to EBIT)   Net Income Flag  \\\n0                                              0.564050                   1   \n1                                              0.570175                   1   \n2                                              0.563706                   1   \n3                                              0.564663                   1   \n4                                              0.575617                   1   \n...                                                 ...                 ...   \n6814                                           0.566193                   1   \n6815                                           0.566018                   1   \n6816                                           0.565158                   1   \n6817                                           0.565302                   1   \n6818                                           0.565167                   1   \n\n       Equity to Liability  \n0                 0.016469  \n1                 0.020794  \n2                 0.016474  \n3                 0.023982  \n4                 0.035490  \n...                    ...  \n6814              0.029890  \n6815              0.038284  \n6816              0.097649  \n6817              0.044009  \n6818              0.233902  \n\n[6819 rows x 96 columns]",
      "text/html": "<div>\n<style scoped>\n    .dataframe tbody tr th:only-of-type {\n        vertical-align: middle;\n    }\n\n    .dataframe tbody tr th {\n        vertical-align: top;\n    }\n\n    .dataframe thead th {\n        text-align: right;\n    }\n</style>\n<table border=\"1\" class=\"dataframe\">\n  <thead>\n    <tr style=\"text-align: right;\">\n      <th></th>\n      <th>Bankrupt?</th>\n      <th>ROA(C) before interest and depreciation before interest</th>\n      <th>ROA(A) before interest and % after tax</th>\n      <th>ROA(B) before interest and depreciation after tax</th>\n      <th>Operating Gross Margin</th>\n      <th>Realized Sales Gross Margin</th>\n      <th>Operating Profit Rate</th>\n      <th>Pre-tax net Interest Rate</th>\n      <th>After-tax net Interest Rate</th>\n      <th>Non-industry income and expenditure/revenue</th>\n      <th>...</th>\n      <th>Net Income to Total Assets</th>\n      <th>Total assets to GNP price</th>\n      <th>No-credit Interval</th>\n      <th>Gross Profit to Sales</th>\n      <th>Net Income to Stockholder's Equity</th>\n      <th>Liability to Equity</th>\n      <th>Degree of Financial Leverage (DFL)</th>\n      <th>Interest Coverage Ratio (Interest expense to EBIT)</th>\n      <th>Net Income Flag</th>\n      <th>Equity to Liability</th>\n    </tr>\n  </thead>\n  <tbody>\n    <tr>\n      <th>0</th>\n      <td>1</td>\n      <td>0.370594</td>\n      <td>0.424389</td>\n      <td>0.405750</td>\n      <td>0.601457</td>\n      <td>0.601457</td>\n      <td>0.998969</td>\n      <td>0.796887</td>\n      <td>0.808809</td>\n      <td>0.302646</td>\n      <td>...</td>\n      <td>0.716845</td>\n      <td>0.009219</td>\n      <td>0.622879</td>\n      <td>0.601453</td>\n      <td>0.827890</td>\n      <td>0.290202</td>\n      <td>0.026601</td>\n      <td>0.564050</td>\n      <td>1</td>\n      <td>0.016469</td>\n    </tr>\n    <tr>\n      <th>1</th>\n      <td>1</td>\n      <td>0.464291</td>\n      <td>0.538214</td>\n      <td>0.516730</td>\n      <td>0.610235</td>\n      <td>0.610235</td>\n      <td>0.998946</td>\n      <td>0.797380</td>\n      <td>0.809301</td>\n      <td>0.303556</td>\n      <td>...</td>\n      <td>0.795297</td>\n      <td>0.008323</td>\n      <td>0.623652</td>\n      <td>0.610237</td>\n      <td>0.839969</td>\n      <td>0.283846</td>\n      <td>0.264577</td>\n      <td>0.570175</td>\n      <td>1</td>\n      <td>0.020794</td>\n    </tr>\n    <tr>\n      <th>2</th>\n      <td>1</td>\n      <td>0.426071</td>\n      <td>0.499019</td>\n      <td>0.472295</td>\n      <td>0.601450</td>\n      <td>0.601364</td>\n      <td>0.998857</td>\n      <td>0.796403</td>\n      <td>0.808388</td>\n      <td>0.302035</td>\n      <td>...</td>\n      <td>0.774670</td>\n      <td>0.040003</td>\n      <td>0.623841</td>\n      <td>0.601449</td>\n      <td>0.836774</td>\n      <td>0.290189</td>\n      <td>0.026555</td>\n      <td>0.563706</td>\n      <td>1</td>\n      <td>0.016474</td>\n    </tr>\n    <tr>\n      <th>3</th>\n      <td>1</td>\n      <td>0.399844</td>\n      <td>0.451265</td>\n      <td>0.457733</td>\n      <td>0.583541</td>\n      <td>0.583541</td>\n      <td>0.998700</td>\n      <td>0.796967</td>\n      <td>0.808966</td>\n      <td>0.303350</td>\n      <td>...</td>\n      <td>0.739555</td>\n      <td>0.003252</td>\n      <td>0.622929</td>\n      <td>0.583538</td>\n      <td>0.834697</td>\n      <td>0.281721</td>\n      <td>0.026697</td>\n      <td>0.564663</td>\n      <td>1</td>\n      <td>0.023982</td>\n    </tr>\n    <tr>\n      <th>4</th>\n      <td>1</td>\n      <td>0.465022</td>\n      <td>0.538432</td>\n      <td>0.522298</td>\n      <td>0.598783</td>\n      <td>0.598783</td>\n      <td>0.998973</td>\n      <td>0.797366</td>\n      <td>0.809304</td>\n      <td>0.303475</td>\n      <td>...</td>\n      <td>0.795016</td>\n      <td>0.003878</td>\n      <td>0.623521</td>\n      <td>0.598782</td>\n      <td>0.839973</td>\n      <td>0.278514</td>\n      <td>0.024752</td>\n      <td>0.575617</td>\n      <td>1</td>\n      <td>0.035490</td>\n    </tr>\n    <tr>\n      <th>...</th>\n      <td>...</td>\n      <td>...</td>\n      <td>...</td>\n      <td>...</td>\n      <td>...</td>\n      <td>...</td>\n      <td>...</td>\n      <td>...</td>\n      <td>...</td>\n      <td>...</td>\n      <td>...</td>\n      <td>...</td>\n      <td>...</td>\n      <td>...</td>\n      <td>...</td>\n      <td>...</td>\n      <td>...</td>\n      <td>...</td>\n      <td>...</td>\n      <td>...</td>\n      <td>...</td>\n    </tr>\n    <tr>\n      <th>6814</th>\n      <td>0</td>\n      <td>0.493687</td>\n      <td>0.539468</td>\n      <td>0.543230</td>\n      <td>0.604455</td>\n      <td>0.604462</td>\n      <td>0.998992</td>\n      <td>0.797409</td>\n      <td>0.809331</td>\n      <td>0.303510</td>\n      <td>...</td>\n      <td>0.799927</td>\n      <td>0.000466</td>\n      <td>0.623620</td>\n      <td>0.604455</td>\n      <td>0.840359</td>\n      <td>0.279606</td>\n      <td>0.027064</td>\n      <td>0.566193</td>\n      <td>1</td>\n      <td>0.029890</td>\n    </tr>\n    <tr>\n      <th>6815</th>\n      <td>0</td>\n      <td>0.475162</td>\n      <td>0.538269</td>\n      <td>0.524172</td>\n      <td>0.598308</td>\n      <td>0.598308</td>\n      <td>0.998992</td>\n      <td>0.797414</td>\n      <td>0.809327</td>\n      <td>0.303520</td>\n      <td>...</td>\n      <td>0.799748</td>\n      <td>0.001959</td>\n      <td>0.623931</td>\n      <td>0.598306</td>\n      <td>0.840306</td>\n      <td>0.278132</td>\n      <td>0.027009</td>\n      <td>0.566018</td>\n      <td>1</td>\n      <td>0.038284</td>\n    </tr>\n    <tr>\n      <th>6816</th>\n      <td>0</td>\n      <td>0.472725</td>\n      <td>0.533744</td>\n      <td>0.520638</td>\n      <td>0.610444</td>\n      <td>0.610213</td>\n      <td>0.998984</td>\n      <td>0.797401</td>\n      <td>0.809317</td>\n      <td>0.303512</td>\n      <td>...</td>\n      <td>0.797778</td>\n      <td>0.002840</td>\n      <td>0.624156</td>\n      <td>0.610441</td>\n      <td>0.840138</td>\n      <td>0.275789</td>\n      <td>0.026791</td>\n      <td>0.565158</td>\n      <td>1</td>\n      <td>0.097649</td>\n    </tr>\n    <tr>\n      <th>6817</th>\n      <td>0</td>\n      <td>0.506264</td>\n      <td>0.559911</td>\n      <td>0.554045</td>\n      <td>0.607850</td>\n      <td>0.607850</td>\n      <td>0.999074</td>\n      <td>0.797500</td>\n      <td>0.809399</td>\n      <td>0.303498</td>\n      <td>...</td>\n      <td>0.811808</td>\n      <td>0.002837</td>\n      <td>0.623957</td>\n      <td>0.607846</td>\n      <td>0.841084</td>\n      <td>0.277547</td>\n      <td>0.026822</td>\n      <td>0.565302</td>\n      <td>1</td>\n      <td>0.044009</td>\n    </tr>\n    <tr>\n      <th>6818</th>\n      <td>0</td>\n      <td>0.493053</td>\n      <td>0.570105</td>\n      <td>0.549548</td>\n      <td>0.627409</td>\n      <td>0.627409</td>\n      <td>0.998080</td>\n      <td>0.801987</td>\n      <td>0.813800</td>\n      <td>0.313415</td>\n      <td>...</td>\n      <td>0.815956</td>\n      <td>0.000707</td>\n      <td>0.626680</td>\n      <td>0.627408</td>\n      <td>0.841019</td>\n      <td>0.275114</td>\n      <td>0.026793</td>\n      <td>0.565167</td>\n      <td>1</td>\n      <td>0.233902</td>\n    </tr>\n  </tbody>\n</table>\n<p>6819 rows × 96 columns</p>\n</div>"
     },
     "execution_count": 3,
     "metadata": {},
     "output_type": "execute_result"
    }
   ],
   "source": [
    "#вывод датафрейма полностью\n",
    "# pd.set_option('display.max_rows', None)\n",
    "df"
   ],
   "metadata": {
    "collapsed": false,
    "pycharm": {
     "name": "#%%\n"
    }
   }
  },
  {
   "cell_type": "code",
   "execution_count": 23,
   "outputs": [
    {
     "data": {
      "text/plain": "<Figure size 500x500 with 1 Axes>",
      "image/png": "[encoded data removed]"
     },
     "metadata": {},
     "output_type": "display_data"
    },
    {
     "ename": "AttributeError",
     "evalue": "'tuple' object has no attribute 'savefig'",
     "output_type": "error",
     "traceback": [
      "\u001B[1;31m---------------------------------------------------------------------------\u001B[0m",
      "\u001B[1;31mAttributeError\u001B[0m                            Traceback (most recent call last)",
      "\u001B[1;32m~\\AppData\\Local\\Temp\\ipykernel_19936\\2561831618.py\u001B[0m in \u001B[0;36m<module>\u001B[1;34m\u001B[0m\n\u001B[0;32m      3\u001B[0m \u001B[0mplt\u001B[0m\u001B[1;33m.\u001B[0m\u001B[0mtitle\u001B[0m\u001B[1;33m(\u001B[0m\u001B[1;34m\"Net income flag distribution\"\u001B[0m\u001B[1;33m)\u001B[0m\u001B[1;33m\u001B[0m\u001B[1;33m\u001B[0m\u001B[0m\n\u001B[0;32m      4\u001B[0m \u001B[0mplt\u001B[0m\u001B[1;33m.\u001B[0m\u001B[0mshow\u001B[0m\u001B[1;33m(\u001B[0m\u001B[1;33m)\u001B[0m\u001B[1;33m\u001B[0m\u001B[1;33m\u001B[0m\u001B[0m\n\u001B[1;32m----> 5\u001B[1;33m \u001B[0mfig\u001B[0m\u001B[1;33m.\u001B[0m\u001B[0msavefig\u001B[0m\u001B[1;33m(\u001B[0m\u001B[1;34m\"net income flag.png\"\u001B[0m\u001B[1;33m,\u001B[0m \u001B[0mdpi\u001B[0m \u001B[1;33m=\u001B[0m \u001B[1;36m300\u001B[0m\u001B[1;33m)\u001B[0m\u001B[1;33m\u001B[0m\u001B[1;33m\u001B[0m\u001B[0m\n\u001B[0m\u001B[0;32m      6\u001B[0m \u001B[0mprint\u001B[0m\u001B[1;33m(\u001B[0m\u001B[0mdf\u001B[0m\u001B[1;33m[\u001B[0m\u001B[1;34m' Net Income Flag'\u001B[0m\u001B[1;33m]\u001B[0m\u001B[1;33m.\u001B[0m\u001B[0mvalue_counts\u001B[0m\u001B[1;33m(\u001B[0m\u001B[1;33m)\u001B[0m\u001B[1;33m)\u001B[0m\u001B[1;33m\u001B[0m\u001B[1;33m\u001B[0m\u001B[0m\n",
      "\u001B[1;31mAttributeError\u001B[0m: 'tuple' object has no attribute 'savefig'"
     ]
    }
   ],
   "source": [
    "fig, ax = plt.subplots(figsize=(5,5))\n",
    "df[' Net Income Flag'].value_counts().plot.bar(y='Net Income Flag', rot=0, color = 'pink')\n",
    "plt.title(\"Net income flag distribution\")\n",
    "plt.show()\n",
    "fig.savefig(\"net income flag.png\", dpi = 300)\n",
    "print(df[' Net Income Flag'].value_counts())"
   ],
   "metadata": {
    "collapsed": false,
    "pycharm": {
     "name": "#%%\n"
    }
   }
  },
  {
   "cell_type": "code",
   "execution_count": 28,
   "outputs": [
    {
     "data": {
      "text/plain": "<Figure size 500x500 with 1 Axes>",
      "image/png": "[encoded data removed]"
     },
     "metadata": {},
     "output_type": "display_data"
    },
    {
     "name": "stdout",
     "output_type": "stream",
     "text": [
      "0    6811\n",
      "1       8\n",
      "Name:  Liability-Assets Flag, dtype: int64\n"
     ]
    }
   ],
   "source": [
    "fig, ax = plt.subplots(figsize=(5,5))\n",
    "df[' Liability-Assets Flag'].value_counts().plot.bar(y='Net Income Flag', rot=0, color = 'pink')\n",
    "plt.title(\"Liability-Assets flag distribution\")\n",
    "plt.show()\n",
    "fig.savefig(\"Liability-Assets flag.png\", dpi = 300)\n",
    "print(df[' Liability-Assets Flag'].value_counts())"
   ],
   "metadata": {
    "collapsed": false,
    "pycharm": {
     "name": "#%%\n"
    }
   }
  },
  {
   "cell_type": "code",
   "execution_count": 39,
   "outputs": [
    {
     "data": {
      "text/plain": "<Figure size 600x600 with 1 Axes>",
      "image/png": "[encoded data removed]"
     },
     "metadata": {},
     "output_type": "display_data"
    }
   ],
   "source": [
    "column = df.groupby(['Bankrupt?']).count().iloc[:,0]\n",
    "fig, ax = plt.subplots(figsize=(6,6))\n",
    "plt.pie(column, labels = ['Not bankrupt','Bankrupt'], colors = ['Pink', 'tab:cyan'], autopct='%.1f%%')\n",
    "plt.show()\n",
    "fig.savefig(\"diagramm.png\", dpi = 300)"
   ],
   "metadata": {
    "collapsed": false,
    "pycharm": {
     "name": "#%%\n"
    }
   }
  },
  {
   "cell_type": "markdown",
   "source": [
    "ГРАФИК"
   ],
   "metadata": {
    "collapsed": false,
    "pycharm": {
     "name": "#%% md\n"
    }
   }
  },
  {
   "cell_type": "code",
   "execution_count": 4,
   "outputs": [
    {
     "data": {
      "text/plain": "                                       Столбец данных        Матожидание  \\\n0    ROA(C) before interest and depreciation befor...            0.50518   \n1              ROA(A) before interest and % after tax           0.558625   \n2    ROA(B) before interest and depreciation after...           0.553589   \n3                              Operating Gross Margin           0.607948   \n4                         Realized Sales Gross Margin           0.607929   \n5                               Operating Profit Rate           0.998755   \n6                           Pre-tax net Interest Rate            0.79719   \n7                         After-tax net Interest Rate           0.809084   \n8         Non-industry income and expenditure/revenue           0.303623   \n9                Continuous interest rate (after tax)           0.781381   \n10                             Operating Expense Rate  1995347312.802885   \n11              Research and development expense rate  1950427306.056829   \n12                                     Cash flow rate           0.467431   \n13                Interest-bearing debt interest rate    16448012.905943   \n14                                       Tax rate (A)           0.115001   \n15                            Net Value Per Share (B)           0.190661   \n16                            Net Value Per Share (A)           0.190633   \n17                            Net Value Per Share (C)           0.190672   \n18            Persistent EPS in the Last Four Seasons           0.228813   \n19                                Cash Flow Per Share           0.323482   \n20                         Revenue Per Share (Yuan ¥)     1328640.602096   \n21                Operating Profit Per Share (Yuan ¥)           0.109091   \n22           Per Share Net profit before tax (Yuan ¥)           0.184361   \n23            Realized Sales Gross Profit Growth Rate           0.022408   \n24                       Operating Profit Growth Rate            0.84798   \n25                   After-tax Net Profit Growth Rate           0.689146   \n26                     Regular Net Profit Growth Rate            0.68915   \n27                  Continuous Net Profit Growth Rate           0.217639   \n28                            Total Asset Growth Rate  5508096595.248749   \n29                              Net Value Growth Rate     1566212.055241   \n30               Total Asset Return Growth Rate Ratio           0.264248   \n31                                Cash Reinvestment %           0.379677   \n32                                      Current Ratio      403284.954245   \n33                                        Quick Ratio     8376594.819685   \n34                             Interest Expense Ratio           0.630991   \n35                         Total debt/Total net worth     4416336.714259   \n36                                       Debt ratio %           0.113177   \n37                                   Net worth/Assets           0.886823   \n38               Long-term fund suitability ratio (A)           0.008783   \n39                               Borrowing dependency           0.374654   \n40                   Contingent liabilities/Net worth           0.005968   \n41                   Operating profit/Paid-in capital           0.108977   \n42              Net profit before tax/Paid-in capital           0.182715   \n43        Inventory and accounts receivable/Net value           0.402459   \n44                               Total Asset Turnover           0.141606   \n45                       Accounts Receivable Turnover    12789705.237554   \n46                            Average Collection Days     9826220.861192   \n47                    Inventory Turnover Rate (times)  2149106056.607619   \n48                    Fixed Assets Turnover Frequency  1008595981.817516   \n49                    Net Worth Turnover Rate (times)           0.038595   \n50                                 Revenue per person     2325854.266358   \n51                        Operating profit per person           0.400671   \n52                         Allocation rate per person    11255785.321742   \n53                    Working Capital to Total Assets           0.814125   \n54                          Quick Assets/Total Assets           0.400132   \n55                        Current Assets/Total Assets           0.522273   \n56                                  Cash/Total Assets           0.124095   \n57                     Quick Assets/Current Liability      3592902.19683   \n58                             Cash/Current Liability    37159994.147133   \n59                        Current Liability to Assets           0.090673   \n60                       Operating Funds to Liability           0.353828   \n61                          Inventory/Working Capital           0.277395   \n62                        Inventory/Current Liability     55806804.52578   \n63                      Current Liabilities/Liability           0.761599   \n64                             Working Capital/Equity           0.735817   \n65                         Current Liabilities/Equity            0.33141   \n66              Long-term Liability to Current Assets    54160038.135894   \n67                  Retained Earnings to Total Assets           0.934733   \n68                         Total income/Total expense           0.002549   \n69                               Total expense/Assets           0.029184   \n70                        Current Asset Turnover Rate  1195855763.308935   \n71                          Quick Asset Turnover Rate  2163735272.034426   \n72                     Working capitcal Turnover Rate           0.594006   \n73                                 Cash Turnover Rate  2471976967.444318   \n74                                 Cash Flow to Sales           0.671531   \n75                             Fixed Assets to Assets      1220120.50159   \n76                     Current Liability to Liability           0.761599   \n77                        Current Liability to Equity            0.33141   \n78                      Equity to Long-term Liability           0.115645   \n79                          Cash Flow to Total Assets           0.649731   \n80                             Cash Flow to Liability           0.461849   \n81                                      CFO to Assets           0.593415   \n82                                Cash Flow to Equity           0.315582   \n83                Current Liability to Current Assets           0.031506   \n84                              Liability-Assets Flag           0.001173   \n85                         Net Income to Total Assets            0.80776   \n86                          Total assets to GNP price    18629417.811836   \n87                                 No-credit Interval           0.623915   \n88                              Gross Profit to Sales           0.607946   \n89                 Net Income to Stockholder's Equity           0.840402   \n90                                Liability to Equity           0.280365   \n91                 Degree of Financial Leverage (DFL)           0.027541   \n92   Interest Coverage Ratio (Interest expense to ...           0.565358   \n93                                    Net Income Flag                1.0   \n94                                Equity to Liability           0.047578   \n\n          Станд.откл.       Медиана       Максимум Минимум  \n0            0.060681      0.502706            1.0     0.0  \n1            0.065615      0.559802            1.0     0.0  \n2             0.06159      0.552278            1.0     0.0  \n3            0.016933      0.605997            1.0     0.0  \n4            0.016915      0.605976            1.0     0.0  \n5            0.013009      0.999022            1.0     0.0  \n6            0.012868      0.797464            1.0     0.0  \n7              0.0136      0.809375            1.0     0.0  \n8            0.011163      0.303525            1.0     0.0  \n9            0.012678      0.781635            1.0     0.0  \n10   3237446480.15429      0.000278   9990000000.0     0.0  \n11  2598101028.494563   509000000.0   9980000000.0     0.0  \n12           0.017034       0.46508            1.0     0.0  \n13   108267094.025313      0.000321    990000000.0     0.0  \n14           0.138657      0.073489            1.0     0.0  \n15           0.033387        0.1844            1.0     0.0  \n16           0.033471        0.1844            1.0     0.0  \n17           0.033478        0.1844            1.0     0.0  \n18            0.03326      0.224544            1.0     0.0  \n19            0.01761      0.322487            1.0     0.0  \n20    51703298.230613      0.027376   3020000000.0     0.0  \n21            0.02794      0.104226            1.0     0.0  \n22           0.033178      0.179709            1.0     0.0  \n23           0.012078      0.022102            1.0     0.0  \n24           0.010752      0.848044            1.0     0.0  \n25           0.013852      0.689439            1.0     0.0  \n26           0.013909      0.689439            1.0     0.0  \n27           0.010062      0.217598            1.0     0.0  \n28  2897505289.572998  6400000000.0   9990000000.0     0.0  \n29   114151018.527352      0.000462   9330000000.0     0.0  \n30           0.009634       0.26405            1.0     0.0  \n31           0.020735      0.380425            1.0     0.0  \n32    33299713.870879      0.010587   2750000000.0     0.0  \n33     244666806.3938      0.007412   9230000000.0     0.0  \n34           0.011238      0.630698            1.0     0.0  \n35   168394556.470842      0.005546   9940000000.0     0.0  \n36           0.053916      0.111407            1.0     0.0  \n37           0.053916      0.888593            1.0     0.0  \n38           0.028151      0.005665            1.0     0.0  \n39           0.016285      0.372624            1.0     0.0  \n40           0.012187      0.005366            1.0     0.0  \n41            0.02778      0.104133            1.0     0.0  \n42           0.030783      0.178456            1.0     0.0  \n43           0.013323      0.400131            1.0     0.0  \n44           0.101138      0.118441            1.0     0.0  \n45   278239432.962996      0.000968   9740000000.0     0.0  \n46   256340097.619462      0.006573   9730000000.0     0.0  \n47  3247728849.646829      0.000765   9990000000.0     0.0  \n48    2477375644.5227      0.000593   9990000000.0     0.0  \n49           0.036678      0.029516            1.0     0.0  \n50   136622635.496842      0.018616   8810000000.0     0.0  \n51           0.032718      0.395898            1.0     0.0  \n52   294484698.788117      0.007844   9570000000.0     0.0  \n53            0.05905      0.810275            1.0     0.0  \n54           0.201983      0.386451            1.0     0.0  \n55           0.218096       0.51483            1.0     0.0  \n56            0.13924      0.074887            1.0     0.0  \n57   171608324.122214      0.007909   8820000000.0     0.0  \n58   510313480.548333      0.004904   9650000000.0     0.0  \n59           0.050286      0.082705            1.0     0.0  \n60           0.035145      0.348597            1.0     0.0  \n61           0.010468      0.277178            1.0     0.0  \n62   582008874.395375      0.006497   9910000000.0     0.0  \n63           0.206662      0.806881            1.0     0.0  \n64           0.011677      0.736013            1.0     0.0  \n65           0.013487      0.329685            1.0     0.0  \n66   570228805.598241      0.001975   9540000000.0     0.0  \n67           0.025562      0.937672            1.0     0.0  \n68           0.012092      0.002336            1.0     0.0  \n69           0.027147      0.022674            1.0     0.0  \n70  2820954370.343551      0.000199  10000000000.0     0.0  \n71  3374696926.865806      0.000225  10000000000.0     0.0  \n72           0.008959      0.593963            1.0     0.0  \n73  2938407745.598689  1080000000.0  10000000000.0     0.0  \n74           0.009341      0.671574            1.0     0.0  \n75   100746770.690521      0.196881   8320000000.0     0.0  \n76           0.206662      0.806881            1.0     0.0  \n77           0.013487      0.329685            1.0     0.0  \n78           0.019528       0.11234            1.0     0.0  \n79           0.047369      0.645366            1.0     0.0  \n80            0.02994       0.45975            1.0     0.0  \n81           0.058556      0.593266            1.0     0.0  \n82            0.01296      0.314953            1.0     0.0  \n83           0.030842      0.027597            1.0     0.0  \n84           0.034232           0.0            1.0     0.0  \n85           0.040329      0.810619            1.0     0.0  \n86   376422455.708407      0.002085   9820000000.0     0.0  \n87           0.012289      0.623879            1.0     0.0  \n88           0.016933      0.605998            1.0     0.0  \n89           0.014521      0.841179            1.0     0.0  \n90           0.014462      0.278778            1.0     0.0  \n91           0.015667      0.026808            1.0     0.0  \n92           0.013213      0.565252            1.0     0.0  \n93                0.0           1.0            1.0     1.0  \n94            0.05001      0.033798            1.0     0.0  ",
      "text/html": "<div>\n<style scoped>\n    .dataframe tbody tr th:only-of-type {\n        vertical-align: middle;\n    }\n\n    .dataframe tbody tr th {\n        vertical-align: top;\n    }\n\n    .dataframe thead th {\n        text-align: right;\n    }\n</style>\n<table border=\"1\" class=\"dataframe\">\n  <thead>\n    <tr style=\"text-align: right;\">\n      <th></th>\n      <th>Столбец данных</th>\n      <th>Матожидание</th>\n      <th>Станд.откл.</th>\n      <th>Медиана</th>\n      <th>Максимум</th>\n      <th>Минимум</th>\n    </tr>\n  </thead>\n  <tbody>\n    <tr>\n      <th>0</th>\n      <td>ROA(C) before interest and depreciation befor...</td>\n      <td>0.50518</td>\n      <td>0.060681</td>\n      <td>0.502706</td>\n      <td>1.0</td>\n      <td>0.0</td>\n    </tr>\n    <tr>\n      <th>1</th>\n      <td>ROA(A) before interest and % after tax</td>\n      <td>0.558625</td>\n      <td>0.065615</td>\n      <td>0.559802</td>\n      <td>1.0</td>\n      <td>0.0</td>\n    </tr>\n    <tr>\n      <th>2</th>\n      <td>ROA(B) before interest and depreciation after...</td>\n      <td>0.553589</td>\n      <td>0.06159</td>\n      <td>0.552278</td>\n      <td>1.0</td>\n      <td>0.0</td>\n    </tr>\n    <tr>\n      <th>3</th>\n      <td>Operating Gross Margin</td>\n      <td>0.607948</td>\n      <td>0.016933</td>\n      <td>0.605997</td>\n      <td>1.0</td>\n      <td>0.0</td>\n    </tr>\n    <tr>\n      <th>4</th>\n      <td>Realized Sales Gross Margin</td>\n      <td>0.607929</td>\n      <td>0.016915</td>\n      <td>0.605976</td>\n      <td>1.0</td>\n      <td>0.0</td>\n    </tr>\n    <tr>\n      <th>5</th>\n      <td>Operating Profit Rate</td>\n      <td>0.998755</td>\n      <td>0.013009</td>\n      <td>0.999022</td>\n      <td>1.0</td>\n      <td>0.0</td>\n    </tr>\n    <tr>\n      <th>6</th>\n      <td>Pre-tax net Interest Rate</td>\n      <td>0.79719</td>\n      <td>0.012868</td>\n      <td>0.797464</td>\n      <td>1.0</td>\n      <td>0.0</td>\n    </tr>\n    <tr>\n      <th>7</th>\n      <td>After-tax net Interest Rate</td>\n      <td>0.809084</td>\n      <td>0.0136</td>\n      <td>0.809375</td>\n      <td>1.0</td>\n      <td>0.0</td>\n    </tr>\n    <tr>\n      <th>8</th>\n      <td>Non-industry income and expenditure/revenue</td>\n      <td>0.303623</td>\n      <td>0.011163</td>\n      <td>0.303525</td>\n      <td>1.0</td>\n      <td>0.0</td>\n    </tr>\n    <tr>\n      <th>9</th>\n      <td>Continuous interest rate (after tax)</td>\n      <td>0.781381</td>\n      <td>0.012678</td>\n      <td>0.781635</td>\n      <td>1.0</td>\n      <td>0.0</td>\n    </tr>\n    <tr>\n      <th>10</th>\n      <td>Operating Expense Rate</td>\n      <td>1995347312.802885</td>\n      <td>3237446480.15429</td>\n      <td>0.000278</td>\n      <td>9990000000.0</td>\n      <td>0.0</td>\n    </tr>\n    <tr>\n      <th>11</th>\n      <td>Research and development expense rate</td>\n      <td>1950427306.056829</td>\n      <td>2598101028.494563</td>\n      <td>509000000.0</td>\n      <td>9980000000.0</td>\n      <td>0.0</td>\n    </tr>\n    <tr>\n      <th>12</th>\n      <td>Cash flow rate</td>\n      <td>0.467431</td>\n      <td>0.017034</td>\n      <td>0.46508</td>\n      <td>1.0</td>\n      <td>0.0</td>\n    </tr>\n    <tr>\n      <th>13</th>\n      <td>Interest-bearing debt interest rate</td>\n      <td>16448012.905943</td>\n      <td>108267094.025313</td>\n      <td>0.000321</td>\n      <td>990000000.0</td>\n      <td>0.0</td>\n    </tr>\n    <tr>\n      <th>14</th>\n      <td>Tax rate (A)</td>\n      <td>0.115001</td>\n      <td>0.138657</td>\n      <td>0.073489</td>\n      <td>1.0</td>\n      <td>0.0</td>\n    </tr>\n    <tr>\n      <th>15</th>\n      <td>Net Value Per Share (B)</td>\n      <td>0.190661</td>\n      <td>0.033387</td>\n      <td>0.1844</td>\n      <td>1.0</td>\n      <td>0.0</td>\n    </tr>\n    <tr>\n      <th>16</th>\n      <td>Net Value Per Share (A)</td>\n      <td>0.190633</td>\n      <td>0.033471</td>\n      <td>0.1844</td>\n      <td>1.0</td>\n      <td>0.0</td>\n    </tr>\n    <tr>\n      <th>17</th>\n      <td>Net Value Per Share (C)</td>\n      <td>0.190672</td>\n      <td>0.033478</td>\n      <td>0.1844</td>\n      <td>1.0</td>\n      <td>0.0</td>\n    </tr>\n    <tr>\n      <th>18</th>\n      <td>Persistent EPS in the Last Four Seasons</td>\n      <td>0.228813</td>\n      <td>0.03326</td>\n      <td>0.224544</td>\n      <td>1.0</td>\n      <td>0.0</td>\n    </tr>\n    <tr>\n      <th>19</th>\n      <td>Cash Flow Per Share</td>\n      <td>0.323482</td>\n      <td>0.01761</td>\n      <td>0.322487</td>\n      <td>1.0</td>\n      <td>0.0</td>\n    </tr>\n    <tr>\n      <th>20</th>\n      <td>Revenue Per Share (Yuan ¥)</td>\n      <td>1328640.602096</td>\n      <td>51703298.230613</td>\n      <td>0.027376</td>\n      <td>3020000000.0</td>\n      <td>0.0</td>\n    </tr>\n    <tr>\n      <th>21</th>\n      <td>Operating Profit Per Share (Yuan ¥)</td>\n      <td>0.109091</td>\n      <td>0.02794</td>\n      <td>0.104226</td>\n      <td>1.0</td>\n      <td>0.0</td>\n    </tr>\n    <tr>\n      <th>22</th>\n      <td>Per Share Net profit before tax (Yuan ¥)</td>\n      <td>0.184361</td>\n      <td>0.033178</td>\n      <td>0.179709</td>\n      <td>1.0</td>\n      <td>0.0</td>\n    </tr>\n    <tr>\n      <th>23</th>\n      <td>Realized Sales Gross Profit Growth Rate</td>\n      <td>0.022408</td>\n      <td>0.012078</td>\n      <td>0.022102</td>\n      <td>1.0</td>\n      <td>0.0</td>\n    </tr>\n    <tr>\n      <th>24</th>\n      <td>Operating Profit Growth Rate</td>\n      <td>0.84798</td>\n      <td>0.010752</td>\n      <td>0.848044</td>\n      <td>1.0</td>\n      <td>0.0</td>\n    </tr>\n    <tr>\n      <th>25</th>\n      <td>After-tax Net Profit Growth Rate</td>\n      <td>0.689146</td>\n      <td>0.013852</td>\n      <td>0.689439</td>\n      <td>1.0</td>\n      <td>0.0</td>\n    </tr>\n    <tr>\n      <th>26</th>\n      <td>Regular Net Profit Growth Rate</td>\n      <td>0.68915</td>\n      <td>0.013909</td>\n      <td>0.689439</td>\n      <td>1.0</td>\n      <td>0.0</td>\n    </tr>\n    <tr>\n      <th>27</th>\n      <td>Continuous Net Profit Growth Rate</td>\n      <td>0.217639</td>\n      <td>0.010062</td>\n      <td>0.217598</td>\n      <td>1.0</td>\n      <td>0.0</td>\n    </tr>\n    <tr>\n      <th>28</th>\n      <td>Total Asset Growth Rate</td>\n      <td>5508096595.248749</td>\n      <td>2897505289.572998</td>\n      <td>6400000000.0</td>\n      <td>9990000000.0</td>\n      <td>0.0</td>\n    </tr>\n    <tr>\n      <th>29</th>\n      <td>Net Value Growth Rate</td>\n      <td>1566212.055241</td>\n      <td>114151018.527352</td>\n      <td>0.000462</td>\n      <td>9330000000.0</td>\n      <td>0.0</td>\n    </tr>\n    <tr>\n      <th>30</th>\n      <td>Total Asset Return Growth Rate Ratio</td>\n      <td>0.264248</td>\n      <td>0.009634</td>\n      <td>0.26405</td>\n      <td>1.0</td>\n      <td>0.0</td>\n    </tr>\n    <tr>\n      <th>31</th>\n      <td>Cash Reinvestment %</td>\n      <td>0.379677</td>\n      <td>0.020735</td>\n      <td>0.380425</td>\n      <td>1.0</td>\n      <td>0.0</td>\n    </tr>\n    <tr>\n      <th>32</th>\n      <td>Current Ratio</td>\n      <td>403284.954245</td>\n      <td>33299713.870879</td>\n      <td>0.010587</td>\n      <td>2750000000.0</td>\n      <td>0.0</td>\n    </tr>\n    <tr>\n      <th>33</th>\n      <td>Quick Ratio</td>\n      <td>8376594.819685</td>\n      <td>244666806.3938</td>\n      <td>0.007412</td>\n      <td>9230000000.0</td>\n      <td>0.0</td>\n    </tr>\n    <tr>\n      <th>34</th>\n      <td>Interest Expense Ratio</td>\n      <td>0.630991</td>\n      <td>0.011238</td>\n      <td>0.630698</td>\n      <td>1.0</td>\n      <td>0.0</td>\n    </tr>\n    <tr>\n      <th>35</th>\n      <td>Total debt/Total net worth</td>\n      <td>4416336.714259</td>\n      <td>168394556.470842</td>\n      <td>0.005546</td>\n      <td>9940000000.0</td>\n      <td>0.0</td>\n    </tr>\n    <tr>\n      <th>36</th>\n      <td>Debt ratio %</td>\n      <td>0.113177</td>\n      <td>0.053916</td>\n      <td>0.111407</td>\n      <td>1.0</td>\n      <td>0.0</td>\n    </tr>\n    <tr>\n      <th>37</th>\n      <td>Net worth/Assets</td>\n      <td>0.886823</td>\n      <td>0.053916</td>\n      <td>0.888593</td>\n      <td>1.0</td>\n      <td>0.0</td>\n    </tr>\n    <tr>\n      <th>38</th>\n      <td>Long-term fund suitability ratio (A)</td>\n      <td>0.008783</td>\n      <td>0.028151</td>\n      <td>0.005665</td>\n      <td>1.0</td>\n      <td>0.0</td>\n    </tr>\n    <tr>\n      <th>39</th>\n      <td>Borrowing dependency</td>\n      <td>0.374654</td>\n      <td>0.016285</td>\n      <td>0.372624</td>\n      <td>1.0</td>\n      <td>0.0</td>\n    </tr>\n    <tr>\n      <th>40</th>\n      <td>Contingent liabilities/Net worth</td>\n      <td>0.005968</td>\n      <td>0.012187</td>\n      <td>0.005366</td>\n      <td>1.0</td>\n      <td>0.0</td>\n    </tr>\n    <tr>\n      <th>41</th>\n      <td>Operating profit/Paid-in capital</td>\n      <td>0.108977</td>\n      <td>0.02778</td>\n      <td>0.104133</td>\n      <td>1.0</td>\n      <td>0.0</td>\n    </tr>\n    <tr>\n      <th>42</th>\n      <td>Net profit before tax/Paid-in capital</td>\n      <td>0.182715</td>\n      <td>0.030783</td>\n      <td>0.178456</td>\n      <td>1.0</td>\n      <td>0.0</td>\n    </tr>\n    <tr>\n      <th>43</th>\n      <td>Inventory and accounts receivable/Net value</td>\n      <td>0.402459</td>\n      <td>0.013323</td>\n      <td>0.400131</td>\n      <td>1.0</td>\n      <td>0.0</td>\n    </tr>\n    <tr>\n      <th>44</th>\n      <td>Total Asset Turnover</td>\n      <td>0.141606</td>\n      <td>0.101138</td>\n      <td>0.118441</td>\n      <td>1.0</td>\n      <td>0.0</td>\n    </tr>\n    <tr>\n      <th>45</th>\n      <td>Accounts Receivable Turnover</td>\n      <td>12789705.237554</td>\n      <td>278239432.962996</td>\n      <td>0.000968</td>\n      <td>9740000000.0</td>\n      <td>0.0</td>\n    </tr>\n    <tr>\n      <th>46</th>\n      <td>Average Collection Days</td>\n      <td>9826220.861192</td>\n      <td>256340097.619462</td>\n      <td>0.006573</td>\n      <td>9730000000.0</td>\n      <td>0.0</td>\n    </tr>\n    <tr>\n      <th>47</th>\n      <td>Inventory Turnover Rate (times)</td>\n      <td>2149106056.607619</td>\n      <td>3247728849.646829</td>\n      <td>0.000765</td>\n      <td>9990000000.0</td>\n      <td>0.0</td>\n    </tr>\n    <tr>\n      <th>48</th>\n      <td>Fixed Assets Turnover Frequency</td>\n      <td>1008595981.817516</td>\n      <td>2477375644.5227</td>\n      <td>0.000593</td>\n      <td>9990000000.0</td>\n      <td>0.0</td>\n    </tr>\n    <tr>\n      <th>49</th>\n      <td>Net Worth Turnover Rate (times)</td>\n      <td>0.038595</td>\n      <td>0.036678</td>\n      <td>0.029516</td>\n      <td>1.0</td>\n      <td>0.0</td>\n    </tr>\n    <tr>\n      <th>50</th>\n      <td>Revenue per person</td>\n      <td>2325854.266358</td>\n      <td>136622635.496842</td>\n      <td>0.018616</td>\n      <td>8810000000.0</td>\n      <td>0.0</td>\n    </tr>\n    <tr>\n      <th>51</th>\n      <td>Operating profit per person</td>\n      <td>0.400671</td>\n      <td>0.032718</td>\n      <td>0.395898</td>\n      <td>1.0</td>\n      <td>0.0</td>\n    </tr>\n    <tr>\n      <th>52</th>\n      <td>Allocation rate per person</td>\n      <td>11255785.321742</td>\n      <td>294484698.788117</td>\n      <td>0.007844</td>\n      <td>9570000000.0</td>\n      <td>0.0</td>\n    </tr>\n    <tr>\n      <th>53</th>\n      <td>Working Capital to Total Assets</td>\n      <td>0.814125</td>\n      <td>0.05905</td>\n      <td>0.810275</td>\n      <td>1.0</td>\n      <td>0.0</td>\n    </tr>\n    <tr>\n      <th>54</th>\n      <td>Quick Assets/Total Assets</td>\n      <td>0.400132</td>\n      <td>0.201983</td>\n      <td>0.386451</td>\n      <td>1.0</td>\n      <td>0.0</td>\n    </tr>\n    <tr>\n      <th>55</th>\n      <td>Current Assets/Total Assets</td>\n      <td>0.522273</td>\n      <td>0.218096</td>\n      <td>0.51483</td>\n      <td>1.0</td>\n      <td>0.0</td>\n    </tr>\n    <tr>\n      <th>56</th>\n      <td>Cash/Total Assets</td>\n      <td>0.124095</td>\n      <td>0.13924</td>\n      <td>0.074887</td>\n      <td>1.0</td>\n      <td>0.0</td>\n    </tr>\n    <tr>\n      <th>57</th>\n      <td>Quick Assets/Current Liability</td>\n      <td>3592902.19683</td>\n      <td>171608324.122214</td>\n      <td>0.007909</td>\n      <td>8820000000.0</td>\n      <td>0.0</td>\n    </tr>\n    <tr>\n      <th>58</th>\n      <td>Cash/Current Liability</td>\n      <td>37159994.147133</td>\n      <td>510313480.548333</td>\n      <td>0.004904</td>\n      <td>9650000000.0</td>\n      <td>0.0</td>\n    </tr>\n    <tr>\n      <th>59</th>\n      <td>Current Liability to Assets</td>\n      <td>0.090673</td>\n      <td>0.050286</td>\n      <td>0.082705</td>\n      <td>1.0</td>\n      <td>0.0</td>\n    </tr>\n    <tr>\n      <th>60</th>\n      <td>Operating Funds to Liability</td>\n      <td>0.353828</td>\n      <td>0.035145</td>\n      <td>0.348597</td>\n      <td>1.0</td>\n      <td>0.0</td>\n    </tr>\n    <tr>\n      <th>61</th>\n      <td>Inventory/Working Capital</td>\n      <td>0.277395</td>\n      <td>0.010468</td>\n      <td>0.277178</td>\n      <td>1.0</td>\n      <td>0.0</td>\n    </tr>\n    <tr>\n      <th>62</th>\n      <td>Inventory/Current Liability</td>\n      <td>55806804.52578</td>\n      <td>582008874.395375</td>\n      <td>0.006497</td>\n      <td>9910000000.0</td>\n      <td>0.0</td>\n    </tr>\n    <tr>\n      <th>63</th>\n      <td>Current Liabilities/Liability</td>\n      <td>0.761599</td>\n      <td>0.206662</td>\n      <td>0.806881</td>\n      <td>1.0</td>\n      <td>0.0</td>\n    </tr>\n    <tr>\n      <th>64</th>\n      <td>Working Capital/Equity</td>\n      <td>0.735817</td>\n      <td>0.011677</td>\n      <td>0.736013</td>\n      <td>1.0</td>\n      <td>0.0</td>\n    </tr>\n    <tr>\n      <th>65</th>\n      <td>Current Liabilities/Equity</td>\n      <td>0.33141</td>\n      <td>0.013487</td>\n      <td>0.329685</td>\n      <td>1.0</td>\n      <td>0.0</td>\n    </tr>\n    <tr>\n      <th>66</th>\n      <td>Long-term Liability to Current Assets</td>\n      <td>54160038.135894</td>\n      <td>570228805.598241</td>\n      <td>0.001975</td>\n      <td>9540000000.0</td>\n      <td>0.0</td>\n    </tr>\n    <tr>\n      <th>67</th>\n      <td>Retained Earnings to Total Assets</td>\n      <td>0.934733</td>\n      <td>0.025562</td>\n      <td>0.937672</td>\n      <td>1.0</td>\n      <td>0.0</td>\n    </tr>\n    <tr>\n      <th>68</th>\n      <td>Total income/Total expense</td>\n      <td>0.002549</td>\n      <td>0.012092</td>\n      <td>0.002336</td>\n      <td>1.0</td>\n      <td>0.0</td>\n    </tr>\n    <tr>\n      <th>69</th>\n      <td>Total expense/Assets</td>\n      <td>0.029184</td>\n      <td>0.027147</td>\n      <td>0.022674</td>\n      <td>1.0</td>\n      <td>0.0</td>\n    </tr>\n    <tr>\n      <th>70</th>\n      <td>Current Asset Turnover Rate</td>\n      <td>1195855763.308935</td>\n      <td>2820954370.343551</td>\n      <td>0.000199</td>\n      <td>10000000000.0</td>\n      <td>0.0</td>\n    </tr>\n    <tr>\n      <th>71</th>\n      <td>Quick Asset Turnover Rate</td>\n      <td>2163735272.034426</td>\n      <td>3374696926.865806</td>\n      <td>0.000225</td>\n      <td>10000000000.0</td>\n      <td>0.0</td>\n    </tr>\n    <tr>\n      <th>72</th>\n      <td>Working capitcal Turnover Rate</td>\n      <td>0.594006</td>\n      <td>0.008959</td>\n      <td>0.593963</td>\n      <td>1.0</td>\n      <td>0.0</td>\n    </tr>\n    <tr>\n      <th>73</th>\n      <td>Cash Turnover Rate</td>\n      <td>2471976967.444318</td>\n      <td>2938407745.598689</td>\n      <td>1080000000.0</td>\n      <td>10000000000.0</td>\n      <td>0.0</td>\n    </tr>\n    <tr>\n      <th>74</th>\n      <td>Cash Flow to Sales</td>\n      <td>0.671531</td>\n      <td>0.009341</td>\n      <td>0.671574</td>\n      <td>1.0</td>\n      <td>0.0</td>\n    </tr>\n    <tr>\n      <th>75</th>\n      <td>Fixed Assets to Assets</td>\n      <td>1220120.50159</td>\n      <td>100746770.690521</td>\n      <td>0.196881</td>\n      <td>8320000000.0</td>\n      <td>0.0</td>\n    </tr>\n    <tr>\n      <th>76</th>\n      <td>Current Liability to Liability</td>\n      <td>0.761599</td>\n      <td>0.206662</td>\n      <td>0.806881</td>\n      <td>1.0</td>\n      <td>0.0</td>\n    </tr>\n    <tr>\n      <th>77</th>\n      <td>Current Liability to Equity</td>\n      <td>0.33141</td>\n      <td>0.013487</td>\n      <td>0.329685</td>\n      <td>1.0</td>\n      <td>0.0</td>\n    </tr>\n    <tr>\n      <th>78</th>\n      <td>Equity to Long-term Liability</td>\n      <td>0.115645</td>\n      <td>0.019528</td>\n      <td>0.11234</td>\n      <td>1.0</td>\n      <td>0.0</td>\n    </tr>\n    <tr>\n      <th>79</th>\n      <td>Cash Flow to Total Assets</td>\n      <td>0.649731</td>\n      <td>0.047369</td>\n      <td>0.645366</td>\n      <td>1.0</td>\n      <td>0.0</td>\n    </tr>\n    <tr>\n      <th>80</th>\n      <td>Cash Flow to Liability</td>\n      <td>0.461849</td>\n      <td>0.02994</td>\n      <td>0.45975</td>\n      <td>1.0</td>\n      <td>0.0</td>\n    </tr>\n    <tr>\n      <th>81</th>\n      <td>CFO to Assets</td>\n      <td>0.593415</td>\n      <td>0.058556</td>\n      <td>0.593266</td>\n      <td>1.0</td>\n      <td>0.0</td>\n    </tr>\n    <tr>\n      <th>82</th>\n      <td>Cash Flow to Equity</td>\n      <td>0.315582</td>\n      <td>0.01296</td>\n      <td>0.314953</td>\n      <td>1.0</td>\n      <td>0.0</td>\n    </tr>\n    <tr>\n      <th>83</th>\n      <td>Current Liability to Current Assets</td>\n      <td>0.031506</td>\n      <td>0.030842</td>\n      <td>0.027597</td>\n      <td>1.0</td>\n      <td>0.0</td>\n    </tr>\n    <tr>\n      <th>84</th>\n      <td>Liability-Assets Flag</td>\n      <td>0.001173</td>\n      <td>0.034232</td>\n      <td>0.0</td>\n      <td>1.0</td>\n      <td>0.0</td>\n    </tr>\n    <tr>\n      <th>85</th>\n      <td>Net Income to Total Assets</td>\n      <td>0.80776</td>\n      <td>0.040329</td>\n      <td>0.810619</td>\n      <td>1.0</td>\n      <td>0.0</td>\n    </tr>\n    <tr>\n      <th>86</th>\n      <td>Total assets to GNP price</td>\n      <td>18629417.811836</td>\n      <td>376422455.708407</td>\n      <td>0.002085</td>\n      <td>9820000000.0</td>\n      <td>0.0</td>\n    </tr>\n    <tr>\n      <th>87</th>\n      <td>No-credit Interval</td>\n      <td>0.623915</td>\n      <td>0.012289</td>\n      <td>0.623879</td>\n      <td>1.0</td>\n      <td>0.0</td>\n    </tr>\n    <tr>\n      <th>88</th>\n      <td>Gross Profit to Sales</td>\n      <td>0.607946</td>\n      <td>0.016933</td>\n      <td>0.605998</td>\n      <td>1.0</td>\n      <td>0.0</td>\n    </tr>\n    <tr>\n      <th>89</th>\n      <td>Net Income to Stockholder's Equity</td>\n      <td>0.840402</td>\n      <td>0.014521</td>\n      <td>0.841179</td>\n      <td>1.0</td>\n      <td>0.0</td>\n    </tr>\n    <tr>\n      <th>90</th>\n      <td>Liability to Equity</td>\n      <td>0.280365</td>\n      <td>0.014462</td>\n      <td>0.278778</td>\n      <td>1.0</td>\n      <td>0.0</td>\n    </tr>\n    <tr>\n      <th>91</th>\n      <td>Degree of Financial Leverage (DFL)</td>\n      <td>0.027541</td>\n      <td>0.015667</td>\n      <td>0.026808</td>\n      <td>1.0</td>\n      <td>0.0</td>\n    </tr>\n    <tr>\n      <th>92</th>\n      <td>Interest Coverage Ratio (Interest expense to ...</td>\n      <td>0.565358</td>\n      <td>0.013213</td>\n      <td>0.565252</td>\n      <td>1.0</td>\n      <td>0.0</td>\n    </tr>\n    <tr>\n      <th>93</th>\n      <td>Net Income Flag</td>\n      <td>1.0</td>\n      <td>0.0</td>\n      <td>1.0</td>\n      <td>1.0</td>\n      <td>1.0</td>\n    </tr>\n    <tr>\n      <th>94</th>\n      <td>Equity to Liability</td>\n      <td>0.047578</td>\n      <td>0.05001</td>\n      <td>0.033798</td>\n      <td>1.0</td>\n      <td>0.0</td>\n    </tr>\n  </tbody>\n</table>\n</div>"
     },
     "execution_count": 4,
     "metadata": {},
     "output_type": "execute_result"
    }
   ],
   "source": [
    "dfnew = np.array(df.loc[:, df.columns != 'Bankrupt?']) # образуются массивы по каждой строке входных данных\n",
    "#print(dfnew)\n",
    "#транспонируем датафрейм, чтобы строка состояла из элементов одного вида входных данных (то есть  данном случае строке соответсвует столбец исходного датафрейма)\n",
    "dfnew_transposed = dfnew.T\n",
    "#print(dfnew_transposed)\n",
    "#статистические характеристики\n",
    "mean = []\n",
    "std = []\n",
    "median = []\n",
    "max = []\n",
    "min = []\n",
    "#на выдохе необходимы строки, чтобы далее сделать датафрейм стат.характеристик\n",
    "for (i,j) in enumerate(dfnew_transposed): #i - индекс вида входных данных , j - значения\n",
    "    mean.append(j.mean())\n",
    "    std.append(j.std())\n",
    "    max.append(j.max())\n",
    "    min.append(j.min())\n",
    "    median.append(np.median(j))\n",
    "#print(mean)\n",
    "# print(std)\n",
    "# print(median)\n",
    "# print(max)\n",
    "# print(min)\n",
    "\n",
    "newcolumns = df.drop('Bankrupt?', axis=1)\n",
    "\n",
    "#convert lists into a single list\n",
    "data = []\n",
    "data.append(newcolumns.columns)\n",
    "data.append(mean)\n",
    "data.append(std)\n",
    "data.append(median)\n",
    "data.append(max)\n",
    "data.append(min)\n",
    "\n",
    "#convert list into DataFrame\n",
    "table1 = pd.DataFrame(data).transpose()\n",
    "table1.columns =[\"Столбец данных\", \"Матожидание\", \"Станд.откл.\", \"Медиана\", \"Максимум\", \"Минимум\"]\n",
    "#вывели таблицу статистических характеристик по столбцам\n",
    "table1.to_excel(\"stat.xlsx\")\n",
    "table1"
   ],
   "metadata": {
    "collapsed": false,
    "pycharm": {
     "name": "#%%\n"
    }
   }
  },
  {
   "cell_type": "code",
   "execution_count": 4,
   "outputs": [
    {
     "name": "stdout",
     "output_type": "stream",
     "text": [
      "fit_time: 25.888 (2.743)\n",
      "score_time: 0.040 (0.053)\n",
      "test_accuracy: 0.970 (0.006)\n",
      "test_precision: 0.601 (0.134)\n",
      "test_recall: 0.259 (0.089)\n",
      "test_f1: 0.352 (0.093)\n"
     ]
    }
   ],
   "source": [
    "#разделяем данные на Х и у (почти в каждой ячейке для удобства)\n",
    "X = df.drop('Bankrupt?', axis=1) #входные данные получаем удалением столбца выходных данных из исходного датафрейма\n",
    "y = df.loc[:,'Bankrupt?'] #выходные данные - столбец 'Bankrupt?'\n",
    "\n",
    "#воспользуемся моделью, которая, в свою очередь, яляется реализацией библиотеки машинного обучения scikit-learn для XGBoost-классификации (экстремальный градиентный бустинг). Модель носит название XGBClassifier. Мы начнем применять ее без изменения входных параметров\n",
    "model = XGBClassifier()\n",
    "#Данная модель будет являться одним из параметром для кросс-валидации. Далее определим еще один параметр - cv, в нашем случае возьмем в качестве этого параметра утилиту RepeatedKFold. Она представляет собой\n",
    "#следующий метод будет использоваться для кросс-валидации, включает в себя следующие параметры: n_splits - делит исходную выборку на подвыборки, под каждым из десяти номеров закреплена одна выборка, которая не меняется при многократном запуске ячейки; n_repeats - количество повторений обучения каждой подвыборки;\n",
    "cv = RepeatedKFold(n_splits = 10, n_repeats = 3, random_state = 1)\n",
    "#n_scores - результаты кросс-валидации (в каком-то смысле значения вероятностей, сами по себе ничего не значат, выводы производятся исключетельно относительно друг друга), выводит 3 значения. Для нас предпочтительнее, чтобы каждое значение было близко к единице. Дальнейшие методы работы с данными, переборы параметров рассмотрены и выполнены именно для такого результата. Здесь параметр n_jobs означает количество ядер процесса, которые будут использоваться при обучении данных. -1 - все ядра.\n",
    "n_scores = cross_validate(model, X, y, scoring = ['accuracy', 'precision', 'recall', 'f1'], cv = cv, n_jobs = -1)\n",
    "\n",
    "#вышеупомянутые n_scores выведем в формате среднего значения, в скобках укажем стандартное отклонение, в пределах которого может колебаться результат\n",
    "for k in n_scores:\n",
    "    print('{}: {:.3f} ({:.3f})'.format(k, n_scores[k].mean(), n_scores[k].std()))"
   ],
   "metadata": {
    "collapsed": false,
    "pycharm": {
     "name": "#%%\n"
    }
   }
  },
  {
   "cell_type": "code",
   "execution_count": null,
   "outputs": [],
   "source": [],
   "metadata": {
    "collapsed": false,
    "pycharm": {
     "name": "#%%\n"
    }
   }
  },
  {
   "cell_type": "code",
   "execution_count": 5,
   "outputs": [
    {
     "name": "stdout",
     "output_type": "stream",
     "text": [
      "220\n",
      "6599\n",
      "29.995454545454546\n"
     ]
    }
   ],
   "source": [
    "#вычислим количество элементов каждого класса\n",
    "print((df.loc[:,'Bankrupt?'] == 1).sum())\n",
    "print((df.loc[:,'Bankrupt?'] == 0).sum())\n",
    "#выравниваем вклад в функцию потерь позитивных и негативных данных (в нашем случае позитивными являются данные 1, то есть объявление\n",
    "scale_pos_weight = (df.loc[:,'Bankrupt?'] == 0).sum()/(df.loc[:,'Bankrupt?'] == 1).sum()\n",
    "print(scale_pos_weight)"
   ],
   "metadata": {
    "collapsed": false,
    "pycharm": {
     "name": "#%%\n"
    }
   }
  },
  {
   "cell_type": "code",
   "execution_count": 6,
   "outputs": [
    {
     "name": "stdout",
     "output_type": "stream",
     "text": [
      "fit_time: 17.578 (1.194)\n",
      "score_time: 0.022 (0.003)\n",
      "test_accuracy: 0.969 (0.006)\n",
      "test_precision: 0.525 (0.088)\n",
      "test_recall: 0.434 (0.110)\n",
      "test_f1: 0.469 (0.087)\n"
     ]
    }
   ],
   "source": [
    "#Выведем повторно метрики после выравнивания вклада в функцию потерь позитивных и негативных данных\n",
    "X = df.drop('Bankrupt?', axis=1)\n",
    "y = df.loc[:,'Bankrupt?']\n",
    "\n",
    "model = XGBClassifier(scale_pos_weight = scale_pos_weight)\n",
    "cv = RepeatedKFold(n_splits = 10, n_repeats = 3, random_state = 1)\n",
    "n_scores = cross_validate(model, X, y, scoring = ['accuracy', 'precision', 'recall', 'f1'], cv = cv, n_jobs = -1)\n",
    "\n",
    "for k in n_scores:\n",
    "    print('{}: {:.3f} ({:.3f})'.format(k, n_scores[k].mean(), n_scores[k].std()))"
   ],
   "metadata": {
    "collapsed": false,
    "pycharm": {
     "name": "#%%\n"
    }
   }
  },
  {
   "cell_type": "code",
   "execution_count": 7,
   "outputs": [
    {
     "name": "stdout",
     "output_type": "stream",
     "text": [
      "fit_time: 17.308 (1.490)\n",
      "score_time: 0.022 (0.004)\n",
      "test_accuracy: 0.968 (0.007)\n",
      "test_precision: 0.512 (0.102)\n",
      "test_recall: 0.427 (0.115)\n",
      "test_f1: 0.460 (0.095)\n"
     ]
    }
   ],
   "source": [
    "#увеличим scale_pos_weight\n",
    "model = XGBClassifier(scale_pos_weight = 50)\n",
    "cv = RepeatedKFold(n_splits = 10, n_repeats = 3, random_state = 1)\n",
    "n_scores = cross_validate(model, X, y, scoring = ['accuracy', 'precision', 'recall','f1'], cv = cv, n_jobs = -1)\n",
    "\n",
    "for k in n_scores:\n",
    "    print('{}: {:.3f} ({:.3f})'.format(k, n_scores[k].mean(), n_scores[k].std()))"
   ],
   "metadata": {
    "collapsed": false,
    "pycharm": {
     "name": "#%%\n"
    }
   }
  },
  {
   "cell_type": "code",
   "execution_count": 5,
   "outputs": [
    {
     "name": "stdout",
     "output_type": "stream",
     "text": [
      "fit_time: 20.150 (2.314)\n",
      "score_time: 0.021 (0.003)\n",
      "test_accuracy: 0.965 (0.006)\n",
      "test_precision: 0.460 (0.076)\n",
      "test_recall: 0.501 (0.111)\n",
      "test_f1: 0.472 (0.069)\n"
     ]
    }
   ],
   "source": [
    "#увеличим scale_pos_weight\n",
    "model = XGBClassifier(scale_pos_weight = 1000)\n",
    "cv = RepeatedKFold(n_splits = 10, n_repeats = 3, random_state = 1)\n",
    "n_scores = cross_validate(model, X, y, scoring = ['accuracy', 'precision', 'recall', 'f1'], cv = cv, n_jobs = -1)\n",
    "\n",
    "for k in n_scores:\n",
    "    print('{}: {:.3f} ({:.3f})'.format(k, n_scores[k].mean(), n_scores[k].std()))"
   ],
   "metadata": {
    "collapsed": false,
    "pycharm": {
     "name": "#%%\n"
    }
   }
  },
  {
   "cell_type": "code",
   "execution_count": 6,
   "outputs": [
    {
     "name": "stdout",
     "output_type": "stream",
     "text": [
      "fit_time: 20.924 (1.493)\n",
      "score_time: 0.023 (0.006)\n",
      "test_accuracy: 0.958 (0.006)\n",
      "test_precision: 0.384 (0.071)\n",
      "test_recall: 0.524 (0.104)\n",
      "test_f1: 0.438 (0.067)\n"
     ]
    }
   ],
   "source": [
    "#увеличим scale_pos_weight\n",
    "model = XGBClassifier(scale_pos_weight = 10000)\n",
    "cv = RepeatedKFold(n_splits = 10, n_repeats = 3, random_state = 1)\n",
    "n_scores = cross_validate(model, X, y, scoring = ['accuracy', 'precision', 'recall', 'f1'], cv = cv, n_jobs = -1)\n",
    "\n",
    "for k in n_scores:\n",
    "    print('{}: {:.3f} ({:.3f})'.format(k, n_scores[k].mean(), n_scores[k].std()))"
   ],
   "metadata": {
    "collapsed": false,
    "pycharm": {
     "name": "#%%\n"
    }
   }
  },
  {
   "cell_type": "code",
   "execution_count": 7,
   "outputs": [],
   "source": [
    "X1, y1 = imblearn.over_sampling.SMOTE().fit_resample(X,y)"
   ],
   "metadata": {
    "collapsed": false,
    "pycharm": {
     "name": "#%%\n"
    }
   }
  },
  {
   "cell_type": "code",
   "execution_count": 8,
   "outputs": [
    {
     "name": "stdout",
     "output_type": "stream",
     "text": [
      "Counter({0: 6599, 1: 220})\n",
      "Counter({1: 6599, 0: 6599})\n"
     ]
    }
   ],
   "source": [
    "print(Counter(y))\n",
    "print(Counter(y1))"
   ],
   "metadata": {
    "collapsed": false,
    "pycharm": {
     "name": "#%%\n"
    }
   }
  },
  {
   "cell_type": "code",
   "execution_count": 9,
   "outputs": [
    {
     "name": "stdout",
     "output_type": "stream",
     "text": [
      "fit_time: 71.100 (3.970)\n",
      "score_time: 0.086 (0.092)\n",
      "test_accuracy: 0.989 (0.003)\n",
      "test_precision: 0.980 (0.006)\n",
      "test_recall: 0.998 (0.002)\n",
      "test_f1: 0.989 (0.003)\n"
     ]
    }
   ],
   "source": [
    "model = XGBClassifier()\n",
    "cv = RepeatedKFold(n_splits = 10, n_repeats = 3, random_state = 1)\n",
    "n_scores = cross_validate(model, X1, y1, scoring = ['accuracy', 'precision', 'recall', 'f1'], cv = cv, n_jobs = -1)\n",
    "\n",
    "for k in n_scores:\n",
    "    print('{}: {:.3f} ({:.3f})'.format(k, n_scores[k].mean(), n_scores[k].std()))"
   ],
   "metadata": {
    "collapsed": false,
    "pycharm": {
     "name": "#%%\n"
    }
   }
  },
  {
   "cell_type": "code",
   "execution_count": 10,
   "outputs": [
    {
     "name": "stdout",
     "output_type": "stream",
     "text": [
      "fit_time: 76.235 (2.918)\n",
      "score_time: 0.044 (0.058)\n",
      "test_accuracy: 0.966 (0.006)\n",
      "test_precision: 0.469 (0.089)\n",
      "test_recall: 0.505 (0.110)\n",
      "test_f1: 0.480 (0.083)\n"
     ]
    }
   ],
   "source": [
    "model = XGBClassifier()\n",
    "smote = imblearn.over_sampling.SMOTE()\n",
    "pipeline = Pipeline(steps = [('smote', smote), ('model', model)])\n",
    "\n",
    "cv = RepeatedKFold(n_splits = 10, n_repeats = 3, random_state = 1)\n",
    "n_scores = cross_validate(pipeline, X, y, scoring = ['accuracy', 'precision', 'recall', 'f1'], cv = cv, n_jobs = -1)\n",
    "\n",
    "for k in n_scores:\n",
    "    print('{}: {:.3f} ({:.3f})'.format(k, n_scores[k].mean(), n_scores[k].std()))"
   ],
   "metadata": {
    "collapsed": false,
    "pycharm": {
     "name": "#%%\n"
    }
   }
  },
  {
   "cell_type": "code",
   "execution_count": 11,
   "outputs": [
    {
     "name": "stdout",
     "output_type": "stream",
     "text": [
      "fit_time: 51.004 (3.413)\n",
      "score_time: 0.031 (0.048)\n",
      "test_accuracy: 0.967 (0.007)\n",
      "test_precision: 0.498 (0.085)\n",
      "test_recall: 0.489 (0.107)\n",
      "test_f1: 0.488 (0.081)\n"
     ]
    }
   ],
   "source": [
    "model = XGBClassifier()\n",
    "smote = imblearn.over_sampling.SMOTE(sampling_strategy = 0.5)\n",
    "pipeline = Pipeline(steps = [('smote', smote), ('model', model)])\n",
    "\n",
    "cv = RepeatedKFold(n_splits = 10, n_repeats = 3, random_state = 1)\n",
    "n_scores = cross_validate(pipeline, X, y, scoring = ['accuracy', 'precision', 'recall', 'f1'], cv = cv, n_jobs = -1)\n",
    "\n",
    "for k in n_scores:\n",
    "    print('{}: {:.3f} ({:.3f})'.format(k, n_scores[k].mean(), n_scores[k].std()))"
   ],
   "metadata": {
    "collapsed": false,
    "pycharm": {
     "name": "#%%\n"
    }
   }
  },
  {
   "cell_type": "code",
   "execution_count": 12,
   "outputs": [
    {
     "name": "stdout",
     "output_type": "stream",
     "text": [
      "fit_time: 71.021 (7.100)\n",
      "score_time: 0.033 (0.039)\n",
      "test_accuracy: 0.965 (0.008)\n",
      "test_precision: 0.461 (0.104)\n",
      "test_recall: 0.492 (0.118)\n",
      "test_f1: 0.470 (0.093)\n"
     ]
    }
   ],
   "source": [
    "model = XGBClassifier()\n",
    "smote = imblearn.over_sampling.SMOTE(sampling_strategy = 0.9)\n",
    "pipeline = Pipeline(steps = [('smote', smote), ('model', model)])\n",
    "\n",
    "cv = RepeatedKFold(n_splits = 10, n_repeats = 3, random_state = 1)\n",
    "n_scores = cross_validate(pipeline, X, y, scoring = ['accuracy', 'precision', 'recall', 'f1'], cv = cv, n_jobs = -1)\n",
    "\n",
    "for k in n_scores:\n",
    "    print('{}: {:.3f} ({:.3f})'.format(k, n_scores[k].mean(), n_scores[k].std()))"
   ],
   "metadata": {
    "collapsed": false,
    "pycharm": {
     "name": "#%%\n"
    }
   }
  },
  {
   "cell_type": "code",
   "execution_count": 13,
   "outputs": [],
   "source": [
    "#Создали класс, реализующий ансамль XGB-моделей, обученных на случайных сбалансированных подвыборках\n",
    "class ResampledEnsemble(sklearn.base.BaseEstimator):\n",
    "\n",
    "    def __init__(self, n_estimators = 100, zeros_ratio = 1, scale_pos_weight = 1, power = 1, ensemble_quantile = None):\n",
    "        self.n_estimators = n_estimators\n",
    "        self.classes_ = np.array([0,1])\n",
    "        self.zeros_ratio = zeros_ratio\n",
    "        self.scale_pos_weight = scale_pos_weight\n",
    "        self.power = power\n",
    "        #добавляем вместо среднего арифметического квантиль\n",
    "        self.ensemble_quantile = ensemble_quantile\n",
    "\n",
    "    def fit(self, X, y):\n",
    "        self.estimators = []\n",
    "        for i in range(self.n_estimators):\n",
    "            ones = y == 1\n",
    "            num_ones = ones.sum()\n",
    "            zeros_indexes = np.where(np.logical_not(ones))[0]\n",
    "            zeros_subsample = np.random.choice(zeros_indexes, size=int(num_ones*self.zeros_ratio), replace=False, p=None)\n",
    "            final_indexes = np.concatenate([np.where(ones)[0], zeros_subsample])\n",
    "            model = XGBClassifier(scale_pos_weight = self.scale_pos_weight)\n",
    "            model.fit(X[final_indexes,:], y[final_indexes])\n",
    "            self.estimators.append(model)\n",
    "            #print(\"Fitting of model number {} is finished\".format(i))\n",
    "            if model.classes_[0] > model.classes_[1]:\n",
    "                raise Exception(\"Wrong order of classes\")\n",
    "\n",
    "    def predict_proba(self, X):\n",
    "        results = np.zeros([self.n_estimators, X.shape[0], 2]) #количество строк в иксе, количество столбцов по числу классов [0] и [1]\n",
    "        for i in range(self.n_estimators):\n",
    "            results[i,:,:] = self.estimators[i].predict_proba(X)\n",
    "        if self.ensemble_quantile is None:\n",
    "            ensemble_results = np.mean(results**self.power, axis = 0)\n",
    "        else:\n",
    "            ensemble_results = np.quantile(results**self.power, self.ensemble_quantile, axis = 0)\n",
    "        row_sums =  np.sum(ensemble_results, axis = 1)\n",
    "        return ensemble_results/row_sums[:, None]\n",
    "\n",
    "    def predict(self, X):\n",
    "        res_classes = np.zeros(X.shape[0])\n",
    "        results = self.predict_proba(X)\n",
    "        for i in range(X.shape[0]):\n",
    "            res_classes[i] = self.classes_[np.argmax(results[i,:])]\n",
    "        return res_classes"
   ],
   "metadata": {
    "collapsed": false,
    "pycharm": {
     "name": "#%%\n"
    }
   }
  },
  {
   "cell_type": "code",
   "execution_count": 14,
   "outputs": [
    {
     "name": "stdout",
     "output_type": "stream",
     "text": [
      "Predicted classes: [1. 1. 1. 1. 1.]\n",
      "Predicted scores of classes:\n",
      " [[2.93294589e-04 9.99706705e-01]\n",
      " [2.53053308e-02 9.74694669e-01]\n",
      " [1.83622042e-03 9.98163780e-01]\n",
      " [7.31686751e-03 9.92683132e-01]\n",
      " [2.47199535e-02 9.75280046e-01]]\n"
     ]
    }
   ],
   "source": [
    "X = df.drop('Bankrupt?', axis=1).to_numpy()\n",
    "y = df.loc[:,'Bankrupt?'].to_numpy()\n",
    "\n",
    "model = ResampledEnsemble(n_estimators = 3)\n",
    "model.fit(X,y)\n",
    "print(\"Predicted classes:\", model.predict(X[range(5),:]))\n",
    "print(\"Predicted scores of classes:\\n\", model.predict_proba(X[range(5),:]))"
   ],
   "metadata": {
    "collapsed": false,
    "pycharm": {
     "name": "#%%\n"
    }
   }
  },
  {
   "cell_type": "code",
   "execution_count": 17,
   "outputs": [
    {
     "name": "stdout",
     "output_type": "stream",
     "text": [
      "fit_time: 3.456 (0.373)\n",
      "score_time: 0.072 (0.010)\n",
      "test_accuracy: 0.857 (0.008)\n",
      "test_precision: 0.171 (0.012)\n",
      "test_recall: 0.891 (0.050)\n",
      "test_f1: 0.287 (0.017)\n"
     ]
    }
   ],
   "source": [
    "X = df.drop('Bankrupt?', axis=1).to_numpy()\n",
    "y = df.loc[:,'Bankrupt?'].to_numpy()\n",
    "\n",
    "model = ResampledEnsemble(n_estimators = 5)\n",
    "cv = RepeatedKFold(n_splits = 5, n_repeats = 3, random_state = 1)\n",
    "n_scores = cross_validate(model, X, y, scoring = ['accuracy', 'precision', 'recall', 'f1'], cv = cv, n_jobs = -1)\n",
    "\n",
    "for k in n_scores:\n",
    "    print('{}: {:.3f} ({:.3f})'.format(k, n_scores[k].mean(), n_scores[k].std()))"
   ],
   "metadata": {
    "collapsed": false,
    "pycharm": {
     "name": "#%%\n"
    }
   }
  },
  {
   "cell_type": "code",
   "execution_count": 18,
   "outputs": [
    {
     "name": "stdout",
     "output_type": "stream",
     "text": [
      "fit_time: 69.677 (5.697)\n",
      "score_time: 1.543 (0.297)\n",
      "test_accuracy: 0.859 (0.009)\n",
      "test_precision: 0.173 (0.013)\n",
      "test_recall: 0.892 (0.061)\n",
      "test_f1: 0.289 (0.018)\n"
     ]
    }
   ],
   "source": [
    "X = df.drop('Bankrupt?', axis=1).to_numpy()\n",
    "y = df.loc[:,'Bankrupt?'].to_numpy()\n",
    "\n",
    "model = ResampledEnsemble(n_estimators = 100)\n",
    "cv = RepeatedKFold(n_splits = 5, n_repeats = 3, random_state = 1)\n",
    "n_scores = cross_validate(model, X, y, scoring = ['accuracy', 'precision', 'recall', 'f1'], cv = cv, n_jobs = -1)\n",
    "\n",
    "for k in n_scores:\n",
    "    print('{}: {:.3f} ({:.3f})'.format(k, n_scores[k].mean(), n_scores[k].std()))"
   ],
   "metadata": {
    "collapsed": false,
    "pycharm": {
     "name": "#%%\n"
    }
   }
  },
  {
   "cell_type": "markdown",
   "source": [
    "Завести параметр, отвечающий за количество нулей. Сделать это число побольше\n",
    "Лассо, рандомфорест сделать в другом юпитер ноутбуке"
   ],
   "metadata": {
    "collapsed": false,
    "pycharm": {
     "name": "#%% md\n"
    }
   }
  },
  {
   "cell_type": "code",
   "execution_count": 19,
   "outputs": [
    {
     "name": "stdout",
     "output_type": "stream",
     "text": [
      "fit_time: 34.986 (1.131)\n",
      "score_time: 0.094 (0.019)\n",
      "test_accuracy: 0.969 (0.003)\n",
      "test_precision: 0.529 (0.052)\n",
      "test_recall: 0.440 (0.080)\n",
      "test_f1: 0.477 (0.055)\n"
     ]
    }
   ],
   "source": [
    "X = df.drop('Bankrupt?', axis=1).to_numpy()\n",
    "y = df.loc[:,'Bankrupt?'].to_numpy()\n",
    "\n",
    "model = ResampledEnsemble(n_estimators = 5, zeros_ratio = 15)\n",
    "cv = RepeatedKFold(n_splits = 5, n_repeats = 3, random_state = 1)\n",
    "n_scores = cross_validate(model, X, y, scoring = ['accuracy', 'precision', 'recall', 'f1'], cv = cv, n_jobs = -1)\n",
    "\n",
    "for k in n_scores:\n",
    "    print('{}: {:.3f} ({:.3f})'.format(k, n_scores[k].mean(), n_scores[k].std()))"
   ],
   "metadata": {
    "collapsed": false,
    "pycharm": {
     "name": "#%%\n"
    }
   }
  },
  {
   "cell_type": "code",
   "execution_count": 20,
   "outputs": [
    {
     "ename": "KeyboardInterrupt",
     "evalue": "",
     "output_type": "error",
     "traceback": [
      "\u001B[1;31m---------------------------------------------------------------------------\u001B[0m",
      "\u001B[1;31mKeyboardInterrupt\u001B[0m                         Traceback (most recent call last)",
      "\u001B[1;32m~\\AppData\\Local\\Temp\\ipykernel_17204\\898456327.py\u001B[0m in \u001B[0;36m<module>\u001B[1;34m\u001B[0m\n\u001B[0;32m      4\u001B[0m \u001B[0mmodel\u001B[0m \u001B[1;33m=\u001B[0m \u001B[0mResampledEnsemble\u001B[0m\u001B[1;33m(\u001B[0m\u001B[0mn_estimators\u001B[0m \u001B[1;33m=\u001B[0m \u001B[1;36m100\u001B[0m\u001B[1;33m,\u001B[0m \u001B[0mzeros_ratio\u001B[0m \u001B[1;33m=\u001B[0m \u001B[1;36m15\u001B[0m\u001B[1;33m)\u001B[0m\u001B[1;33m\u001B[0m\u001B[1;33m\u001B[0m\u001B[0m\n\u001B[0;32m      5\u001B[0m \u001B[0mcv\u001B[0m \u001B[1;33m=\u001B[0m \u001B[0mRepeatedKFold\u001B[0m\u001B[1;33m(\u001B[0m\u001B[0mn_splits\u001B[0m \u001B[1;33m=\u001B[0m \u001B[1;36m5\u001B[0m\u001B[1;33m,\u001B[0m \u001B[0mn_repeats\u001B[0m \u001B[1;33m=\u001B[0m \u001B[1;36m3\u001B[0m\u001B[1;33m,\u001B[0m \u001B[0mrandom_state\u001B[0m \u001B[1;33m=\u001B[0m \u001B[1;36m1\u001B[0m\u001B[1;33m)\u001B[0m\u001B[1;33m\u001B[0m\u001B[1;33m\u001B[0m\u001B[0m\n\u001B[1;32m----> 6\u001B[1;33m \u001B[0mn_scores\u001B[0m \u001B[1;33m=\u001B[0m \u001B[0mcross_validate\u001B[0m\u001B[1;33m(\u001B[0m\u001B[0mmodel\u001B[0m\u001B[1;33m,\u001B[0m \u001B[0mX\u001B[0m\u001B[1;33m,\u001B[0m \u001B[0my\u001B[0m\u001B[1;33m,\u001B[0m \u001B[0mscoring\u001B[0m \u001B[1;33m=\u001B[0m \u001B[1;33m[\u001B[0m\u001B[1;34m'accuracy'\u001B[0m\u001B[1;33m,\u001B[0m \u001B[1;34m'precision'\u001B[0m\u001B[1;33m,\u001B[0m \u001B[1;34m'recall'\u001B[0m\u001B[1;33m,\u001B[0m \u001B[1;34m'f1'\u001B[0m\u001B[1;33m]\u001B[0m\u001B[1;33m,\u001B[0m \u001B[0mcv\u001B[0m \u001B[1;33m=\u001B[0m \u001B[0mcv\u001B[0m\u001B[1;33m,\u001B[0m \u001B[0mn_jobs\u001B[0m \u001B[1;33m=\u001B[0m \u001B[1;33m-\u001B[0m\u001B[1;36m1\u001B[0m\u001B[1;33m)\u001B[0m\u001B[1;33m\u001B[0m\u001B[1;33m\u001B[0m\u001B[0m\n\u001B[0m\u001B[0;32m      7\u001B[0m \u001B[1;33m\u001B[0m\u001B[0m\n\u001B[0;32m      8\u001B[0m \u001B[1;32mfor\u001B[0m \u001B[0mk\u001B[0m \u001B[1;32min\u001B[0m \u001B[0mn_scores\u001B[0m\u001B[1;33m:\u001B[0m\u001B[1;33m\u001B[0m\u001B[1;33m\u001B[0m\u001B[0m\n",
      "\u001B[1;32m~\\PycharmProjects\\Diploma\\files\\lib\\site-packages\\sklearn\\model_selection\\_validation.py\u001B[0m in \u001B[0;36mcross_validate\u001B[1;34m(estimator, X, y, groups, scoring, cv, n_jobs, verbose, fit_params, pre_dispatch, return_train_score, return_estimator, error_score)\u001B[0m\n\u001B[0;32m    281\u001B[0m             \u001B[0merror_score\u001B[0m\u001B[1;33m=\u001B[0m\u001B[0merror_score\u001B[0m\u001B[1;33m,\u001B[0m\u001B[1;33m\u001B[0m\u001B[1;33m\u001B[0m\u001B[0m\n\u001B[0;32m    282\u001B[0m         )\n\u001B[1;32m--> 283\u001B[1;33m         \u001B[1;32mfor\u001B[0m \u001B[0mtrain\u001B[0m\u001B[1;33m,\u001B[0m \u001B[0mtest\u001B[0m \u001B[1;32min\u001B[0m \u001B[0mcv\u001B[0m\u001B[1;33m.\u001B[0m\u001B[0msplit\u001B[0m\u001B[1;33m(\u001B[0m\u001B[0mX\u001B[0m\u001B[1;33m,\u001B[0m \u001B[0my\u001B[0m\u001B[1;33m,\u001B[0m \u001B[0mgroups\u001B[0m\u001B[1;33m)\u001B[0m\u001B[1;33m\u001B[0m\u001B[1;33m\u001B[0m\u001B[0m\n\u001B[0m\u001B[0;32m    284\u001B[0m     )\n\u001B[0;32m    285\u001B[0m \u001B[1;33m\u001B[0m\u001B[0m\n",
      "\u001B[1;32m~\\PycharmProjects\\Diploma\\files\\lib\\site-packages\\joblib\\parallel.py\u001B[0m in \u001B[0;36m__call__\u001B[1;34m(self, iterable)\u001B[0m\n\u001B[0;32m   1096\u001B[0m \u001B[1;33m\u001B[0m\u001B[0m\n\u001B[0;32m   1097\u001B[0m             \u001B[1;32mwith\u001B[0m \u001B[0mself\u001B[0m\u001B[1;33m.\u001B[0m\u001B[0m_backend\u001B[0m\u001B[1;33m.\u001B[0m\u001B[0mretrieval_context\u001B[0m\u001B[1;33m(\u001B[0m\u001B[1;33m)\u001B[0m\u001B[1;33m:\u001B[0m\u001B[1;33m\u001B[0m\u001B[1;33m\u001B[0m\u001B[0m\n\u001B[1;32m-> 1098\u001B[1;33m                 \u001B[0mself\u001B[0m\u001B[1;33m.\u001B[0m\u001B[0mretrieve\u001B[0m\u001B[1;33m(\u001B[0m\u001B[1;33m)\u001B[0m\u001B[1;33m\u001B[0m\u001B[1;33m\u001B[0m\u001B[0m\n\u001B[0m\u001B[0;32m   1099\u001B[0m             \u001B[1;31m# Make sure that we get a last message telling us we are done\u001B[0m\u001B[1;33m\u001B[0m\u001B[1;33m\u001B[0m\u001B[1;33m\u001B[0m\u001B[0m\n\u001B[0;32m   1100\u001B[0m             \u001B[0melapsed_time\u001B[0m \u001B[1;33m=\u001B[0m \u001B[0mtime\u001B[0m\u001B[1;33m.\u001B[0m\u001B[0mtime\u001B[0m\u001B[1;33m(\u001B[0m\u001B[1;33m)\u001B[0m \u001B[1;33m-\u001B[0m \u001B[0mself\u001B[0m\u001B[1;33m.\u001B[0m\u001B[0m_start_time\u001B[0m\u001B[1;33m\u001B[0m\u001B[1;33m\u001B[0m\u001B[0m\n",
      "\u001B[1;32m~\\PycharmProjects\\Diploma\\files\\lib\\site-packages\\joblib\\parallel.py\u001B[0m in \u001B[0;36mretrieve\u001B[1;34m(self)\u001B[0m\n\u001B[0;32m    973\u001B[0m             \u001B[1;32mtry\u001B[0m\u001B[1;33m:\u001B[0m\u001B[1;33m\u001B[0m\u001B[1;33m\u001B[0m\u001B[0m\n\u001B[0;32m    974\u001B[0m                 \u001B[1;32mif\u001B[0m \u001B[0mgetattr\u001B[0m\u001B[1;33m(\u001B[0m\u001B[0mself\u001B[0m\u001B[1;33m.\u001B[0m\u001B[0m_backend\u001B[0m\u001B[1;33m,\u001B[0m \u001B[1;34m'supports_timeout'\u001B[0m\u001B[1;33m,\u001B[0m \u001B[1;32mFalse\u001B[0m\u001B[1;33m)\u001B[0m\u001B[1;33m:\u001B[0m\u001B[1;33m\u001B[0m\u001B[1;33m\u001B[0m\u001B[0m\n\u001B[1;32m--> 975\u001B[1;33m                     \u001B[0mself\u001B[0m\u001B[1;33m.\u001B[0m\u001B[0m_output\u001B[0m\u001B[1;33m.\u001B[0m\u001B[0mextend\u001B[0m\u001B[1;33m(\u001B[0m\u001B[0mjob\u001B[0m\u001B[1;33m.\u001B[0m\u001B[0mget\u001B[0m\u001B[1;33m(\u001B[0m\u001B[0mtimeout\u001B[0m\u001B[1;33m=\u001B[0m\u001B[0mself\u001B[0m\u001B[1;33m.\u001B[0m\u001B[0mtimeout\u001B[0m\u001B[1;33m)\u001B[0m\u001B[1;33m)\u001B[0m\u001B[1;33m\u001B[0m\u001B[1;33m\u001B[0m\u001B[0m\n\u001B[0m\u001B[0;32m    976\u001B[0m                 \u001B[1;32melse\u001B[0m\u001B[1;33m:\u001B[0m\u001B[1;33m\u001B[0m\u001B[1;33m\u001B[0m\u001B[0m\n\u001B[0;32m    977\u001B[0m                     \u001B[0mself\u001B[0m\u001B[1;33m.\u001B[0m\u001B[0m_output\u001B[0m\u001B[1;33m.\u001B[0m\u001B[0mextend\u001B[0m\u001B[1;33m(\u001B[0m\u001B[0mjob\u001B[0m\u001B[1;33m.\u001B[0m\u001B[0mget\u001B[0m\u001B[1;33m(\u001B[0m\u001B[1;33m)\u001B[0m\u001B[1;33m)\u001B[0m\u001B[1;33m\u001B[0m\u001B[1;33m\u001B[0m\u001B[0m\n",
      "\u001B[1;32m~\\PycharmProjects\\Diploma\\files\\lib\\site-packages\\joblib\\_parallel_backends.py\u001B[0m in \u001B[0;36mwrap_future_result\u001B[1;34m(future, timeout)\u001B[0m\n\u001B[0;32m    565\u001B[0m         AsyncResults.get from multiprocessing.\"\"\"\n\u001B[0;32m    566\u001B[0m         \u001B[1;32mtry\u001B[0m\u001B[1;33m:\u001B[0m\u001B[1;33m\u001B[0m\u001B[1;33m\u001B[0m\u001B[0m\n\u001B[1;32m--> 567\u001B[1;33m             \u001B[1;32mreturn\u001B[0m \u001B[0mfuture\u001B[0m\u001B[1;33m.\u001B[0m\u001B[0mresult\u001B[0m\u001B[1;33m(\u001B[0m\u001B[0mtimeout\u001B[0m\u001B[1;33m=\u001B[0m\u001B[0mtimeout\u001B[0m\u001B[1;33m)\u001B[0m\u001B[1;33m\u001B[0m\u001B[1;33m\u001B[0m\u001B[0m\n\u001B[0m\u001B[0;32m    568\u001B[0m         \u001B[1;32mexcept\u001B[0m \u001B[0mCfTimeoutError\u001B[0m \u001B[1;32mas\u001B[0m \u001B[0me\u001B[0m\u001B[1;33m:\u001B[0m\u001B[1;33m\u001B[0m\u001B[1;33m\u001B[0m\u001B[0m\n\u001B[0;32m    569\u001B[0m             \u001B[1;32mraise\u001B[0m \u001B[0mTimeoutError\u001B[0m \u001B[1;32mfrom\u001B[0m \u001B[0me\u001B[0m\u001B[1;33m\u001B[0m\u001B[1;33m\u001B[0m\u001B[0m\n",
      "\u001B[1;32mC:\\Program Files (x86)\\Microsoft Visual Studio\\Shared\\Python37_64\\lib\\concurrent\\futures\\_base.py\u001B[0m in \u001B[0;36mresult\u001B[1;34m(self, timeout)\u001B[0m\n\u001B[0;32m    428\u001B[0m                 \u001B[1;32mreturn\u001B[0m \u001B[0mself\u001B[0m\u001B[1;33m.\u001B[0m\u001B[0m__get_result\u001B[0m\u001B[1;33m(\u001B[0m\u001B[1;33m)\u001B[0m\u001B[1;33m\u001B[0m\u001B[1;33m\u001B[0m\u001B[0m\n\u001B[0;32m    429\u001B[0m \u001B[1;33m\u001B[0m\u001B[0m\n\u001B[1;32m--> 430\u001B[1;33m             \u001B[0mself\u001B[0m\u001B[1;33m.\u001B[0m\u001B[0m_condition\u001B[0m\u001B[1;33m.\u001B[0m\u001B[0mwait\u001B[0m\u001B[1;33m(\u001B[0m\u001B[0mtimeout\u001B[0m\u001B[1;33m)\u001B[0m\u001B[1;33m\u001B[0m\u001B[1;33m\u001B[0m\u001B[0m\n\u001B[0m\u001B[0;32m    431\u001B[0m \u001B[1;33m\u001B[0m\u001B[0m\n\u001B[0;32m    432\u001B[0m             \u001B[1;32mif\u001B[0m \u001B[0mself\u001B[0m\u001B[1;33m.\u001B[0m\u001B[0m_state\u001B[0m \u001B[1;32min\u001B[0m \u001B[1;33m[\u001B[0m\u001B[0mCANCELLED\u001B[0m\u001B[1;33m,\u001B[0m \u001B[0mCANCELLED_AND_NOTIFIED\u001B[0m\u001B[1;33m]\u001B[0m\u001B[1;33m:\u001B[0m\u001B[1;33m\u001B[0m\u001B[1;33m\u001B[0m\u001B[0m\n",
      "\u001B[1;32mC:\\Program Files (x86)\\Microsoft Visual Studio\\Shared\\Python37_64\\lib\\threading.py\u001B[0m in \u001B[0;36mwait\u001B[1;34m(self, timeout)\u001B[0m\n\u001B[0;32m    294\u001B[0m         \u001B[1;32mtry\u001B[0m\u001B[1;33m:\u001B[0m    \u001B[1;31m# restore state no matter what (e.g., KeyboardInterrupt)\u001B[0m\u001B[1;33m\u001B[0m\u001B[1;33m\u001B[0m\u001B[0m\n\u001B[0;32m    295\u001B[0m             \u001B[1;32mif\u001B[0m \u001B[0mtimeout\u001B[0m \u001B[1;32mis\u001B[0m \u001B[1;32mNone\u001B[0m\u001B[1;33m:\u001B[0m\u001B[1;33m\u001B[0m\u001B[1;33m\u001B[0m\u001B[0m\n\u001B[1;32m--> 296\u001B[1;33m                 \u001B[0mwaiter\u001B[0m\u001B[1;33m.\u001B[0m\u001B[0macquire\u001B[0m\u001B[1;33m(\u001B[0m\u001B[1;33m)\u001B[0m\u001B[1;33m\u001B[0m\u001B[1;33m\u001B[0m\u001B[0m\n\u001B[0m\u001B[0;32m    297\u001B[0m                 \u001B[0mgotit\u001B[0m \u001B[1;33m=\u001B[0m \u001B[1;32mTrue\u001B[0m\u001B[1;33m\u001B[0m\u001B[1;33m\u001B[0m\u001B[0m\n\u001B[0;32m    298\u001B[0m             \u001B[1;32melse\u001B[0m\u001B[1;33m:\u001B[0m\u001B[1;33m\u001B[0m\u001B[1;33m\u001B[0m\u001B[0m\n",
      "\u001B[1;31mKeyboardInterrupt\u001B[0m: "
     ]
    }
   ],
   "source": [
    "X = df.drop('Bankrupt?', axis=1).to_numpy()\n",
    "y = df.loc[:,'Bankrupt?'].to_numpy()\n",
    "\n",
    "model = ResampledEnsemble(n_estimators = 100, zeros_ratio = 15)\n",
    "cv = RepeatedKFold(n_splits = 5, n_repeats = 3, random_state = 1)\n",
    "n_scores = cross_validate(model, X, y, scoring = ['accuracy', 'precision', 'recall', 'f1'], cv = cv, n_jobs = -1)\n",
    "\n",
    "for k in n_scores:\n",
    "    print('{}: {:.3f} ({:.3f})'.format(k, n_scores[k].mean(), n_scores[k].std()))"
   ],
   "metadata": {
    "collapsed": false,
    "pycharm": {
     "name": "#%%\n"
    }
   }
  },
  {
   "cell_type": "markdown",
   "source": [
    "Объединение нескольких моделей в одну (взятие среднего арифметического/медианы/квантили)"
   ],
   "metadata": {
    "collapsed": false,
    "pycharm": {
     "name": "#%% md\n"
    }
   }
  },
  {
   "cell_type": "code",
   "execution_count": 21,
   "outputs": [
    {
     "name": "stdout",
     "output_type": "stream",
     "text": [
      "fit_time: 12.930 (1.104)\n",
      "score_time: 0.058 (0.008)\n",
      "test_accuracy: 0.971 (0.003)\n",
      "test_precision: 0.611 (0.085)\n",
      "test_recall: 0.254 (0.047)\n",
      "test_f1: 0.356 (0.055)\n"
     ]
    }
   ],
   "source": [
    "X = df.drop('Bankrupt?', axis=1).to_numpy()\n",
    "y = df.loc[:,'Bankrupt?'].to_numpy()\n",
    "\n",
    "model = ResampledEnsemble(n_estimators = 5, zeros_ratio = 15, scale_pos_weight = 0.1)\n",
    "cv = RepeatedKFold(n_splits = 5, n_repeats = 3, random_state = 1)\n",
    "n_scores = cross_validate(model, X, y, scoring = ['accuracy', 'precision', 'recall','f1'], cv = cv, n_jobs = 4)\n",
    "\n",
    "for k in n_scores:\n",
    "    print('{}: {:.3f} ({:.3f})'.format(k, n_scores[k].mean(), n_scores[k].std()))"
   ],
   "metadata": {
    "collapsed": false,
    "pycharm": {
     "name": "#%%\n"
    }
   }
  },
  {
   "cell_type": "code",
   "execution_count": 40,
   "outputs": [
    {
     "name": "stdout",
     "output_type": "stream",
     "text": [
      "fit_time: 19.947 (0.655)\n",
      "score_time: 0.059 (0.005)\n",
      "test_accuracy: 0.968 (0.004)\n",
      "test_precision: 0.511 (0.094)\n",
      "test_recall: 0.421 (0.058)\n"
     ]
    }
   ],
   "source": [
    "X = df.drop('Bankrupt?', axis=1).to_numpy()\n",
    "y = df.loc[:,'Bankrupt?'].to_numpy()\n",
    "\n",
    "model = ResampledEnsemble(n_estimators = 5, zeros_ratio = 15, scale_pos_weight = 0.1)\n",
    "cv = RepeatedKFold(n_splits = 5, n_repeats = 1, random_state = 1)\n",
    "n_scores = cross_validate(model, X, y, scoring = ['accuracy', 'precision', 'recall'], cv = cv, n_jobs = -1)\n",
    "\n",
    "for k in n_scores:\n",
    "    print('{}: {:.3f} ({:.3f})'.format(k, n_scores[k].mean(), n_scores[k].std()))"
   ],
   "metadata": {
    "collapsed": false,
    "pycharm": {
     "name": "#%%\n"
    }
   }
  },
  {
   "cell_type": "code",
   "execution_count": 35,
   "outputs": [
    {
     "name": "stdout",
     "output_type": "stream",
     "text": [
      "fit_time: 2.273 (0.071)\n",
      "score_time: 0.056 (0.006)\n",
      "test_accuracy: 0.856 (0.009)\n",
      "test_precision: 0.170 (0.010)\n",
      "test_recall: 0.900 (0.058)\n"
     ]
    }
   ],
   "source": [
    "X = df.drop('Bankrupt?', axis=1).to_numpy()\n",
    "y = df.loc[:,'Bankrupt?'].to_numpy()\n",
    "\n",
    "model = ResampledEnsemble(n_estimators = 5, zeros_ratio = 1, scale_pos_weight = 0.1)\n",
    "cv = RepeatedKFold(n_splits = 5, n_repeats = 1, random_state = 1)\n",
    "n_scores = cross_validate(model, X, y, scoring = ['accuracy', 'precision', 'recall','f1'], cv = cv, n_jobs = -1)\n",
    "\n",
    "for k in n_scores:\n",
    "    print('{}: {:.3f} ({:.3f})'.format(k, n_scores[k].mean(), n_scores[k].std()))"
   ],
   "metadata": {
    "collapsed": false,
    "pycharm": {
     "name": "#%%\n"
    }
   }
  },
  {
   "cell_type": "code",
   "execution_count": 22,
   "outputs": [
    {
     "ename": "KeyboardInterrupt",
     "evalue": "",
     "output_type": "error",
     "traceback": [
      "\u001B[1;31m---------------------------------------------------------------------------\u001B[0m",
      "\u001B[1;31mKeyboardInterrupt\u001B[0m                         Traceback (most recent call last)",
      "\u001B[1;32m~\\AppData\\Local\\Temp\\ipykernel_17204\\1101897372.py\u001B[0m in \u001B[0;36m<module>\u001B[1;34m\u001B[0m\n\u001B[0;32m      4\u001B[0m \u001B[0mmodel\u001B[0m \u001B[1;33m=\u001B[0m \u001B[0mResampledEnsemble\u001B[0m\u001B[1;33m(\u001B[0m\u001B[0mn_estimators\u001B[0m \u001B[1;33m=\u001B[0m \u001B[1;36m5\u001B[0m\u001B[1;33m,\u001B[0m \u001B[0mzeros_ratio\u001B[0m \u001B[1;33m=\u001B[0m \u001B[1;36m20\u001B[0m\u001B[1;33m,\u001B[0m \u001B[0mscale_pos_weight\u001B[0m \u001B[1;33m=\u001B[0m \u001B[1;36m1\u001B[0m\u001B[1;33m)\u001B[0m\u001B[1;33m\u001B[0m\u001B[1;33m\u001B[0m\u001B[0m\n\u001B[0;32m      5\u001B[0m \u001B[0mcv\u001B[0m \u001B[1;33m=\u001B[0m \u001B[0mRepeatedKFold\u001B[0m\u001B[1;33m(\u001B[0m\u001B[0mn_splits\u001B[0m \u001B[1;33m=\u001B[0m \u001B[1;36m5\u001B[0m\u001B[1;33m,\u001B[0m \u001B[0mn_repeats\u001B[0m \u001B[1;33m=\u001B[0m \u001B[1;36m1\u001B[0m\u001B[1;33m,\u001B[0m \u001B[0mrandom_state\u001B[0m \u001B[1;33m=\u001B[0m \u001B[1;36m1\u001B[0m\u001B[1;33m)\u001B[0m\u001B[1;33m\u001B[0m\u001B[1;33m\u001B[0m\u001B[0m\n\u001B[1;32m----> 6\u001B[1;33m \u001B[0mn_scores\u001B[0m \u001B[1;33m=\u001B[0m \u001B[0mcross_validate\u001B[0m\u001B[1;33m(\u001B[0m\u001B[0mmodel\u001B[0m\u001B[1;33m,\u001B[0m \u001B[0mX\u001B[0m\u001B[1;33m,\u001B[0m \u001B[0my\u001B[0m\u001B[1;33m,\u001B[0m \u001B[0mscoring\u001B[0m \u001B[1;33m=\u001B[0m \u001B[1;33m[\u001B[0m\u001B[1;34m'accuracy'\u001B[0m\u001B[1;33m,\u001B[0m \u001B[1;34m'precision'\u001B[0m\u001B[1;33m,\u001B[0m \u001B[1;34m'recall'\u001B[0m\u001B[1;33m,\u001B[0m \u001B[1;34m'f1'\u001B[0m\u001B[1;33m]\u001B[0m\u001B[1;33m,\u001B[0m \u001B[0mcv\u001B[0m \u001B[1;33m=\u001B[0m \u001B[0mcv\u001B[0m\u001B[1;33m,\u001B[0m \u001B[0mn_jobs\u001B[0m \u001B[1;33m=\u001B[0m \u001B[1;36m4\u001B[0m\u001B[1;33m)\u001B[0m\u001B[1;33m\u001B[0m\u001B[1;33m\u001B[0m\u001B[0m\n\u001B[0m\u001B[0;32m      7\u001B[0m \u001B[1;33m\u001B[0m\u001B[0m\n\u001B[0;32m      8\u001B[0m \u001B[1;32mfor\u001B[0m \u001B[0mk\u001B[0m \u001B[1;32min\u001B[0m \u001B[0mn_scores\u001B[0m\u001B[1;33m:\u001B[0m\u001B[1;33m\u001B[0m\u001B[1;33m\u001B[0m\u001B[0m\n",
      "\u001B[1;32m~\\PycharmProjects\\Diploma\\files\\lib\\site-packages\\sklearn\\model_selection\\_validation.py\u001B[0m in \u001B[0;36mcross_validate\u001B[1;34m(estimator, X, y, groups, scoring, cv, n_jobs, verbose, fit_params, pre_dispatch, return_train_score, return_estimator, error_score)\u001B[0m\n\u001B[0;32m    281\u001B[0m             \u001B[0merror_score\u001B[0m\u001B[1;33m=\u001B[0m\u001B[0merror_score\u001B[0m\u001B[1;33m,\u001B[0m\u001B[1;33m\u001B[0m\u001B[1;33m\u001B[0m\u001B[0m\n\u001B[0;32m    282\u001B[0m         )\n\u001B[1;32m--> 283\u001B[1;33m         \u001B[1;32mfor\u001B[0m \u001B[0mtrain\u001B[0m\u001B[1;33m,\u001B[0m \u001B[0mtest\u001B[0m \u001B[1;32min\u001B[0m \u001B[0mcv\u001B[0m\u001B[1;33m.\u001B[0m\u001B[0msplit\u001B[0m\u001B[1;33m(\u001B[0m\u001B[0mX\u001B[0m\u001B[1;33m,\u001B[0m \u001B[0my\u001B[0m\u001B[1;33m,\u001B[0m \u001B[0mgroups\u001B[0m\u001B[1;33m)\u001B[0m\u001B[1;33m\u001B[0m\u001B[1;33m\u001B[0m\u001B[0m\n\u001B[0m\u001B[0;32m    284\u001B[0m     )\n\u001B[0;32m    285\u001B[0m \u001B[1;33m\u001B[0m\u001B[0m\n",
      "\u001B[1;32m~\\PycharmProjects\\Diploma\\files\\lib\\site-packages\\joblib\\parallel.py\u001B[0m in \u001B[0;36m__call__\u001B[1;34m(self, iterable)\u001B[0m\n\u001B[0;32m   1096\u001B[0m \u001B[1;33m\u001B[0m\u001B[0m\n\u001B[0;32m   1097\u001B[0m             \u001B[1;32mwith\u001B[0m \u001B[0mself\u001B[0m\u001B[1;33m.\u001B[0m\u001B[0m_backend\u001B[0m\u001B[1;33m.\u001B[0m\u001B[0mretrieval_context\u001B[0m\u001B[1;33m(\u001B[0m\u001B[1;33m)\u001B[0m\u001B[1;33m:\u001B[0m\u001B[1;33m\u001B[0m\u001B[1;33m\u001B[0m\u001B[0m\n\u001B[1;32m-> 1098\u001B[1;33m                 \u001B[0mself\u001B[0m\u001B[1;33m.\u001B[0m\u001B[0mretrieve\u001B[0m\u001B[1;33m(\u001B[0m\u001B[1;33m)\u001B[0m\u001B[1;33m\u001B[0m\u001B[1;33m\u001B[0m\u001B[0m\n\u001B[0m\u001B[0;32m   1099\u001B[0m             \u001B[1;31m# Make sure that we get a last message telling us we are done\u001B[0m\u001B[1;33m\u001B[0m\u001B[1;33m\u001B[0m\u001B[1;33m\u001B[0m\u001B[0m\n\u001B[0;32m   1100\u001B[0m             \u001B[0melapsed_time\u001B[0m \u001B[1;33m=\u001B[0m \u001B[0mtime\u001B[0m\u001B[1;33m.\u001B[0m\u001B[0mtime\u001B[0m\u001B[1;33m(\u001B[0m\u001B[1;33m)\u001B[0m \u001B[1;33m-\u001B[0m \u001B[0mself\u001B[0m\u001B[1;33m.\u001B[0m\u001B[0m_start_time\u001B[0m\u001B[1;33m\u001B[0m\u001B[1;33m\u001B[0m\u001B[0m\n",
      "\u001B[1;32m~\\PycharmProjects\\Diploma\\files\\lib\\site-packages\\joblib\\parallel.py\u001B[0m in \u001B[0;36mretrieve\u001B[1;34m(self)\u001B[0m\n\u001B[0;32m    973\u001B[0m             \u001B[1;32mtry\u001B[0m\u001B[1;33m:\u001B[0m\u001B[1;33m\u001B[0m\u001B[1;33m\u001B[0m\u001B[0m\n\u001B[0;32m    974\u001B[0m                 \u001B[1;32mif\u001B[0m \u001B[0mgetattr\u001B[0m\u001B[1;33m(\u001B[0m\u001B[0mself\u001B[0m\u001B[1;33m.\u001B[0m\u001B[0m_backend\u001B[0m\u001B[1;33m,\u001B[0m \u001B[1;34m'supports_timeout'\u001B[0m\u001B[1;33m,\u001B[0m \u001B[1;32mFalse\u001B[0m\u001B[1;33m)\u001B[0m\u001B[1;33m:\u001B[0m\u001B[1;33m\u001B[0m\u001B[1;33m\u001B[0m\u001B[0m\n\u001B[1;32m--> 975\u001B[1;33m                     \u001B[0mself\u001B[0m\u001B[1;33m.\u001B[0m\u001B[0m_output\u001B[0m\u001B[1;33m.\u001B[0m\u001B[0mextend\u001B[0m\u001B[1;33m(\u001B[0m\u001B[0mjob\u001B[0m\u001B[1;33m.\u001B[0m\u001B[0mget\u001B[0m\u001B[1;33m(\u001B[0m\u001B[0mtimeout\u001B[0m\u001B[1;33m=\u001B[0m\u001B[0mself\u001B[0m\u001B[1;33m.\u001B[0m\u001B[0mtimeout\u001B[0m\u001B[1;33m)\u001B[0m\u001B[1;33m)\u001B[0m\u001B[1;33m\u001B[0m\u001B[1;33m\u001B[0m\u001B[0m\n\u001B[0m\u001B[0;32m    976\u001B[0m                 \u001B[1;32melse\u001B[0m\u001B[1;33m:\u001B[0m\u001B[1;33m\u001B[0m\u001B[1;33m\u001B[0m\u001B[0m\n\u001B[0;32m    977\u001B[0m                     \u001B[0mself\u001B[0m\u001B[1;33m.\u001B[0m\u001B[0m_output\u001B[0m\u001B[1;33m.\u001B[0m\u001B[0mextend\u001B[0m\u001B[1;33m(\u001B[0m\u001B[0mjob\u001B[0m\u001B[1;33m.\u001B[0m\u001B[0mget\u001B[0m\u001B[1;33m(\u001B[0m\u001B[1;33m)\u001B[0m\u001B[1;33m)\u001B[0m\u001B[1;33m\u001B[0m\u001B[1;33m\u001B[0m\u001B[0m\n",
      "\u001B[1;32m~\\PycharmProjects\\Diploma\\files\\lib\\site-packages\\joblib\\_parallel_backends.py\u001B[0m in \u001B[0;36mwrap_future_result\u001B[1;34m(future, timeout)\u001B[0m\n\u001B[0;32m    565\u001B[0m         AsyncResults.get from multiprocessing.\"\"\"\n\u001B[0;32m    566\u001B[0m         \u001B[1;32mtry\u001B[0m\u001B[1;33m:\u001B[0m\u001B[1;33m\u001B[0m\u001B[1;33m\u001B[0m\u001B[0m\n\u001B[1;32m--> 567\u001B[1;33m             \u001B[1;32mreturn\u001B[0m \u001B[0mfuture\u001B[0m\u001B[1;33m.\u001B[0m\u001B[0mresult\u001B[0m\u001B[1;33m(\u001B[0m\u001B[0mtimeout\u001B[0m\u001B[1;33m=\u001B[0m\u001B[0mtimeout\u001B[0m\u001B[1;33m)\u001B[0m\u001B[1;33m\u001B[0m\u001B[1;33m\u001B[0m\u001B[0m\n\u001B[0m\u001B[0;32m    568\u001B[0m         \u001B[1;32mexcept\u001B[0m \u001B[0mCfTimeoutError\u001B[0m \u001B[1;32mas\u001B[0m \u001B[0me\u001B[0m\u001B[1;33m:\u001B[0m\u001B[1;33m\u001B[0m\u001B[1;33m\u001B[0m\u001B[0m\n\u001B[0;32m    569\u001B[0m             \u001B[1;32mraise\u001B[0m \u001B[0mTimeoutError\u001B[0m \u001B[1;32mfrom\u001B[0m \u001B[0me\u001B[0m\u001B[1;33m\u001B[0m\u001B[1;33m\u001B[0m\u001B[0m\n",
      "\u001B[1;32mC:\\Program Files (x86)\\Microsoft Visual Studio\\Shared\\Python37_64\\lib\\concurrent\\futures\\_base.py\u001B[0m in \u001B[0;36mresult\u001B[1;34m(self, timeout)\u001B[0m\n\u001B[0;32m    428\u001B[0m                 \u001B[1;32mreturn\u001B[0m \u001B[0mself\u001B[0m\u001B[1;33m.\u001B[0m\u001B[0m__get_result\u001B[0m\u001B[1;33m(\u001B[0m\u001B[1;33m)\u001B[0m\u001B[1;33m\u001B[0m\u001B[1;33m\u001B[0m\u001B[0m\n\u001B[0;32m    429\u001B[0m \u001B[1;33m\u001B[0m\u001B[0m\n\u001B[1;32m--> 430\u001B[1;33m             \u001B[0mself\u001B[0m\u001B[1;33m.\u001B[0m\u001B[0m_condition\u001B[0m\u001B[1;33m.\u001B[0m\u001B[0mwait\u001B[0m\u001B[1;33m(\u001B[0m\u001B[0mtimeout\u001B[0m\u001B[1;33m)\u001B[0m\u001B[1;33m\u001B[0m\u001B[1;33m\u001B[0m\u001B[0m\n\u001B[0m\u001B[0;32m    431\u001B[0m \u001B[1;33m\u001B[0m\u001B[0m\n\u001B[0;32m    432\u001B[0m             \u001B[1;32mif\u001B[0m \u001B[0mself\u001B[0m\u001B[1;33m.\u001B[0m\u001B[0m_state\u001B[0m \u001B[1;32min\u001B[0m \u001B[1;33m[\u001B[0m\u001B[0mCANCELLED\u001B[0m\u001B[1;33m,\u001B[0m \u001B[0mCANCELLED_AND_NOTIFIED\u001B[0m\u001B[1;33m]\u001B[0m\u001B[1;33m:\u001B[0m\u001B[1;33m\u001B[0m\u001B[1;33m\u001B[0m\u001B[0m\n",
      "\u001B[1;32mC:\\Program Files (x86)\\Microsoft Visual Studio\\Shared\\Python37_64\\lib\\threading.py\u001B[0m in \u001B[0;36mwait\u001B[1;34m(self, timeout)\u001B[0m\n\u001B[0;32m    294\u001B[0m         \u001B[1;32mtry\u001B[0m\u001B[1;33m:\u001B[0m    \u001B[1;31m# restore state no matter what (e.g., KeyboardInterrupt)\u001B[0m\u001B[1;33m\u001B[0m\u001B[1;33m\u001B[0m\u001B[0m\n\u001B[0;32m    295\u001B[0m             \u001B[1;32mif\u001B[0m \u001B[0mtimeout\u001B[0m \u001B[1;32mis\u001B[0m \u001B[1;32mNone\u001B[0m\u001B[1;33m:\u001B[0m\u001B[1;33m\u001B[0m\u001B[1;33m\u001B[0m\u001B[0m\n\u001B[1;32m--> 296\u001B[1;33m                 \u001B[0mwaiter\u001B[0m\u001B[1;33m.\u001B[0m\u001B[0macquire\u001B[0m\u001B[1;33m(\u001B[0m\u001B[1;33m)\u001B[0m\u001B[1;33m\u001B[0m\u001B[1;33m\u001B[0m\u001B[0m\n\u001B[0m\u001B[0;32m    297\u001B[0m                 \u001B[0mgotit\u001B[0m \u001B[1;33m=\u001B[0m \u001B[1;32mTrue\u001B[0m\u001B[1;33m\u001B[0m\u001B[1;33m\u001B[0m\u001B[0m\n\u001B[0;32m    298\u001B[0m             \u001B[1;32melse\u001B[0m\u001B[1;33m:\u001B[0m\u001B[1;33m\u001B[0m\u001B[1;33m\u001B[0m\u001B[0m\n",
      "\u001B[1;31mKeyboardInterrupt\u001B[0m: "
     ]
    }
   ],
   "source": [
    "X = df.drop('Bankrupt?', axis=1).to_numpy()\n",
    "y = df.loc[:,'Bankrupt?'].to_numpy()\n",
    "\n",
    "model = ResampledEnsemble(n_estimators = 5, zeros_ratio = 20, scale_pos_weight = 1)\n",
    "cv = RepeatedKFold(n_splits = 5, n_repeats = 1, random_state = 1)\n",
    "n_scores = cross_validate(model, X, y, scoring = ['accuracy', 'precision', 'recall', 'f1'], cv = cv, n_jobs = 4)\n",
    "\n",
    "for k in n_scores:\n",
    "    print('{}: {:.3f} ({:.3f})'.format(k, n_scores[k].mean(), n_scores[k].std()))"
   ],
   "metadata": {
    "collapsed": false,
    "pycharm": {
     "name": "#%%\n"
    }
   }
  },
  {
   "cell_type": "code",
   "execution_count": 23,
   "outputs": [
    {
     "ename": "TerminatedWorkerError",
     "evalue": "A worker process managed by the executor was unexpectedly terminated. This could be caused by a segmentation fault while calling the function or by an excessive memory usage causing the Operating System to kill the worker.\n",
     "output_type": "error",
     "traceback": [
      "\u001B[1;31m---------------------------------------------------------------------------\u001B[0m",
      "\u001B[1;31mTerminatedWorkerError\u001B[0m                     Traceback (most recent call last)",
      "\u001B[1;32m~\\AppData\\Local\\Temp\\ipykernel_17204\\327313816.py\u001B[0m in \u001B[0;36m<module>\u001B[1;34m\u001B[0m\n\u001B[0;32m      4\u001B[0m \u001B[0mmodel\u001B[0m \u001B[1;33m=\u001B[0m \u001B[0mResampledEnsemble\u001B[0m\u001B[1;33m(\u001B[0m\u001B[0mn_estimators\u001B[0m \u001B[1;33m=\u001B[0m \u001B[1;36m5\u001B[0m\u001B[1;33m,\u001B[0m \u001B[0mzeros_ratio\u001B[0m \u001B[1;33m=\u001B[0m \u001B[1;36m20\u001B[0m\u001B[1;33m,\u001B[0m \u001B[0mscale_pos_weight\u001B[0m \u001B[1;33m=\u001B[0m \u001B[1;36m55\u001B[0m\u001B[1;33m)\u001B[0m\u001B[1;33m\u001B[0m\u001B[1;33m\u001B[0m\u001B[0m\n\u001B[0;32m      5\u001B[0m \u001B[0mcv\u001B[0m \u001B[1;33m=\u001B[0m \u001B[0mRepeatedKFold\u001B[0m\u001B[1;33m(\u001B[0m\u001B[0mn_splits\u001B[0m \u001B[1;33m=\u001B[0m \u001B[1;36m5\u001B[0m\u001B[1;33m,\u001B[0m \u001B[0mn_repeats\u001B[0m \u001B[1;33m=\u001B[0m \u001B[1;36m1\u001B[0m\u001B[1;33m,\u001B[0m \u001B[0mrandom_state\u001B[0m \u001B[1;33m=\u001B[0m \u001B[1;36m1\u001B[0m\u001B[1;33m)\u001B[0m\u001B[1;33m\u001B[0m\u001B[1;33m\u001B[0m\u001B[0m\n\u001B[1;32m----> 6\u001B[1;33m \u001B[0mn_scores\u001B[0m \u001B[1;33m=\u001B[0m \u001B[0mcross_validate\u001B[0m\u001B[1;33m(\u001B[0m\u001B[0mmodel\u001B[0m\u001B[1;33m,\u001B[0m \u001B[0mX\u001B[0m\u001B[1;33m,\u001B[0m \u001B[0my\u001B[0m\u001B[1;33m,\u001B[0m \u001B[0mscoring\u001B[0m \u001B[1;33m=\u001B[0m \u001B[1;33m[\u001B[0m\u001B[1;34m'accuracy'\u001B[0m\u001B[1;33m,\u001B[0m \u001B[1;34m'precision'\u001B[0m\u001B[1;33m,\u001B[0m \u001B[1;34m'recall'\u001B[0m\u001B[1;33m,\u001B[0m \u001B[1;34m'f1'\u001B[0m\u001B[1;33m]\u001B[0m\u001B[1;33m,\u001B[0m \u001B[0mcv\u001B[0m \u001B[1;33m=\u001B[0m \u001B[0mcv\u001B[0m\u001B[1;33m,\u001B[0m \u001B[0mn_jobs\u001B[0m \u001B[1;33m=\u001B[0m \u001B[1;36m4\u001B[0m\u001B[1;33m)\u001B[0m\u001B[1;33m\u001B[0m\u001B[1;33m\u001B[0m\u001B[0m\n\u001B[0m\u001B[0;32m      7\u001B[0m \u001B[1;33m\u001B[0m\u001B[0m\n\u001B[0;32m      8\u001B[0m \u001B[1;32mfor\u001B[0m \u001B[0mk\u001B[0m \u001B[1;32min\u001B[0m \u001B[0mn_scores\u001B[0m\u001B[1;33m:\u001B[0m\u001B[1;33m\u001B[0m\u001B[1;33m\u001B[0m\u001B[0m\n",
      "\u001B[1;32m~\\PycharmProjects\\Diploma\\files\\lib\\site-packages\\sklearn\\model_selection\\_validation.py\u001B[0m in \u001B[0;36mcross_validate\u001B[1;34m(estimator, X, y, groups, scoring, cv, n_jobs, verbose, fit_params, pre_dispatch, return_train_score, return_estimator, error_score)\u001B[0m\n\u001B[0;32m    281\u001B[0m             \u001B[0merror_score\u001B[0m\u001B[1;33m=\u001B[0m\u001B[0merror_score\u001B[0m\u001B[1;33m,\u001B[0m\u001B[1;33m\u001B[0m\u001B[1;33m\u001B[0m\u001B[0m\n\u001B[0;32m    282\u001B[0m         )\n\u001B[1;32m--> 283\u001B[1;33m         \u001B[1;32mfor\u001B[0m \u001B[0mtrain\u001B[0m\u001B[1;33m,\u001B[0m \u001B[0mtest\u001B[0m \u001B[1;32min\u001B[0m \u001B[0mcv\u001B[0m\u001B[1;33m.\u001B[0m\u001B[0msplit\u001B[0m\u001B[1;33m(\u001B[0m\u001B[0mX\u001B[0m\u001B[1;33m,\u001B[0m \u001B[0my\u001B[0m\u001B[1;33m,\u001B[0m \u001B[0mgroups\u001B[0m\u001B[1;33m)\u001B[0m\u001B[1;33m\u001B[0m\u001B[1;33m\u001B[0m\u001B[0m\n\u001B[0m\u001B[0;32m    284\u001B[0m     )\n\u001B[0;32m    285\u001B[0m \u001B[1;33m\u001B[0m\u001B[0m\n",
      "\u001B[1;32m~\\PycharmProjects\\Diploma\\files\\lib\\site-packages\\joblib\\parallel.py\u001B[0m in \u001B[0;36m__call__\u001B[1;34m(self, iterable)\u001B[0m\n\u001B[0;32m   1096\u001B[0m \u001B[1;33m\u001B[0m\u001B[0m\n\u001B[0;32m   1097\u001B[0m             \u001B[1;32mwith\u001B[0m \u001B[0mself\u001B[0m\u001B[1;33m.\u001B[0m\u001B[0m_backend\u001B[0m\u001B[1;33m.\u001B[0m\u001B[0mretrieval_context\u001B[0m\u001B[1;33m(\u001B[0m\u001B[1;33m)\u001B[0m\u001B[1;33m:\u001B[0m\u001B[1;33m\u001B[0m\u001B[1;33m\u001B[0m\u001B[0m\n\u001B[1;32m-> 1098\u001B[1;33m                 \u001B[0mself\u001B[0m\u001B[1;33m.\u001B[0m\u001B[0mretrieve\u001B[0m\u001B[1;33m(\u001B[0m\u001B[1;33m)\u001B[0m\u001B[1;33m\u001B[0m\u001B[1;33m\u001B[0m\u001B[0m\n\u001B[0m\u001B[0;32m   1099\u001B[0m             \u001B[1;31m# Make sure that we get a last message telling us we are done\u001B[0m\u001B[1;33m\u001B[0m\u001B[1;33m\u001B[0m\u001B[1;33m\u001B[0m\u001B[0m\n\u001B[0;32m   1100\u001B[0m             \u001B[0melapsed_time\u001B[0m \u001B[1;33m=\u001B[0m \u001B[0mtime\u001B[0m\u001B[1;33m.\u001B[0m\u001B[0mtime\u001B[0m\u001B[1;33m(\u001B[0m\u001B[1;33m)\u001B[0m \u001B[1;33m-\u001B[0m \u001B[0mself\u001B[0m\u001B[1;33m.\u001B[0m\u001B[0m_start_time\u001B[0m\u001B[1;33m\u001B[0m\u001B[1;33m\u001B[0m\u001B[0m\n",
      "\u001B[1;32m~\\PycharmProjects\\Diploma\\files\\lib\\site-packages\\joblib\\parallel.py\u001B[0m in \u001B[0;36mretrieve\u001B[1;34m(self)\u001B[0m\n\u001B[0;32m    973\u001B[0m             \u001B[1;32mtry\u001B[0m\u001B[1;33m:\u001B[0m\u001B[1;33m\u001B[0m\u001B[1;33m\u001B[0m\u001B[0m\n\u001B[0;32m    974\u001B[0m                 \u001B[1;32mif\u001B[0m \u001B[0mgetattr\u001B[0m\u001B[1;33m(\u001B[0m\u001B[0mself\u001B[0m\u001B[1;33m.\u001B[0m\u001B[0m_backend\u001B[0m\u001B[1;33m,\u001B[0m \u001B[1;34m'supports_timeout'\u001B[0m\u001B[1;33m,\u001B[0m \u001B[1;32mFalse\u001B[0m\u001B[1;33m)\u001B[0m\u001B[1;33m:\u001B[0m\u001B[1;33m\u001B[0m\u001B[1;33m\u001B[0m\u001B[0m\n\u001B[1;32m--> 975\u001B[1;33m                     \u001B[0mself\u001B[0m\u001B[1;33m.\u001B[0m\u001B[0m_output\u001B[0m\u001B[1;33m.\u001B[0m\u001B[0mextend\u001B[0m\u001B[1;33m(\u001B[0m\u001B[0mjob\u001B[0m\u001B[1;33m.\u001B[0m\u001B[0mget\u001B[0m\u001B[1;33m(\u001B[0m\u001B[0mtimeout\u001B[0m\u001B[1;33m=\u001B[0m\u001B[0mself\u001B[0m\u001B[1;33m.\u001B[0m\u001B[0mtimeout\u001B[0m\u001B[1;33m)\u001B[0m\u001B[1;33m)\u001B[0m\u001B[1;33m\u001B[0m\u001B[1;33m\u001B[0m\u001B[0m\n\u001B[0m\u001B[0;32m    976\u001B[0m                 \u001B[1;32melse\u001B[0m\u001B[1;33m:\u001B[0m\u001B[1;33m\u001B[0m\u001B[1;33m\u001B[0m\u001B[0m\n\u001B[0;32m    977\u001B[0m                     \u001B[0mself\u001B[0m\u001B[1;33m.\u001B[0m\u001B[0m_output\u001B[0m\u001B[1;33m.\u001B[0m\u001B[0mextend\u001B[0m\u001B[1;33m(\u001B[0m\u001B[0mjob\u001B[0m\u001B[1;33m.\u001B[0m\u001B[0mget\u001B[0m\u001B[1;33m(\u001B[0m\u001B[1;33m)\u001B[0m\u001B[1;33m)\u001B[0m\u001B[1;33m\u001B[0m\u001B[1;33m\u001B[0m\u001B[0m\n",
      "\u001B[1;32m~\\PycharmProjects\\Diploma\\files\\lib\\site-packages\\joblib\\_parallel_backends.py\u001B[0m in \u001B[0;36mwrap_future_result\u001B[1;34m(future, timeout)\u001B[0m\n\u001B[0;32m    565\u001B[0m         AsyncResults.get from multiprocessing.\"\"\"\n\u001B[0;32m    566\u001B[0m         \u001B[1;32mtry\u001B[0m\u001B[1;33m:\u001B[0m\u001B[1;33m\u001B[0m\u001B[1;33m\u001B[0m\u001B[0m\n\u001B[1;32m--> 567\u001B[1;33m             \u001B[1;32mreturn\u001B[0m \u001B[0mfuture\u001B[0m\u001B[1;33m.\u001B[0m\u001B[0mresult\u001B[0m\u001B[1;33m(\u001B[0m\u001B[0mtimeout\u001B[0m\u001B[1;33m=\u001B[0m\u001B[0mtimeout\u001B[0m\u001B[1;33m)\u001B[0m\u001B[1;33m\u001B[0m\u001B[1;33m\u001B[0m\u001B[0m\n\u001B[0m\u001B[0;32m    568\u001B[0m         \u001B[1;32mexcept\u001B[0m \u001B[0mCfTimeoutError\u001B[0m \u001B[1;32mas\u001B[0m \u001B[0me\u001B[0m\u001B[1;33m:\u001B[0m\u001B[1;33m\u001B[0m\u001B[1;33m\u001B[0m\u001B[0m\n\u001B[0;32m    569\u001B[0m             \u001B[1;32mraise\u001B[0m \u001B[0mTimeoutError\u001B[0m \u001B[1;32mfrom\u001B[0m \u001B[0me\u001B[0m\u001B[1;33m\u001B[0m\u001B[1;33m\u001B[0m\u001B[0m\n",
      "\u001B[1;32mC:\\Program Files (x86)\\Microsoft Visual Studio\\Shared\\Python37_64\\lib\\concurrent\\futures\\_base.py\u001B[0m in \u001B[0;36mresult\u001B[1;34m(self, timeout)\u001B[0m\n\u001B[0;32m    433\u001B[0m                 \u001B[1;32mraise\u001B[0m \u001B[0mCancelledError\u001B[0m\u001B[1;33m(\u001B[0m\u001B[1;33m)\u001B[0m\u001B[1;33m\u001B[0m\u001B[1;33m\u001B[0m\u001B[0m\n\u001B[0;32m    434\u001B[0m             \u001B[1;32melif\u001B[0m \u001B[0mself\u001B[0m\u001B[1;33m.\u001B[0m\u001B[0m_state\u001B[0m \u001B[1;33m==\u001B[0m \u001B[0mFINISHED\u001B[0m\u001B[1;33m:\u001B[0m\u001B[1;33m\u001B[0m\u001B[1;33m\u001B[0m\u001B[0m\n\u001B[1;32m--> 435\u001B[1;33m                 \u001B[1;32mreturn\u001B[0m \u001B[0mself\u001B[0m\u001B[1;33m.\u001B[0m\u001B[0m__get_result\u001B[0m\u001B[1;33m(\u001B[0m\u001B[1;33m)\u001B[0m\u001B[1;33m\u001B[0m\u001B[1;33m\u001B[0m\u001B[0m\n\u001B[0m\u001B[0;32m    436\u001B[0m             \u001B[1;32melse\u001B[0m\u001B[1;33m:\u001B[0m\u001B[1;33m\u001B[0m\u001B[1;33m\u001B[0m\u001B[0m\n\u001B[0;32m    437\u001B[0m                 \u001B[1;32mraise\u001B[0m \u001B[0mTimeoutError\u001B[0m\u001B[1;33m(\u001B[0m\u001B[1;33m)\u001B[0m\u001B[1;33m\u001B[0m\u001B[1;33m\u001B[0m\u001B[0m\n",
      "\u001B[1;32mC:\\Program Files (x86)\\Microsoft Visual Studio\\Shared\\Python37_64\\lib\\concurrent\\futures\\_base.py\u001B[0m in \u001B[0;36m__get_result\u001B[1;34m(self)\u001B[0m\n\u001B[0;32m    382\u001B[0m     \u001B[1;32mdef\u001B[0m \u001B[0m__get_result\u001B[0m\u001B[1;33m(\u001B[0m\u001B[0mself\u001B[0m\u001B[1;33m)\u001B[0m\u001B[1;33m:\u001B[0m\u001B[1;33m\u001B[0m\u001B[1;33m\u001B[0m\u001B[0m\n\u001B[0;32m    383\u001B[0m         \u001B[1;32mif\u001B[0m \u001B[0mself\u001B[0m\u001B[1;33m.\u001B[0m\u001B[0m_exception\u001B[0m\u001B[1;33m:\u001B[0m\u001B[1;33m\u001B[0m\u001B[1;33m\u001B[0m\u001B[0m\n\u001B[1;32m--> 384\u001B[1;33m             \u001B[1;32mraise\u001B[0m \u001B[0mself\u001B[0m\u001B[1;33m.\u001B[0m\u001B[0m_exception\u001B[0m\u001B[1;33m\u001B[0m\u001B[1;33m\u001B[0m\u001B[0m\n\u001B[0m\u001B[0;32m    385\u001B[0m         \u001B[1;32melse\u001B[0m\u001B[1;33m:\u001B[0m\u001B[1;33m\u001B[0m\u001B[1;33m\u001B[0m\u001B[0m\n\u001B[0;32m    386\u001B[0m             \u001B[1;32mreturn\u001B[0m \u001B[0mself\u001B[0m\u001B[1;33m.\u001B[0m\u001B[0m_result\u001B[0m\u001B[1;33m\u001B[0m\u001B[1;33m\u001B[0m\u001B[0m\n",
      "\u001B[1;31mTerminatedWorkerError\u001B[0m: A worker process managed by the executor was unexpectedly terminated. This could be caused by a segmentation fault while calling the function or by an excessive memory usage causing the Operating System to kill the worker.\n"
     ]
    }
   ],
   "source": [
    "X = df.drop('Bankrupt?', axis=1).to_numpy()\n",
    "y = df.loc[:,'Bankrupt?'].to_numpy()\n",
    "\n",
    "model = ResampledEnsemble(n_estimators = 5, zeros_ratio = 20, scale_pos_weight = 55)\n",
    "cv = RepeatedKFold(n_splits = 5, n_repeats = 1, random_state = 1)\n",
    "n_scores = cross_validate(model, X, y, scoring = ['accuracy', 'precision', 'recall', 'f1'], cv = cv, n_jobs = 4)\n",
    "\n",
    "for k in n_scores:\n",
    "    print('{}: {:.3f} ({:.3f})'.format(k, n_scores[k].mean(), n_scores[k].std()))"
   ],
   "metadata": {
    "collapsed": false,
    "pycharm": {
     "name": "#%%\n"
    }
   }
  },
  {
   "cell_type": "markdown",
   "source": [
    "test_recall стал больше 0.5"
   ],
   "metadata": {
    "collapsed": false,
    "pycharm": {
     "name": "#%% md\n"
    }
   }
  },
  {
   "cell_type": "code",
   "execution_count": 11,
   "outputs": [
    {
     "name": "stdout",
     "output_type": "stream",
     "text": [
      "fit_time: 48.848 (3.900)\n",
      "score_time: 0.051 (0.007)\n",
      "test_accuracy: 0.966 (0.006)\n",
      "test_precision: 0.482 (0.084)\n",
      "test_recall: 0.540 (0.117)\n"
     ]
    }
   ],
   "source": [
    "X = df.drop('Bankrupt?', axis=1).to_numpy()\n",
    "y = df.loc[:,'Bankrupt?'].to_numpy()\n",
    "\n",
    "model = ResampledEnsemble(n_estimators = 5, zeros_ratio = 20, scale_pos_weight = 55)\n",
    "cv = RepeatedKFold(n_splits = 10, n_repeats = 3, random_state = 1)\n",
    "n_scores = cross_validate(model, X, y, scoring = ['accuracy', 'precision', 'recall'], cv = cv, n_jobs = -1)\n",
    "\n",
    "for k in n_scores:\n",
    "    print('{}: {:.3f} ({:.3f})'.format(k, n_scores[k].mean(), n_scores[k].std()))"
   ],
   "metadata": {
    "collapsed": false,
    "pycharm": {
     "name": "#%%\n"
    }
   }
  },
  {
   "cell_type": "code",
   "execution_count": 12,
   "outputs": [
    {
     "name": "stdout",
     "output_type": "stream",
     "text": [
      "fit_time: 53.919 (4.107)\n",
      "score_time: 0.027 (0.004)\n",
      "test_accuracy: 0.966 (0.013)\n",
      "test_precision: 0.489 (0.215)\n",
      "test_recall: 0.552 (0.190)\n"
     ]
    }
   ],
   "source": [
    "X = df.drop('Bankrupt?', axis=1).to_numpy()\n",
    "y = df.loc[:,'Bankrupt?'].to_numpy()\n",
    "\n",
    "model = ResampledEnsemble(n_estimators = 5, zeros_ratio = 20, scale_pos_weight = 55)\n",
    "cv = RepeatedKFold(n_splits = 30, n_repeats = 1, random_state = 1)\n",
    "n_scores = cross_validate(model, X, y, scoring = ['accuracy', 'precision', 'recall'], cv = cv, n_jobs = -1)\n",
    "\n",
    "for k in n_scores:\n",
    "    print('{}: {:.3f} ({:.3f})'.format(k, n_scores[k].mean(), n_scores[k].std()))"
   ],
   "metadata": {
    "collapsed": false,
    "pycharm": {
     "name": "#%%\n"
    }
   }
  },
  {
   "cell_type": "code",
   "execution_count": 17,
   "outputs": [
    {
     "name": "stdout",
     "output_type": "stream",
     "text": [
      "fit_time: 16.906 (1.329)\n",
      "score_time: 0.007 (0.001)\n",
      "test_accuracy: 0.961 (0.014)\n",
      "test_precision: 0.417 (0.185)\n",
      "test_recall: 0.488 (0.191)\n"
     ]
    }
   ],
   "source": [
    "#увеличим scale_pos_weight\n",
    "model = XGBClassifier(scale_pos_weight = 1000)\n",
    "cv = RepeatedKFold(n_splits = 30, n_repeats = 1, random_state = 1)\n",
    "n_scores = cross_validate(model, X, y, scoring = ['accuracy', 'precision', 'recall'], cv = cv, n_jobs = -1)\n",
    "\n",
    "for k in n_scores:\n",
    "    print('{}: {:.3f} ({:.3f})'.format(k, n_scores[k].mean(), n_scores[k].std()))"
   ],
   "metadata": {
    "collapsed": false,
    "pycharm": {
     "name": "#%%\n"
    }
   }
  },
  {
   "cell_type": "markdown",
   "source": [
    "Заметили, что при использовании ансамблей (то есть при модификации модели) recall стал выше"
   ],
   "metadata": {
    "collapsed": false,
    "pycharm": {
     "name": "#%% md\n"
    }
   }
  },
  {
   "cell_type": "markdown",
   "source": [
    "Ниже пробуем работать со степенью. Возведем в степень выходное значение XGBoost-модели"
   ],
   "metadata": {
    "collapsed": false,
    "pycharm": {
     "name": "#%% md\n"
    }
   }
  },
  {
   "cell_type": "code",
   "execution_count": null,
   "outputs": [],
   "source": [
    "X = df.drop('Bankrupt?', axis=1).to_numpy()\n",
    "y = df.loc[:,'Bankrupt?'].to_numpy()\n",
    "\n",
    "model = ResampledEnsemble(n_estimators = 5, zeros_ratio = 20, scale_pos_weight = 55, power = 0.01)\n",
    "cv = RepeatedKFold(n_splits = 5, n_repeats = 1, random_state = 1)\n",
    "n_scores = cross_validate(model, X, y, scoring = ['accuracy', 'precision', 'recall', 'f1'], cv = cv, n_jobs = 4)\n",
    "\n",
    "for k in n_scores:\n",
    "    print('{}: {:.3f} ({:.3f})'.format(k, n_scores[k].mean(), n_scores[k].std()))"
   ],
   "metadata": {
    "collapsed": false,
    "pycharm": {
     "name": "#%%\n"
    }
   }
  },
  {
   "cell_type": "code",
   "execution_count": null,
   "outputs": [],
   "source": [
    "X = df.drop('Bankrupt?', axis=1).to_numpy()\n",
    "y = df.loc[:,'Bankrupt?'].to_numpy()\n",
    "\n",
    "model = ResampledEnsemble(n_estimators = 5, zeros_ratio = 20, scale_pos_weight = 55, power = 0.001)\n",
    "cv = RepeatedKFold(n_splits = 5, n_repeats = 1, random_state = 1)\n",
    "n_scores = cross_validate(model, X, y, scoring = ['accuracy', 'precision', 'recall', 'f1'], cv = cv, n_jobs = -1)\n",
    "\n",
    "for k in n_scores:\n",
    "    print('{}: {:.3f} ({:.3f})'.format(k, n_scores[k].mean(), n_scores[k].std()))"
   ],
   "metadata": {
    "collapsed": false,
    "pycharm": {
     "name": "#%%\n"
    }
   }
  },
  {
   "cell_type": "code",
   "execution_count": 32,
   "outputs": [
    {
     "name": "stdout",
     "output_type": "stream",
     "text": [
      "fit_time: 54.059 (4.448)\n",
      "score_time: 0.029 (0.005)\n",
      "test_accuracy: 0.966 (0.013)\n",
      "test_precision: 0.487 (0.217)\n",
      "test_recall: 0.552 (0.206)\n",
      "test_f1: 0.485 (0.170)\n"
     ]
    }
   ],
   "source": [
    "X = df.drop('Bankrupt?', axis=1).to_numpy()\n",
    "y = df.loc[:,'Bankrupt?'].to_numpy()\n",
    "\n",
    "model = ResampledEnsemble(n_estimators = 5, zeros_ratio = 20, scale_pos_weight = 55, power = 0.001)\n",
    "cv = RepeatedKFold(n_splits = 30, n_repeats = 1, random_state = 1)\n",
    "n_scores = cross_validate(model, X, y, scoring = ['accuracy', 'precision', 'recall', 'f1'], cv = cv, n_jobs = -1)\n",
    "\n",
    "for k in n_scores:\n",
    "    print('{}: {:.3f} ({:.3f})'.format(k, n_scores[k].mean(), n_scores[k].std()))"
   ],
   "metadata": {
    "collapsed": false,
    "pycharm": {
     "name": "#%%\n"
    }
   }
  },
  {
   "cell_type": "code",
   "execution_count": null,
   "outputs": [],
   "source": [
    "X = df.drop('Bankrupt?', axis=1).to_numpy()\n",
    "y = df.loc[:,'Bankrupt?'].to_numpy()\n",
    "\n",
    "model = ResampledEnsemble(n_estimators = 5, zeros_ratio = 20, scale_pos_weight = 55, power = 0.001)\n",
    "cv = RepeatedKFold(n_splits = 5, n_repeats = 1, random_state = 1)\n",
    "n_scores = cross_validate(model, X, y, scoring = ['accuracy', 'precision', 'recall', 'f1'], cv = cv, n_jobs = -1)\n",
    "\n",
    "for k in n_scores:\n",
    "    print('{}: {:.3f} ({:.3f})'.format(k, n_scores[k].mean(), n_scores[k].std()))"
   ],
   "metadata": {
    "collapsed": false,
    "pycharm": {
     "name": "#%%\n"
    }
   }
  },
  {
   "cell_type": "markdown",
   "source": [
    "f1 - в каком-то смысле смесь test_precision и test_recall"
   ],
   "metadata": {
    "collapsed": false,
    "pycharm": {
     "name": "#%% md\n"
    }
   }
  },
  {
   "cell_type": "code",
   "execution_count": 8,
   "outputs": [
    {
     "name": "stdout",
     "output_type": "stream",
     "text": [
      "fit_time: 33.415 (1.216)\n",
      "score_time: 0.065 (0.004)\n",
      "test_accuracy: 0.966 (0.004)\n",
      "test_precision: 0.477 (0.055)\n",
      "test_recall: 0.536 (0.050)\n",
      "test_f1: 0.501 (0.033)\n"
     ]
    }
   ],
   "source": [
    "X = df.drop('Bankrupt?', axis=1).to_numpy()\n",
    "y = df.loc[:,'Bankrupt?'].to_numpy()\n",
    "\n",
    "model = ResampledEnsemble(n_estimators = 5, zeros_ratio = 20, scale_pos_weight = 55, power = 0.001, ensemble_quantile = 0.25 )\n",
    "cv = RepeatedKFold(n_splits = 5, n_repeats = 1, random_state = 1)\n",
    "n_scores = cross_validate(model, X, y, scoring = ['accuracy', 'precision', 'recall', 'f1'], cv = cv, n_jobs = -1)\n",
    "\n",
    "for k in n_scores:\n",
    "    print('{}: {:.3f} ({:.3f})'.format(k, n_scores[k].mean(), n_scores[k].std()))"
   ],
   "metadata": {
    "collapsed": false,
    "pycharm": {
     "name": "#%%\n"
    }
   }
  },
  {
   "cell_type": "code",
   "execution_count": 9,
   "outputs": [
    {
     "name": "stdout",
     "output_type": "stream",
     "text": [
      "fit_time: 33.138 (1.046)\n",
      "score_time: 0.065 (0.006)\n",
      "test_accuracy: 0.966 (0.003)\n",
      "test_precision: 0.474 (0.028)\n",
      "test_recall: 0.532 (0.067)\n",
      "test_f1: 0.499 (0.032)\n"
     ]
    }
   ],
   "source": [
    "X = df.drop('Bankrupt?', axis=1).to_numpy()\n",
    "y = df.loc[:,'Bankrupt?'].to_numpy()\n",
    "\n",
    "model = ResampledEnsemble(n_estimators = 5, zeros_ratio = 20, scale_pos_weight = 55, power = 0.001, ensemble_quantile = 0.5 )\n",
    "cv = RepeatedKFold(n_splits = 5, n_repeats = 1, random_state = 1)\n",
    "n_scores = cross_validate(model, X, y, scoring = ['accuracy', 'precision', 'recall', 'f1'], cv = cv, n_jobs = -1)\n",
    "\n",
    "for k in n_scores:\n",
    "    print('{}: {:.3f} ({:.3f})'.format(k, n_scores[k].mean(), n_scores[k].std()))"
   ],
   "metadata": {
    "collapsed": false,
    "pycharm": {
     "name": "#%%\n"
    }
   }
  },
  {
   "cell_type": "markdown",
   "source": [
    "Попробуем увеличить количество XGBoost-моделей в ансамбле"
   ],
   "metadata": {
    "collapsed": false,
    "pycharm": {
     "name": "#%% md\n"
    }
   }
  },
  {
   "cell_type": "code",
   "execution_count": 13,
   "outputs": [
    {
     "name": "stdout",
     "output_type": "stream",
     "text": [
      "fit_time: 126.816 (4.642)\n",
      "score_time: 0.314 (0.140)\n",
      "test_accuracy: 0.967 (0.004)\n",
      "test_precision: 0.487 (0.050)\n",
      "test_recall: 0.528 (0.065)\n",
      "test_f1: 0.503 (0.037)\n"
     ]
    }
   ],
   "source": [
    "X = df.drop('Bankrupt?', axis=1).to_numpy()\n",
    "y = df.loc[:,'Bankrupt?'].to_numpy()\n",
    "\n",
    "model = ResampledEnsemble(n_estimators = 20, zeros_ratio = 20, scale_pos_weight = 55, power = 0.001, ensemble_quantile = 0.99)\n",
    "cv = RepeatedKFold(n_splits = 5, n_repeats = 1, random_state = 1)\n",
    "n_scores = cross_validate(model, X, y, scoring = ['accuracy', 'precision', 'recall', 'f1'], cv = cv, n_jobs = -1)\n",
    "\n",
    "for k in n_scores:\n",
    "    print('{}: {:.3f} ({:.3f})'.format(k, n_scores[k].mean(), n_scores[k].std()))"
   ],
   "metadata": {
    "collapsed": false,
    "pycharm": {
     "name": "#%%\n"
    }
   }
  },
  {
   "cell_type": "markdown",
   "source": [
    "Увеличим количество выборок для кроссвалидации"
   ],
   "metadata": {
    "collapsed": false,
    "pycharm": {
     "name": "#%% md\n"
    }
   }
  },
  {
   "cell_type": "code",
   "execution_count": 14,
   "outputs": [
    {
     "name": "stdout",
     "output_type": "stream",
     "text": [
      "fit_time: 218.197 (11.101)\n",
      "score_time: 0.105 (0.017)\n",
      "test_accuracy: 0.967 (0.011)\n",
      "test_precision: 0.488 (0.199)\n",
      "test_recall: 0.544 (0.182)\n",
      "test_f1: 0.483 (0.156)\n"
     ]
    }
   ],
   "source": [
    "X = df.drop('Bankrupt?', axis=1).to_numpy()\n",
    "y = df.loc[:,'Bankrupt?'].to_numpy()\n",
    "\n",
    "model = ResampledEnsemble(n_estimators = 20, zeros_ratio = 20, scale_pos_weight = 55, power = 0.001, ensemble_quantile = 0.99)\n",
    "cv = RepeatedKFold(n_splits = 30, n_repeats = 1, random_state = 1)\n",
    "n_scores = cross_validate(model, X, y, scoring = ['accuracy', 'precision', 'recall', 'f1'], cv = cv, n_jobs = -1)\n",
    "\n",
    "for k in n_scores:\n",
    "    print('{}: {:.3f} ({:.3f})'.format(k, n_scores[k].mean(), n_scores[k].std()))"
   ],
   "metadata": {
    "collapsed": false,
    "pycharm": {
     "name": "#%%\n"
    }
   }
  },
  {
   "cell_type": "markdown",
   "source": [
    "Уберем показатель степени, изменим квантиль"
   ],
   "metadata": {
    "collapsed": false,
    "pycharm": {
     "name": "#%% md\n"
    }
   }
  },
  {
   "cell_type": "code",
   "execution_count": 17,
   "outputs": [
    {
     "name": "stdout",
     "output_type": "stream",
     "text": [
      "fit_time: 83.300 (17.895)\n",
      "score_time: 0.174 (0.031)\n",
      "test_accuracy: 0.967 (0.005)\n",
      "test_precision: 0.493 (0.058)\n",
      "test_recall: 0.537 (0.071)\n",
      "test_f1: 0.511 (0.044)\n"
     ]
    }
   ],
   "source": [
    "X = df.drop('Bankrupt?', axis=1).to_numpy()\n",
    "y = df.loc[:,'Bankrupt?'].to_numpy()\n",
    "\n",
    "model = ResampledEnsemble(n_estimators = 20, zeros_ratio = 20, scale_pos_weight = 55, ensemble_quantile = 0.5)\n",
    "cv = RepeatedKFold(n_splits = 5, n_repeats = 1, random_state = 1)\n",
    "n_scores = cross_validate(model, X, y, scoring = ['accuracy', 'precision', 'recall', 'f1'], cv = cv, n_jobs = 4)\n",
    "\n",
    "for k in n_scores:\n",
    "    print('{}: {:.3f} ({:.3f})'.format(k, n_scores[k].mean(), n_scores[k].std()))"
   ],
   "metadata": {
    "collapsed": false,
    "pycharm": {
     "name": "#%%\n"
    }
   }
  },
  {
   "cell_type": "code",
   "execution_count": 12,
   "outputs": [
    {
     "name": "stdout",
     "output_type": "stream",
     "text": [
      "fit_time: 30.840 (1.057)\n",
      "score_time: 0.064 (0.004)\n",
      "test_accuracy: 0.966 (0.003)\n",
      "test_precision: 0.474 (0.030)\n",
      "test_recall: 0.540 (0.051)\n",
      "test_f1: 0.503 (0.023)\n"
     ]
    }
   ],
   "source": [
    "X = df.drop('Bankrupt?', axis=1).to_numpy()\n",
    "y = df.loc[:,'Bankrupt?'].to_numpy()\n",
    "\n",
    "model = ResampledEnsemble(n_estimators = 5, zeros_ratio = 20, scale_pos_weight = 55, power = 0.001, ensemble_quantile = 0.01)\n",
    "cv = RepeatedKFold(n_splits = 5, n_repeats = 1, random_state = 1)\n",
    "n_scores = cross_validate(model, X, y, scoring = ['accuracy', 'precision', 'recall', 'f1'], cv = cv, n_jobs = -1)\n",
    "\n",
    "for k in n_scores:\n",
    "    print('{}: {:.3f} ({:.3f})'.format(k, n_scores[k].mean(), n_scores[k].std()))"
   ],
   "metadata": {
    "collapsed": false,
    "pycharm": {
     "name": "#%%\n"
    }
   }
  },
  {
   "cell_type": "markdown",
   "source": [
    "Лассо, Support Vector Machine в новом ноутбуке"
   ],
   "metadata": {
    "collapsed": false,
    "pycharm": {
     "name": "#%% md\n"
    }
   }
  },
  {
   "cell_type": "code",
   "execution_count": 7,
   "outputs": [],
   "source": [
    "#Создали класс, реализующий ансамль XGB-моделей, обученных на случайных сбалансированных подвыборках с ансамблирующей функцией в виде модели машинного обучения\n",
    "class SmartResampledEnsemble(sklearn.base.BaseEstimator):\n",
    "\n",
    "    def __init__(self, n_estimators = 100, zeros_ratio = 1, scale_pos_weight = 1):\n",
    "        self.n_estimators = n_estimators\n",
    "        self.classes_ = np.array([0,1])\n",
    "        self.zeros_ratio = zeros_ratio\n",
    "        self.scale_pos_weight = scale_pos_weight\n",
    "\n",
    "    def fit(self, X, y):\n",
    "        self.estimators = []\n",
    "        for i in range(self.n_estimators):\n",
    "            ones = y == 1\n",
    "            num_ones = ones.sum()\n",
    "            zeros_indexes = np.where(np.logical_not(ones))[0]\n",
    "            zeros_subsample = np.random.choice(zeros_indexes, size=int(num_ones*self.zeros_ratio), replace=False, p=None)\n",
    "            final_indexes = np.concatenate([np.where(ones)[0], zeros_subsample])\n",
    "            model = XGBClassifier(scale_pos_weight = self.scale_pos_weight)\n",
    "            model.fit(X[final_indexes,:], y[final_indexes])\n",
    "            self.estimators.append(model)\n",
    "            #print(\"Fitting of model number {} is finished\".format(i))\n",
    "            if model.classes_[0] > model.classes_[1]:\n",
    "                raise Exception(\"Wrong order of classes\")\n",
    "        results = np.zeros([X.shape[0], self.n_estimators])\n",
    "        for i in range(self.n_estimators):\n",
    "            results[:,i] = self.estimators[i].predict_proba(X)[:,1]\n",
    "        self.ensemblingmodel = sklearn.tree.DecisionTreeClassifier()\n",
    "        self.ensemblingmodel.fit(results, y)\n",
    "\n",
    "    def predict_proba(self, X):\n",
    "        results = np.zeros([X.shape[0], self.n_estimators])\n",
    "        for i in range(self.n_estimators):\n",
    "            results[:,i] = self.estimators[i].predict_proba(X)[:,1]\n",
    "        ensemble_results = self.ensemblingmodel.predict_proba(results)\n",
    "        return ensemble_results\n",
    "\n",
    "    def predict(self, X):\n",
    "        res_classes = np.zeros(X.shape[0])\n",
    "        results = self.predict_proba(X)\n",
    "        for i in range(X.shape[0]):\n",
    "            res_classes[i] = self.classes_[np.argmax(results[i,:])]\n",
    "        return res_classes"
   ],
   "metadata": {
    "collapsed": false,
    "pycharm": {
     "name": "#%%\n"
    }
   }
  },
  {
   "cell_type": "code",
   "execution_count": 8,
   "outputs": [
    {
     "name": "stdout",
     "output_type": "stream",
     "text": [
      "Predicted classes: [1. 1. 1. 1. 1.]\n",
      "Predicted scores of classes:\n",
      " [[0. 1.]\n",
      " [0. 1.]\n",
      " [0. 1.]\n",
      " [0. 1.]\n",
      " [0. 1.]]\n"
     ]
    }
   ],
   "source": [
    "#sklearn.linear_model.LogisticRegression()\n",
    "X = df.drop('Bankrupt?', axis=1).to_numpy()\n",
    "y = df.loc[:,'Bankrupt?'].to_numpy()\n",
    "\n",
    "model = SmartResampledEnsemble(n_estimators = 3)\n",
    "model.fit(X,y)\n",
    "print(\"Predicted classes:\", model.predict(X[range(5),:]))\n",
    "print(\"Predicted scores of classes:\\n\", model.predict_proba(X[range(5),:]))"
   ],
   "metadata": {
    "collapsed": false,
    "pycharm": {
     "name": "#%%\n"
    }
   }
  },
  {
   "cell_type": "code",
   "execution_count": 9,
   "outputs": [
    {
     "name": "stdout",
     "output_type": "stream",
     "text": [
      "fit_time: 61.439 (10.040)\n",
      "score_time: 0.632 (0.105)\n",
      "test_accuracy: 0.967 (0.007)\n",
      "test_precision: 0.500 (0.138)\n",
      "test_recall: 0.257 (0.086)\n",
      "test_f1: 0.328 (0.076)\n"
     ]
    }
   ],
   "source": [
    "#sklearn.linear_model.LogisticRegression()\n",
    "X = df.drop('Bankrupt?', axis=1).to_numpy()\n",
    "y = df.loc[:,'Bankrupt?'].to_numpy()\n",
    "\n",
    "model = SmartResampledEnsemble(zeros_ratio = 1.5, scale_pos_weight = 1)\n",
    "cv = RepeatedKFold(n_splits = 10, n_repeats = 1, random_state = 1)\n",
    "n_scores = cross_validate(model, X, y, scoring = ['accuracy', 'precision', 'recall', 'f1'], cv = cv, n_jobs = 4)\n",
    "\n",
    "for k in n_scores:\n",
    "    print('{}: {:.3f} ({:.3f})'.format(k, n_scores[k].mean(), n_scores[k].std()))"
   ],
   "metadata": {
    "collapsed": false,
    "pycharm": {
     "name": "#%%\n"
    }
   }
  },
  {
   "cell_type": "markdown",
   "source": [
    "При zeros_ratio = 1.5, scale_pos_weight = 1:\n",
    "test_accuracy: 0.967 (0.008)\n",
    "test_precision: 0.500 (0.091)\n",
    "test_recall: 0.530 (0.143)\n",
    "test_f1: 0.502 (0.094)"
   ],
   "metadata": {
    "collapsed": false,
    "pycharm": {
     "name": "#%% md\n"
    }
   }
  },
  {
   "cell_type": "code",
   "execution_count": 5,
   "outputs": [
    {
     "name": "stdout",
     "output_type": "stream",
     "text": [
      "Predicted classes: [1. 1. 1. 1. 1.]\n",
      "Predicted scores of classes:\n",
      " [[0. 1.]\n",
      " [0. 1.]\n",
      " [0. 1.]\n",
      " [0. 1.]\n",
      " [0. 1.]]\n"
     ]
    }
   ],
   "source": [
    "#sklearn.tree.DecisionTreeClassifier()\n",
    "X = df.drop('Bankrupt?', axis=1).to_numpy()\n",
    "y = df.loc[:,'Bankrupt?'].to_numpy()\n",
    "\n",
    "model = SmartResampledEnsemble(n_estimators = 3)\n",
    "model.fit(X,y)\n",
    "print(\"Predicted classes:\", model.predict(X[range(5),:]))\n",
    "print(\"Predicted scores of classes:\\n\", model.predict_proba(X[range(5),:]))"
   ],
   "metadata": {
    "collapsed": false,
    "pycharm": {
     "name": "#%%\n"
    }
   }
  },
  {
   "cell_type": "code",
   "execution_count": 17,
   "outputs": [
    {
     "name": "stdout",
     "output_type": "stream",
     "text": [
      "fit_time: 22.644 (4.276)\n",
      "score_time: 0.563 (0.082)\n",
      "test_accuracy: 0.961 (0.003)\n",
      "test_precision: 0.387 (0.043)\n",
      "test_recall: 0.369 (0.083)\n",
      "test_f1: 0.374 (0.056)\n"
     ]
    }
   ],
   "source": [
    "#sklearn.tree.DecisionTreeClassifier()\n",
    "X = df.drop('Bankrupt?', axis=1).to_numpy()\n",
    "y = df.loc[:,'Bankrupt?'].to_numpy()\n",
    "\n",
    "model = SmartResampledEnsemble()\n",
    "cv = RepeatedKFold(n_splits = 5, n_repeats = 1, random_state = 1)\n",
    "n_scores = cross_validate(model, X, y, scoring = ['accuracy', 'precision', 'recall', 'f1'], cv = cv, n_jobs = 4)\n",
    "\n",
    "for k in n_scores:\n",
    "    print('{}: {:.3f} ({:.3f})'.format(k, n_scores[k].mean(), n_scores[k].std()))"
   ],
   "metadata": {
    "collapsed": false,
    "pycharm": {
     "name": "#%%\n"
    }
   }
  },
  {
   "cell_type": "markdown",
   "source": [
    "При zeros_ratio = 0.1:\n",
    "test_accuracy: 0.954 (0.002)\n",
    "test_precision: 0.304 (0.042)\n",
    "test_recall: 0.322 (0.075)\n",
    "test_f1: 0.309 (0.043)\n",
    "\n",
    "При данных по умолчанию:\n",
    "test_accuracy: 0.967 (0.002)\n",
    "test_precision: 0.492 (0.034)\n",
    "test_recall: 0.350 (0.061)\n",
    "test_f1: 0.405 (0.046)"
   ],
   "metadata": {
    "collapsed": false,
    "pycharm": {
     "name": "#%% md\n"
    }
   }
  },
  {
   "cell_type": "code",
   "execution_count": 7,
   "outputs": [
    {
     "name": "stdout",
     "output_type": "stream",
     "text": [
      " 70%|███████   | 21/30 [35:17<29:52, 199.12s/trial, best loss: -0.37845393931688864]"
     ]
    },
    {
     "name": "stderr",
     "output_type": "stream",
     "text": [
      "C:\\Users\\guzra\\PycharmProjects\\Diploma\\files\\lib\\site-packages\\sklearn\\model_selection\\_validation.py:372: FitFailedWarning: \n",
      "5 fits failed out of a total of 5.\n",
      "The score on these train-test partitions for these parameters will be set to nan.\n",
      "If these failures are not expected, you can try to debug them by setting error_score='raise'.\n",
      "\n",
      "Below are more details about the failures:\n",
      "--------------------------------------------------------------------------------\n",
      "5 fits failed with the following error:\n",
      "Traceback (most recent call last):\n",
      "  File \"C:\\Users\\guzra\\PycharmProjects\\Diploma\\files\\lib\\site-packages\\sklearn\\model_selection\\_validation.py\", line 680, in _fit_and_score\n",
      "    estimator.fit(X_train, y_train, **fit_params)\n",
      "  File \"C:\\Users\\guzra\\AppData\\Local\\Temp\\ipykernel_12152\\2514293604.py\", line 19, in fit\n",
      "    zeros_subsample = np.random.choice(zeros_indexes, size=int(num_ones*self.zeros_ratio), replace=False, p=None)\n",
      "  File \"mtrand.pyx\", line 965, in numpy.random.mtrand.RandomState.choice\n",
      "ValueError: Cannot take a larger sample than population when 'replace=False'\n",
      "\n",
      "  warnings.warn(some_fits_failed_message, FitFailedWarning)\n",
      "\n",
      "C:\\Users\\guzra\\PycharmProjects\\Diploma\\files\\lib\\site-packages\\sklearn\\model_selection\\_validation.py:372: FitFailedWarning: \n",
      "5 fits failed out of a total of 5.\n",
      "The score on these train-test partitions for these parameters will be set to nan.\n",
      "If these failures are not expected, you can try to debug them by setting error_score='raise'.\n",
      "\n",
      "Below are more details about the failures:\n",
      "--------------------------------------------------------------------------------\n",
      "5 fits failed with the following error:\n",
      "Traceback (most recent call last):\n",
      "  File \"C:\\Users\\guzra\\PycharmProjects\\Diploma\\files\\lib\\site-packages\\sklearn\\model_selection\\_validation.py\", line 680, in _fit_and_score\n",
      "    estimator.fit(X_train, y_train, **fit_params)\n",
      "  File \"C:\\Users\\guzra\\AppData\\Local\\Temp\\ipykernel_12152\\2514293604.py\", line 19, in fit\n",
      "    zeros_subsample = np.random.choice(zeros_indexes, size=int(num_ones*self.zeros_ratio), replace=False, p=None)\n",
      "  File \"mtrand.pyx\", line 965, in numpy.random.mtrand.RandomState.choice\n",
      "ValueError: Cannot take a larger sample than population when 'replace=False'\n",
      "\n",
      "  warnings.warn(some_fits_failed_message, FitFailedWarning)\n",
      "\n"
     ]
    },
    {
     "name": "stdout",
     "output_type": "stream",
     "text": [
      "100%|██████████| 30/30 [1:02:46<00:00, 125.56s/trial, best loss: -0.4320612200987385]\n",
      "{'ensemble_quantile': 0.6552370026090856, 'scale_pos_weight': 458.56301533797273, 'zeros_ratio': 13.677052309000633}\n"
     ]
    },
    {
     "name": "stderr",
     "output_type": "stream",
     "text": [
      "C:\\Users\\guzra\\PycharmProjects\\Diploma\\files\\lib\\site-packages\\sklearn\\model_selection\\_validation.py:372: FitFailedWarning: \n",
      "5 fits failed out of a total of 5.\n",
      "The score on these train-test partitions for these parameters will be set to nan.\n",
      "If these failures are not expected, you can try to debug them by setting error_score='raise'.\n",
      "\n",
      "Below are more details about the failures:\n",
      "--------------------------------------------------------------------------------\n",
      "5 fits failed with the following error:\n",
      "Traceback (most recent call last):\n",
      "  File \"C:\\Users\\guzra\\PycharmProjects\\Diploma\\files\\lib\\site-packages\\sklearn\\model_selection\\_validation.py\", line 680, in _fit_and_score\n",
      "    estimator.fit(X_train, y_train, **fit_params)\n",
      "  File \"C:\\Users\\guzra\\AppData\\Local\\Temp\\ipykernel_12152\\2514293604.py\", line 19, in fit\n",
      "    zeros_subsample = np.random.choice(zeros_indexes, size=int(num_ones*self.zeros_ratio), replace=False, p=None)\n",
      "  File \"mtrand.pyx\", line 965, in numpy.random.mtrand.RandomState.choice\n",
      "ValueError: Cannot take a larger sample than population when 'replace=False'\n",
      "\n",
      "  warnings.warn(some_fits_failed_message, FitFailedWarning)\n",
      "\n",
      "C:\\Users\\guzra\\PycharmProjects\\Diploma\\files\\lib\\site-packages\\sklearn\\model_selection\\_validation.py:372: FitFailedWarning: \n",
      "5 fits failed out of a total of 5.\n",
      "The score on these train-test partitions for these parameters will be set to nan.\n",
      "If these failures are not expected, you can try to debug them by setting error_score='raise'.\n",
      "\n",
      "Below are more details about the failures:\n",
      "--------------------------------------------------------------------------------\n",
      "5 fits failed with the following error:\n",
      "Traceback (most recent call last):\n",
      "  File \"C:\\Users\\guzra\\PycharmProjects\\Diploma\\files\\lib\\site-packages\\sklearn\\model_selection\\_validation.py\", line 680, in _fit_and_score\n",
      "    estimator.fit(X_train, y_train, **fit_params)\n",
      "  File \"C:\\Users\\guzra\\AppData\\Local\\Temp\\ipykernel_12152\\2514293604.py\", line 19, in fit\n",
      "    zeros_subsample = np.random.choice(zeros_indexes, size=int(num_ones*self.zeros_ratio), replace=False, p=None)\n",
      "  File \"mtrand.pyx\", line 965, in numpy.random.mtrand.RandomState.choice\n",
      "ValueError: Cannot take a larger sample than population when 'replace=False'\n",
      "\n",
      "  warnings.warn(some_fits_failed_message, FitFailedWarning)\n",
      "\n",
      "C:\\Users\\guzra\\PycharmProjects\\Diploma\\files\\lib\\site-packages\\sklearn\\model_selection\\_validation.py:372: FitFailedWarning: \n",
      "5 fits failed out of a total of 5.\n",
      "The score on these train-test partitions for these parameters will be set to nan.\n",
      "If these failures are not expected, you can try to debug them by setting error_score='raise'.\n",
      "\n",
      "Below are more details about the failures:\n",
      "--------------------------------------------------------------------------------\n",
      "5 fits failed with the following error:\n",
      "Traceback (most recent call last):\n",
      "  File \"C:\\Users\\guzra\\PycharmProjects\\Diploma\\files\\lib\\site-packages\\sklearn\\model_selection\\_validation.py\", line 680, in _fit_and_score\n",
      "    estimator.fit(X_train, y_train, **fit_params)\n",
      "  File \"C:\\Users\\guzra\\AppData\\Local\\Temp\\ipykernel_12152\\2514293604.py\", line 19, in fit\n",
      "    zeros_subsample = np.random.choice(zeros_indexes, size=int(num_ones*self.zeros_ratio), replace=False, p=None)\n",
      "  File \"mtrand.pyx\", line 965, in numpy.random.mtrand.RandomState.choice\n",
      "ValueError: Cannot take a larger sample than population when 'replace=False'\n",
      "\n",
      "  warnings.warn(some_fits_failed_message, FitFailedWarning)\n",
      "\n",
      "C:\\Users\\guzra\\PycharmProjects\\Diploma\\files\\lib\\site-packages\\sklearn\\model_selection\\_validation.py:372: FitFailedWarning: \n",
      "5 fits failed out of a total of 5.\n",
      "The score on these train-test partitions for these parameters will be set to nan.\n",
      "If these failures are not expected, you can try to debug them by setting error_score='raise'.\n",
      "\n",
      "Below are more details about the failures:\n",
      "--------------------------------------------------------------------------------\n",
      "5 fits failed with the following error:\n",
      "Traceback (most recent call last):\n",
      "  File \"C:\\Users\\guzra\\PycharmProjects\\Diploma\\files\\lib\\site-packages\\sklearn\\model_selection\\_validation.py\", line 680, in _fit_and_score\n",
      "    estimator.fit(X_train, y_train, **fit_params)\n",
      "  File \"C:\\Users\\guzra\\AppData\\Local\\Temp\\ipykernel_12152\\2514293604.py\", line 19, in fit\n",
      "    zeros_subsample = np.random.choice(zeros_indexes, size=int(num_ones*self.zeros_ratio), replace=False, p=None)\n",
      "  File \"mtrand.pyx\", line 965, in numpy.random.mtrand.RandomState.choice\n",
      "ValueError: Cannot take a larger sample than population when 'replace=False'\n",
      "\n",
      "  warnings.warn(some_fits_failed_message, FitFailedWarning)\n",
      "\n",
      "C:\\Users\\guzra\\PycharmProjects\\Diploma\\files\\lib\\site-packages\\sklearn\\model_selection\\_validation.py:372: FitFailedWarning: \n",
      "5 fits failed out of a total of 5.\n",
      "The score on these train-test partitions for these parameters will be set to nan.\n",
      "If these failures are not expected, you can try to debug them by setting error_score='raise'.\n",
      "\n",
      "Below are more details about the failures:\n",
      "--------------------------------------------------------------------------------\n",
      "5 fits failed with the following error:\n",
      "Traceback (most recent call last):\n",
      "  File \"C:\\Users\\guzra\\PycharmProjects\\Diploma\\files\\lib\\site-packages\\sklearn\\model_selection\\_validation.py\", line 680, in _fit_and_score\n",
      "    estimator.fit(X_train, y_train, **fit_params)\n",
      "  File \"C:\\Users\\guzra\\AppData\\Local\\Temp\\ipykernel_12152\\2514293604.py\", line 19, in fit\n",
      "    zeros_subsample = np.random.choice(zeros_indexes, size=int(num_ones*self.zeros_ratio), replace=False, p=None)\n",
      "  File \"mtrand.pyx\", line 965, in numpy.random.mtrand.RandomState.choice\n",
      "ValueError: Cannot take a larger sample than population when 'replace=False'\n",
      "\n",
      "  warnings.warn(some_fits_failed_message, FitFailedWarning)\n",
      "\n"
     ]
    }
   ],
   "source": [
    "#hyperopt\n",
    "X = df.drop('Bankrupt?', axis=1).to_numpy()\n",
    "y = df.loc[:,'Bankrupt?'].to_numpy()\n",
    "\n",
    "def hyperopt_train_test(params):\n",
    "    clf = ResampledEnsemble(n_estimators = 100, **params)\n",
    "    return sklearn.model_selection.cross_val_score(clf, X, y, scoring = \"f1\").mean()\n",
    "\n",
    "params_space = {\n",
    "    'zeros_ratio': hyperopt.hp.lognormal('zeros_ratio', 0, 1),\n",
    "    'scale_pos_weight': hyperopt.hp.lognormal('scale_pos_weight', 0, 1),\n",
    "    'ensemble_quantile': hyperopt.hp.uniform('ensemble_quantile', 0, 1)\n",
    "}\n",
    "def f(params):\n",
    "    acc = hyperopt_train_test(params)\n",
    "    return {'loss': -acc, 'status': hyperopt.STATUS_OK}\n",
    "\n",
    "trials = hyperopt.Trials() #объект для сбора информации об ошибках\n",
    "best = hyperopt.fmin(f, params_space, algo = hyperopt.tpe.suggest, max_evals = 30 , trials = trials)\n",
    "print(best)"
   ],
   "metadata": {
    "collapsed": false,
    "pycharm": {
     "name": "#%%\n"
    }
   }
  },
  {
   "cell_type": "code",
   "execution_count": 8,
   "outputs": [],
   "source": [
    "def plot_trials(trials, param):\n",
    "    f, ax = plt.subplots(1)\n",
    "    xs = [t[\"tid\"] for t in trials.trials]\n",
    "    ys = [t['misc']['vals'][param] for t in trials.trials]\n",
    "    zs = np.array([-t[\"result\"]['loss'] for t in trials.trials])\n",
    "\n",
    "    image = ax.scatter(xs, ys, c = zs, s = 100*zs+5, linewidth = 1.5 , alpha = 1)\n",
    "    ax.set_xlabel('iteration', fontsize = 8)\n",
    "    ax.set_ylabel(param, fontsize = 8)\n",
    "    f.colorbar(image)"
   ],
   "metadata": {
    "collapsed": false,
    "pycharm": {
     "name": "#%%\n"
    }
   }
  },
  {
   "cell_type": "code",
   "execution_count": 9,
   "outputs": [
    {
     "data": {
      "text/plain": "<Figure size 640x480 with 2 Axes>",
      "image/png": "[encoded data removed]"
     },
     "metadata": {},
     "output_type": "display_data"
    },
    {
     "data": {
      "text/plain": "<Figure size 640x480 with 2 Axes>",
      "image/png": "[encoded data removed]"
     },
     "metadata": {},
     "output_type": "display_data"
    },
    {
     "data": {
      "text/plain": "<Figure size 640x480 with 2 Axes>",
      "image/png": "[encoded data removed]"
     },
     "metadata": {},
     "output_type": "display_data"
    }
   ],
   "source": [
    "plot_trials(trials, 'zeros_ratio')\n",
    "plot_trials(trials, 'scale_pos_weight')\n",
    "plot_trials(trials, 'ensemble_quantile')"
   ],
   "metadata": {
    "collapsed": false,
    "pycharm": {
     "name": "#%%\n"
    }
   }
  },
  {
   "cell_type": "code",
   "execution_count": null,
   "outputs": [],
   "source": [],
   "metadata": {
    "collapsed": false,
    "pycharm": {
     "name": "#%%\n"
    }
   }
  }
 ],
 "metadata": {
  "kernelspec": {
   "display_name": "Python 3",
   "language": "python",
   "name": "python3"
  },
  "language_info": {
   "codemirror_mode": {
    "name": "ipython",
    "version": 2
   },
   "file_extension": ".py",
   "mimetype": "text/x-python",
   "name": "python",
   "nbconvert_exporter": "python",
   "pygments_lexer": "ipython2",
   "version": "2.7.6"
  }
 },
 "nbformat": 4,
 "nbformat_minor": 0
}